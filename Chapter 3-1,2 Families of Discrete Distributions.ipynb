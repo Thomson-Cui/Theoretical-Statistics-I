{
 "cells": [
  {
   "cell_type": "markdown",
   "id": "dcc481df",
   "metadata": {},
   "source": [
    "## Families of Discrete Distributions\n",
    "We will learn about some of the most commonly used discrete distributions, including their\n",
    "- $f(x)$ (usually $F(x)$ is not available in closed form)\n",
    "    - Notation for $pmf$ that emphasizes the parameters\n",
    "        - $f(x|\\theta)$\n",
    "- Parameter space $\\Theta$ and support $\\mathcal{X}=\\{x:f(x)>0\\}$\n",
    "- $E(X),Var(X),M(t)$\n",
    "- Special feartures and connection between distributions\n",
    "\n",
    "See tables p. 621-627 in the Textbook, just like below:"
   ]
  },
  {
   "cell_type": "markdown",
   "id": "f8e78cdf",
   "metadata": {},
   "source": [
    "![描述文字](3-1-1.png)"
   ]
  },
  {
   "cell_type": "markdown",
   "id": "a6a9afb9",
   "metadata": {},
   "source": [
    "![描述文字](3-1-2.png)"
   ]
  },
  {
   "cell_type": "markdown",
   "id": "d49d1c4c",
   "metadata": {},
   "source": [
    "## Discrete Uniform Distributions\n",
    "\n",
    "Setting：\n",
    "- Have $N$ possible outcomes\n",
    "- Each outcome is equally likely\n",
    "- $\\mathcal{X}={1,2,3,...,N}$\n",
    "- $f(x) = \\frac{1}{N},\\forall x=1,2,3,...N$\n",
    "- $F(x)=\\begin{cases}\n",
    "        \\frac{|\\lambda|}{N}&1\\leq x\\leq N\\\\\n",
    "        0&x<1\\\\\n",
    "        1&x> N\n",
    "        \\end{cases}$"
   ]
  },
  {
   "cell_type": "code",
   "execution_count": 1,
   "id": "53c2d32e",
   "metadata": {},
   "outputs": [
    {
     "data": {
      "image/png": "[encoded data removed]",
      "text/plain": [
       "<Figure size 1200x600 with 2 Axes>"
      ]
     },
     "metadata": {},
     "output_type": "display_data"
    }
   ],
   "source": [
    "import numpy as np\n",
    "import matplotlib.pyplot as plt\n",
    "\n",
    "# Cumulative distribution function (CDF)\n",
    "def F_x(x, N):\n",
    "    if x < 1:\n",
    "        return 0\n",
    "    elif x > N:\n",
    "        return 1\n",
    "    else:\n",
    "        return x / N\n",
    "    \n",
    "# Updating N to 10 was already done. Let's re-plot just to confirm.\n",
    "N = 10\n",
    "\n",
    "# PMF for N=10\n",
    "x_vals = np.arange(1, N + 1)\n",
    "f_x = np.ones(N) / N\n",
    "\n",
    "# CDF for N=10\n",
    "cdf_vals = np.array([F_x(x, N) for x in range(0, N + 2)])\n",
    "x_cdf = np.arange(0, N + 2)\n",
    "\n",
    "# Plot PMF and CDF again\n",
    "plt.figure(figsize=(12, 6))\n",
    "\n",
    "# PMF\n",
    "plt.subplot(1, 2, 1)\n",
    "plt.stem(x_vals, f_x, use_line_collection=True)\n",
    "plt.title(f'PMF for N={N}')\n",
    "plt.xlabel('x')\n",
    "plt.ylabel('f(x)')\n",
    "plt.grid(True)\n",
    "\n",
    "# CDF\n",
    "plt.subplot(1, 2, 2)\n",
    "plt.step(x_cdf, cdf_vals, where='post', label='CDF', color='orange')\n",
    "plt.title(f'CDF for N={N}')\n",
    "plt.xlabel('x')\n",
    "plt.ylabel('F(x)')\n",
    "plt.grid(True)\n",
    "\n",
    "plt.tight_layout()\n",
    "plt.show()"
   ]
  },
  {
   "cell_type": "markdown",
   "id": "f9ba4393",
   "metadata": {},
   "source": [
    "### Note: \n",
    "\n",
    "The floor of a number $x$, denoted $\\lfloor x \\rfloor$, is the greatest integer less than or equal to $x$. For example:\n",
    "\n",
    "- $\\lfloor 4.7 \\rfloor = 4$\n",
    "- $\\lfloor -2.3 \\rfloor = -3$\n",
    "\n",
    "- Finite sums of powers\n",
    "\n",
    "    - $\\sum_{i=1}^{n}i=\\frac{n(n+1)}2\\quad\\sum_{i=1}^{n}i^2=\\frac{n(n+1)(2n+1)}6$\n",
    "\n",
    "- Binomial formula: For all $x, y\\in\\mathbb{R}$ and $n\\in\\mathbb{N}$\n",
    "\n",
    "    - $\\sum_{i=0}^n\\binom nix^iy^{n-i}=(x+y)^n$\n",
    "    \n",
    "- Geometric series: For $1 < r < 1$\n",
    "\n",
    "    - $\\sum_{k=0}^\\infty r^k=\\frac1{1-r}$"
   ]
  },
  {
   "cell_type": "markdown",
   "id": "740af634",
   "metadata": {},
   "source": [
    "$E(x)=\\sum_{x=1}^{N}x\\frac{1}{N}=\\frac{1}{N}\\sum_{x=1}^{N}x=\\frac{1}{N}\\frac{(N+1)N}{2}=\\frac{N+1}{2}$\n",
    "\n",
    "$E(X^{2})=\\sum_{x=1}^{n}X^{2}\\frac{1}{N}=\\frac{1}{N}\\frac{N(N+1)(2N+1)}{6}$\n",
    "\n",
    "$\\begin{aligned}\n",
    "V(x)&=\\frac{(N+1)(2N+1)}{6}-\\frac{(N+1)^{2}}{4}\\\\\n",
    "&=\\frac{2(N+1)(2N+1)-3(N+1)^{2}}{12}\\\\\n",
    "&=\\frac{(N+1)(N-1)}{12}\n",
    "\\end{aligned}$"
   ]
  },
  {
   "cell_type": "markdown",
   "id": "9af9565c",
   "metadata": {},
   "source": [
    "## Discrete Uniform Distributions – summary\n",
    "\n",
    "### Probability mass function\n",
    "\n",
    "$f(x\\mid N)=\\frac1N\\quad\\mathrm{~for~}x\\in\\{1,2,3,\\ldots,N\\}$\n",
    "- Parameter space: $N\\in\\{1,2,3,...\\}$\n",
    "\n",
    "### Mean and Variance\n",
    "\n",
    "$E(X)=\\frac{N+1}{2}\\quad\\mathrm{Var}(X)=\\frac{N^{2}-1}{12}$\n",
    "\n",
    "### Moment generating function\n",
    "\n",
    "$M_X(t)=\\sum_{x=1}^Ne^{tx}\\frac1N,\\,\\text{(No simplification available)}$"
   ]
  },
  {
   "cell_type": "markdown",
   "id": "b96df8ab",
   "metadata": {},
   "source": [
    "## Binomial distributions\n",
    "\n",
    "- Bernoulli trial: $n$ independent Bernoulli random variables\n",
    "    - $X_i$ = outcome of trial $i$ (0 or 1), $i = 1, 2, 3,...,n$\n",
    "    - Same probability of success ($p$) for all $i$\n",
    "- $Y$ = total number of successes in $n$ trials\n",
    "    - Support for $\\mathcal{Y}=\\{0,1,2,...n\\}$\n",
    "    - $Y=X_1+X_2+\\cdots+X_n$\n",
    "- pmf: $f(y|n,p)=\\binom nyp^y(1-p)^{n-y}\\quad\\mathrm{~for~}y=0,1,\\ldots,n$\n",
    "- How to prove the $\\sum_{y=0}^n f(y) = 1$?\n",
    "    - Proof using the Binomial Theorem:\n",
    "        - The binomial theorem states that for any real numbers $p$ and $1-p$, and any positive integer $n$:\n",
    "            - $(p+(1-p))^n=\\sum_{k=0}^n\\binom{n}{k}p^k(1-p)^{n-k} = 1$\n",
    "- MGF: $M(t) = (e^tp+1-p)^n$    \n",
    "    $\\begin{align}\n",
    "    M(t)&=E(e^{ty})\\\\\n",
    "         &=\\sum_{k=0}^ne^{ty}\\binom{n}{y}p^k(1-p)^{n-y}\\\\\n",
    "         &=\\sum_{k=0}^n\\binom{n}{y}(e^tp)^y(1-p)^{n-y}\\\\\n",
    "         &=(e^tp+1-p)^n\n",
    "    \\end{align}$\n",
    "- $E(X)=np$, $Var(X)=np(1-p)$\n",
    "- Special case: Bernoulli distribution if $n = 1$"
   ]
  },
  {
   "cell_type": "markdown",
   "id": "ea34d91f",
   "metadata": {},
   "source": [
    "## Hypergeometric distributions\n",
    "- Sample from a finite population, without replacement\n",
    "- Have a population of N items, M of which are of the type of interest\n",
    "    - Think: $N$ balls in an urn, $M$ of which are red\n",
    "- Randomly pick $K$ items, without replacement\n",
    "    - and unordered\n",
    "- Random variable of interest:\n",
    "    - $X$ = number of items of type interested in the sample\n",
    "- PMF:\n",
    "    - $f(x|N,M,k)=\\frac{\\binom Mx\\binom{N-M}{k-x}}{\\binom Nk},\\,x\\in\\{0,1,2...k\\}$\n",
    "    - $\\sum_{x=0}^k f(x|N,M,k) = 1$, $\\sum_{x=0}^k\\binom Mx\\binom{N-M}{k-x}=\\binom Nk$\n",
    "- MGF: no simplification available\n",
    "- Pre-Knowledge: $\\binom{N}{K}=\\frac{N}{K}\\binom{N-1}{K-1}$\n",
    "- $E(X) = \\frac{KM}{N}$, $Var(X)={\\frac{KM}N\\frac{(N-M)}N\\frac{(N-K)}{N-1}}$\n",
    "\n",
    "    $\\begin{align}\n",
    "    E(X)&=\\sum_{x=0}^k x \\frac{\\binom Mx\\binom{N-M}{k-x}}{\\binom Nk}\\\\\n",
    "        &=\\sum_{x=1}^k \\frac{\\frac{M!}{(x-1)!(M-x)!}\\binom{N-M}{k-x}}{\\binom Nk},\\,\\text{let's set }t=x-1,x=t+1.\\\\\n",
    "        &=\\sum_{t=0}^{k-1}\\frac{\\frac{M(M-1)!}{t!((M-1)-t)!}\\binom{N-M}{k-t-1}}{\\binom{N}{k}}\\\\\n",
    "        &=M\\sum_{t=0}^{k-1}\\frac{\\binom{M-1}{t}\\binom{N-M}{k-t-1}}{\\binom{N}{k}}\\\\\n",
    "        &=M\\sum_{t=0}^{k-1}\\frac{\\binom{M-1}{t}\\binom{N-M}{k-t-1}}{\\frac{N}{k}\\binom{N-1}{k-1}}\\\\\n",
    "        &=\\frac{kM}{N}\\sum_{t=0}^{k-1}\\frac{\\binom{M-1}{t}\\binom{N-M}{k-t-1}}{\\binom{N-1}{k-1}}\\\\\n",
    "        &=\\frac{KM}{N}\n",
    "    \\end{align}$\n",
    "    \n",
    "    $\\begin{align}\n",
    "    E(X(X-1))&=\\sum_{x=0}^k x(x-1) \\frac{\\binom Mx\\binom{N-M}{k-x}}{\\binom Nk}\\\\\n",
    "        &=\\sum_{x=2}^k \\frac{\\frac{M!}{(x-2)!(M-x)!}\\binom{N-M}{k-x}}{\\binom Nk},\\,\\text{let's set }t=x-2,x=t+2.\\\\\n",
    "        &=\\sum_{t=0}^{k-2}\\frac{\\frac{M(M-1)(M-2)!}{t!((M-2)-t)!}\\binom{N-M}{k-t-2}}{\\binom{N}{k}}\\\\\n",
    "        &=M(M-1)\\sum_{t=0}^{k-2}\\frac{\\binom{M-2}{t}\\binom{N-M}{k-t-2}}{\\binom{N}{k}}\\\\\n",
    "        &=M(M-1)\\sum_{t=0}^{k-2}\\frac{\\binom{M-2}{t}\\binom{N-M}{k-t-2}}{\\frac{N(N-1)}{k(k-1)}\\binom{N-2}{k-2}}\\\\\n",
    "        &=\\frac{k(k-1)M}{N(N-1)}\\sum_{t=0}^{k-2}\\frac{\\binom{M-2}{t}\\binom{N-M}{k-t-1}}{\\binom{N-1}{k-1}}\\\\\n",
    "        &=\\frac{K(K-1)M(M-1)}{N(N-1)}\n",
    "    \\end{align}$\n",
    "    \n",
    "    $\\begin{align}\n",
    "    E(X^2)&=E(X(X-1))+E(X)\\\\\n",
    "          &=\\frac{K(K-1)M(M-1)}{N(N-1)}+\\frac{KM}{N}\\\\\n",
    "          &=\\frac{KM[(K-1)(M-1)+(N-1)]}{N(N-1)}     \n",
    "    \\end{align}$"
   ]
  },
  {
   "cell_type": "markdown",
   "id": "723b3557",
   "metadata": {},
   "source": [
    "$\\begin{align}\n",
    "Var(X)&=E(X^2)-E(X)^2\\\\\n",
    "      &=\\frac{KM[(K-1)(M-1)+(N-1)]}{N(N-1)}-\\frac{K^2M^2}{N^2}\\\\\n",
    "      &=\\frac{KM}N\\frac{(N-M)}N\\frac{(N-K)}{N-1}\n",
    "\\end{align}$"
   ]
  },
  {
   "cell_type": "markdown",
   "id": "2fe8cefd",
   "metadata": {},
   "source": [
    "- Compare to Binomial Distribution with $n = K$ and $p=\\frac{M}{N}$\n",
    "    - $E(X) = np = \\frac{KM}{N}$\n",
    "    - $Var(X)=np(1-p)\\frac{N-K}{N-1}\\leq np(1-p)$\n",
    "    - Same mean but smaller variance than a Binomial random variable\n",
    "    - Variance similar if $N$ is big and $K<<N$"
   ]
  },
  {
   "cell_type": "markdown",
   "id": "513eef3e",
   "metadata": {},
   "source": [
    "## Poisson distributions\n",
    "- PMF: $f(x\\mid\\lambda)=\\frac{e^{-\\lambda}\\lambda^x}{x!},\\,x=\\{0,1,2,3,...\\},\\lambda>0$\n",
    "\n",
    "    $\\begin{align}\n",
    "    f(x\\mid\\lambda)&=\\frac{e^{-\\lambda}\\lambda^x}{x!}\\\\\n",
    "                   &=\\frac{\\lambda e^{\\lambda} \\lambda^{x-1}}{x(x-1)!}\\\\\n",
    "                   &=\\frac{\\lambda}{x}f(x-1)\\\\\n",
    "                   &=\\frac{\\lambda}{x}P(X=x-1)\\\\\n",
    "    \\end{align}$\n",
    "- $E(X)=\\lambda$, $Var(X)=\\lambda$, $M_X(t)=\\exp\\left(\\lambda\\left(e^t-1\\right)\\right)$"
   ]
  },
  {
   "cell_type": "markdown",
   "id": "7c18d9fd",
   "metadata": {},
   "source": [
    "## Geometric distributions\n",
    "- $X=$ number of trials until (and including) we get the first success\n",
    "- Let $p$ be the probability of success for each trial\n",
    "- PMF: $f(x)=(1-p)^{x-1}p,\\,\\forall x=\\{1,2,3...\\}$\n",
    "- $\\sum_{x=1}^\\infty(1-p)^{x-1}p=p\\sum_{x=1}^\\infty(1-p)^{x-1}=p\\frac{1}{1-(1-p)}=1$\n",
    "- CDF: $F(x) = 1-(1-p)^x$\n",
    "- $E(X)=\\frac{1}{p}$, $Var(X)=\\frac{1-p}{p^2}$\n",
    "- $M_X(t)=\\frac{pe^t}{1-(1-p)e^t},\\,t<-log(1-p)$\n",
    "- Geometric series: For $-1 < r < 1$, $\\sum_{k=0}^\\infty r^k=\\frac1{1-r}$\n",
    "- Geometric sum: For $r\\neq 1$, $\\sum_{k=0}^nr^k=\\frac{1-r^{n+1}}{1-r}$\n",
    "- If $X\\sim Geometric(p)$, then $P(X>n+m|X>n)=P(X>m)$\n",
    "- Prove:\n",
    "    - CDF Proof:\n",
    "    \n",
    "    $\\begin{align}\n",
    "        F(X)&=\\sum_{u=1}^{x}(1-p)^{u-1}p,\\,\\text{set }t=u-1\\\\\n",
    "            &=p\\sum_{t=0}^{x-1}(1-p)^t\\\\\n",
    "            &=p\\frac{1-(1-p)^x}{1-(1-p)}\\\\\n",
    "            &=1-(1-p)^x\n",
    "    \\end{align}$\n",
    "    \n",
    "    $\\begin{align}\n",
    "        M_X(t)&=\\sum_{x=1}^\\infty e^{xt}p(1-p)^{x-1},\\,k=x-1\\\\\n",
    "              &=pe^t\\sum_{k=0}^\\infty e^{kt}(1-p)^k\\\\\n",
    "              &=pe^t\\sum_{k=0}^\\infty (e^t(1-p))^k\\\\\n",
    "              &=\\frac{pe^t}{1-(e^t(1-p))},\\,t<-log(1-p)\n",
    "    \\end{align}$"
   ]
  },
  {
   "cell_type": "markdown",
   "id": "bf51abf2",
   "metadata": {},
   "source": [
    "## Negative Binomial\n",
    "- X = number of failures before the $r$ success\n",
    "- Bernoulli trials until we have $r$ successes\n",
    "- Let $p$ be the probabilty of success for each trial\n",
    "- PMF: $f(x|r,p)=\\binom{r+x-1}{x}p^r(1-p)^x,\\,x=\\{0,1,2,3...\\}$\n",
    "- Parameter space: $p\\in[0,1],r\\in\\mathbb{N}$\n",
    "- $E(X)=\\frac{r(1-p)}{p}$, $Var(X)=\\frac{r(1-p)}{p^2}$\n",
    "- MGF: $M_X(t)=\\left(\\frac p{1-(1-p)e^t}\\right)^r,\\,t<-log(1-p)$\n",
    "- $\\sum_{x=0}^{\\infty}f_{(x)}=\\sum_{x=0}^{\\infty}(\\begin{matrix}x+r-1\\\\x\\end{matrix})p^{r}(1-p)^{x}=1$\n",
    "- Negative Binomial is often used to model counts as an alternative to Poisson"
   ]
  }
 ],
 "metadata": {
  "kernelspec": {
   "display_name": "Python 3 (ipykernel)",
   "language": "python",
   "name": "python3"
  },
  "language_info": {
   "codemirror_mode": {
    "name": "ipython",
    "version": 3
   },
   "file_extension": ".py",
   "mimetype": "text/x-python",
   "name": "python",
   "nbconvert_exporter": "python",
   "pygments_lexer": "ipython3",
   "version": "3.9.13"
  }
 },
 "nbformat": 4,
 "nbformat_minor": 5
}
