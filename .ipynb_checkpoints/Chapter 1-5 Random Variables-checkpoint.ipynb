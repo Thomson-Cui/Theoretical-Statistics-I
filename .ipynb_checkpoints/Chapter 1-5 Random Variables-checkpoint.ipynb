{
 "cells": [
  {
   "cell_type": "markdown",
   "id": "568a7799",
   "metadata": {},
   "source": [
    "# Random Variables\n",
    "\n",
    "A random variable is a variable that takes on numerical values based on the outcome of a random phenomenon. It assigns a real number to each outcome in a sample space of a random experiment.\n",
    "\n",
    "**Book definition:**\n",
    "A random variable is a function from a sample space $S$ into the real numbers.\n",
    "\n",
    "\n",
    "Recall a probability model: $(S,\\mathcal{B},P)$\n",
    "- Sample space $S$\n",
    "- $\\sigma-algebra$ $\\mathcal{B}$\n",
    "- Probability function $P:\\mathcal{B}\\to[0,1]$"
   ]
  },
  {
   "cell_type": "markdown",
   "id": "3d25e5ab",
   "metadata": {},
   "source": [
    "`Random Variable` is a mapping function that maps a sample space $S = \\{s_1, s_2, ..., s_n\\}$ into the real numbers, like $f(x)$, but here is $X(s_i)=r,r\\in\\mathbb{R}$.\n",
    "\n",
    "\n",
    "$$X:S\\to\\mathbb{R}$$\n",
    "\n",
    "Technically, random variable $X$ has to satisfy that $\\forall r \\in\\mathbb{R}$, the set $A_r=\\{s:X(s)\\leq r\\}$ is a set in $\\mathcal{B}$. We can think of random variables as a numerical representation of the outcomes in $S$.\n",
    "\n",
    "We can define a random variable $X$ with range $\\chi=\\{x_1,...,x_m\\}$. We can define a probability function $P_X$ on $chi$ in the following way. We will observe $X=x_i$, if and only if the outcome of the random experiment is an $s_j\\in S$ such that $X(s_j)=x_i$. Thus,\n",
    "\n",
    "$$P_{X}(X=x_{i})=P\\left(\\{s_{j}\\in S:X(s_{j})=x_{i}\\}\\right)\\tag{1}$$\n",
    "\n",
    "For the fomular (1), we can simply write $P_X(X=x_i)$ as $P(X=x_i)$.\n",
    "\n"
   ]
  },
  {
   "cell_type": "markdown",
   "id": "1d342ab8",
   "metadata": {},
   "source": [
    "**The definition of $\\chi$**\n",
    "\n",
    "Range of a random variable $X$ is $\\chi$, which can be written as:\n",
    "\n",
    "$$\\mathcal{X}:\\{r\\in\\mathbb{R}:\\exists s\\in S\\text{ such that }X(s)=r\\}$$\n",
    "\n",
    "- If $\\chi$ is finite or countable, we say that $X$ is a discrete random variable.\n",
    "- If $\\chi$ is uncountable, we say that $X$ is a continuous random variable."
   ]
  },
  {
   "cell_type": "markdown",
   "id": "a2d95f69",
   "metadata": {},
   "source": [
    "## Induced probability function\n",
    "\n",
    "Let $(S,\\mathcal{B},P)$ be a probability model. A probability function induced by $X$ is defined as follows.\n",
    "- If $X$ is a discrete random variable:\n",
    "$$P_X(X=x)=P(\\{s\\in S:X(s)=x\\})$$\n",
    "- If $X$ is a continuous random variable:\n",
    "$$P_X(X\\in R)=P\\left(\\{s\\in S:X(s)\\in R\\}\\right)$$\n"
   ]
  }
 ],
 "metadata": {
  "kernelspec": {
   "display_name": "Python 3 (ipykernel)",
   "language": "python",
   "name": "python3"
  },
  "language_info": {
   "codemirror_mode": {
    "name": "ipython",
    "version": 3
   },
   "file_extension": ".py",
   "mimetype": "text/x-python",
   "name": "python",
   "nbconvert_exporter": "python",
   "pygments_lexer": "ipython3",
   "version": "3.9.13"
  }
 },
 "nbformat": 4,
 "nbformat_minor": 5
}
