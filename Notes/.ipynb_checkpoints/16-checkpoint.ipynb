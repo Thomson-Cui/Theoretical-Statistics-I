{
 "cells": [
  {
   "cell_type": "markdown",
   "metadata": {},
   "source": [
    "## Covariance and Correlation"
   ]
  },
  {
   "cell_type": "markdown",
   "metadata": {},
   "source": [
    "- Definition: Let $(X,Y)$ be a random vector with $E(X)=\\mu_X$, $Var(X)=\\sigma_X^2$, $E(Y)=\\mu_Y$, $Var(Y)=\\sigma_Y^2$. We define\n",
    "\n",
    "    $Cov(X,Y)=E((X-\\mu_X)(Y-\\mu_Y))=\\int\\int(x-\\mu_X)(y-\\mu_Y)f(x,y)dxdy$\n",
    "\n",
    "    $Cor(X,Y)=\\rho_{XY}=\\frac{Cov(X,Y)}{\\sigma_X\\sigma_Y}$\n",
    "\n",
    "- Measures of the strength of a linear relationship between 2 random variables\n",
    "- Note: $Cov(X,X)=E((X-\\mu_X)(X-\\mu_X))=Var(X)$\n",
    "- Theorem: $Cov(X,Y)=E(XY)-\\mu_X\\mu_Y$\n",
    "    - Proof:\n",
    "\n",
    "        $\\begin{aligned}\n",
    "        Cov(X,Y)&=E((X-\\mu_X)(Y-\\mu_Y))\\\\\n",
    "                &=E(XY-X\\mu_Y-Y\\mu_X+\\mu_X\\mu_Y)\\\\\n",
    "                &=E(XY)-\\mu_X\\mu_Y-\\mu_X\\mu_Y+\\mu_X\\mu_Y\\\\\n",
    "                &=E(XY)-\\mu_X\\mu_Y\n",
    "        \\end{aligned}$"
   ]
  },
  {
   "cell_type": "markdown",
   "metadata": {},
   "source": [
    "![1](16-1.jpg)"
   ]
  },
  {
   "cell_type": "markdown",
   "metadata": {},
   "source": [
    "### Expand\n",
    "\n",
    "This image illustrates the effect of different correlation ($\\rho$) values on the shape of a bivariate Gaussian (or normal) distribution. \n",
    "\n",
    "Each row shows the distribution for different correlation values while keeping the variances ($\\sigma_X$ and $\\sigma_Y$) constant. The left side of each pair displays a 3D surface plot, while the right side shows the corresponding contour plot.\n",
    "\n",
    "Here's a breakdown of the configurations:\n",
    "\n",
    "1. **Top Row**: $\\rho = 0$ (no correlation)\n",
    "   - When the correlation is zero, the contours are circular or symmetric around the center because the two variables are independent. \n",
    "\n",
    "2. **Middle Row**: $\\rho = 0.75$ (positive correlation)\n",
    "   - With positive correlation, the contour elongates along the line $y = x$, indicating that as $X$ increases, $Y$ tends to increase as well. The 3D plot shows an ellipsoid tilted along this direction.\n",
    "\n",
    "3. **Bottom Row**: $\\rho = -0.75$ (negative correlation)\n",
    "   - With negative correlation, the contour elongates along the line $y = -x$, meaning that as $X$ increases, $Y$ tends to decrease. The 3D plot's ellipsoid is tilted along this anti-diagonal direction.\n",
    "\n",
    "The left and right columns within each row indicate two different variances for $X$ relative to $Y$:\n",
    "- **Left Column**: $\\sigma_X = \\sigma_Y$\n",
    "- **Right Column**: $2\\sigma_X = \\sigma_Y$\n",
    "\n",
    "These variances affect the spread of the distribution. When $\\sigma_X$ is twice $\\sigma_Y$, the distribution elongates more along the $X$-axis.\n"
   ]
  },
  {
   "cell_type": "markdown",
   "metadata": {},
   "source": [
    "### Continuous example 2\n",
    "- \n",
    "    $f(x,y) = \\left\\{\\begin{array}{ll}8xy&\\mathrm{if~}0<y<x<1\\\\0&\\mathrm{otherwise}\\end{array}\\right.$\n",
    "\n",
    "    $f_X(x) = 4x^3I_{[0,1]}(x)$\n",
    "\n",
    "    $f_{Y}(y) =4(y-y^3)~I_{[0,1]}(y)$\n",
    "\n",
    "- Find the covariance and correlation for this pdf.\n",
    "- First find $\\mu_X$ and $\\mu_Y$\n",
    "\n",
    "    $\\mu_X=\\int_{0}^1 x\\cdot 4x^3 dx=\\frac{4}{5}x^5|_0^1=\\frac{4}{5}$\n",
    "\n",
    "    $\\mu_Y=\\int_{0}^1 y\\cdot 4(y-y^3)dy=\\frac{4}{3}y^3-\\frac{4}{5}y^5|_0^1=\\frac{8}{15}$\n",
    "\n",
    "    $\\begin{aligned}\n",
    "    E(XY)\n",
    "    &=\\int\\int xyf(x,y)dxdy\\\\\n",
    "    &=\\int\\int 8x^2y^2dxdy,\\,\\big(y\\in(0,x),x\\in(0,1)\\big)\\\\\n",
    "    &=\\int_{0}^1 8x^2 \\int_{0}^x y^2 dydx\\\\\n",
    "    &=\\int_{0}^1 \\frac{8}{3}x^5 dx \\\\\n",
    "    &=\\frac{8}{18}x^6|_{0}^1\\\\\n",
    "    &=\\frac{4}{9}\n",
    "    \\end{aligned}$\n",
    "\n",
    "    $Cov(X,Y)=\\frac{4}{9}-\\frac{4}{5}\\cdot\\frac{8}{15}=\\frac{4}{225}$\n",
    "\n",
    "    $\\sigma_X^2=\\int_{0}^1 x^2\\cdot 4x^3dx - (\\frac{4}{5})^2=\\frac{2}{75}$\n",
    "\n",
    "    $\\sigma_Y^2=\\int_{0}^{1} y^2\\cdot4(y-y^3)dy - (\\frac{4}{5})^2=\\frac{11}{225}$\n",
    "\n",
    "    $Cor(X,Y)=\\frac{\\frac{4}{225}}{\\sqrt{\\frac{2}{75}}\\sqrt{\\frac{11}{225}}}=0.4924$\n",
    "\n"
   ]
  },
  {
   "cell_type": "markdown",
   "metadata": {},
   "source": [
    "### 3 coins example\n",
    "\n",
    "$\\begin{array}{c|cccc|c}\\mathrm{f(x,y)}&0&1&2&3&f_X(x)\\\\\\hline0&\\frac18&\\frac28&\\frac18&0&\\frac12\\\\1&0&\\frac18&\\frac28&\\frac18&\\frac12\\\\\\hline f_Y(y)&\\frac18&\\frac38&\\frac38&\\frac18\\end{array}$\n",
    "\n",
    "- $X = 0,1$ and $Y=0,1,2,3$ \n",
    "- $Y\\sim Binomial(3,0.5)$ and $X\\sim Bernoulli(0.5)$\n",
    "    \n",
    "    $\\mu_X=0.5,\\sigma_X=\\sqrt{1\\cdot 0.5\\cdot(1-0.5)}=0.5$\n",
    "\n",
    "    $\\mu_Y=3\\cdot 0.5=1.5, \\sigma_Y=\\sqrt{3\\cdot 0.5\\cdot 0.5}=0.5\\sqrt{3}$\n",
    "\n",
    "\n",
    "- Find the Covariance and Correlation for this pmf.\n",
    "\n",
    "    $\\begin{aligned}\n",
    "    E(XY)&=\\sum_{x,y}xyf(x,y)=\\sum_{x=0}^1\\sum_{y=0}^3xyf(x,y),\\,(Search~table)\\\\\n",
    "         &=0\\cdot0\\cdot \\frac{1}{8}+0\\cdot1\\cdot\\frac{2}{8}+0\\cdot 2\\cdot \\frac{1}{8}+0\\cdot 3\\cdot 0+1\\cdot 0\\cdot 0\\\\\n",
    "         &~~~~+1\\cdot 1\\cdot\\frac{1}{8}+1\\cdot 2\\cdot\\frac{2}{8}+1\\cdot 3\\cdot\\frac{1}{8}=1\n",
    "    \\end{aligned}$\n",
    "\n",
    "    $Cov(X,Y)=E(XY)-\\mu_X\\mu_Y=1-1.5\\cdot 0.5=0.25$\n",
    "\n",
    "    $Cor(X,Y)=\\frac{Cov(X,Y)}{\\sigma_X\\sigma_Y}=\\frac{0.5}{0.5\\cdot 0.5\\sqrt{3}}=0.577$"
   ]
  },
  {
   "cell_type": "markdown",
   "metadata": {},
   "source": [
    "## Variance and covariance"
   ]
  },
  {
   "cell_type": "markdown",
   "metadata": {},
   "source": [
    "- Theorem: Let $(X,Y)$ be a random vector and let $a,b$ be constants, then \n",
    "        \n",
    "    $Var(aX+bY)=a^2Var(X)+b^2Var(Y)+2abCov(X,Y)$"
   ]
  },
  {
   "cell_type": "markdown",
   "metadata": {},
   "source": [
    "#### Proof:\n",
    "$\\begin{aligned}\n",
    "&Var(aX+bY)\\\\\n",
    "&=E\\big((aX+bY-E(aX+bY))^2\\big)\\\\\n",
    "&=E\\big((aX+bY-a\\mu_X-b\\mu_Y)^2\\big)\\\\\n",
    "&=E\\big(a^2(X-\\mu_X)^2\\big)+E\\big(b^2(Y-\\mu_Y)^2\\big)+E\\big(2ab(X-\\mu_X)(Y-\\mu_Y)\\big)\\\\\n",
    "&=a^2Var(X)+b^2Var(Y)+2abCov(X,Y)\n",
    "\\end{aligned}$"
   ]
  },
  {
   "cell_type": "markdown",
   "metadata": {},
   "source": [
    "## Correlation"
   ]
  },
  {
   "cell_type": "markdown",
   "metadata": {},
   "source": [
    "#### Theorem\n",
    "Let $(X,Y)$ be a random vector and let $\\rho_{XY}=Cor(X,Y)$. Then\n",
    "- a. -1 $\\leq \\rho_{XY} \\leq$ 1\n",
    "- b. $|\\rho_{XY}|$ = 1, **if and only if** there exists a constant $a \\neq 0$ and $b$ such that \n",
    "    - $P(Y=aX+b)=1$"
   ]
  },
  {
   "cell_type": "markdown",
   "metadata": {},
   "source": [
    "#### Proof (a): -1 $\\leq \\rho_{XY} \\leq$ 1\n",
    "\n",
    "$\\begin{aligned}\n",
    "&Var(\\frac{1}{\\sigma_X}X+\\frac{1}{\\sigma_Y}Y)\\geq 0,\\,(\\text{Variance is always } \\geq 0)\\\\\n",
    "&\\Rightarrow \\frac{1}{\\sigma_X^2}V(X)+\\frac{1}{\\sigma_Y^2}V(Y)+2\\frac{1}{\\sigma_X}\\frac{1}{\\sigma_Y}Cov(X,Y)\\geq 0\\\\\n",
    "&\\Rightarrow 1+1+2\\rho_{XY}\\geq 0 \\Rightarrow \\rho_{XY}\\geq -1\n",
    "\\end{aligned}$"
   ]
  },
  {
   "cell_type": "markdown",
   "metadata": {},
   "source": [
    "$\\begin{aligned}\n",
    "&Var(\\frac{1}{\\sigma_X}X-\\frac{1}{\\sigma_Y}Y)\\geq 0,\\,(\\text{Variance is always } \\geq 0)\\\\\n",
    "&\\Rightarrow \\frac{1}{\\sigma_X^2}V(X)+\\frac{1}{\\sigma_Y^2}V(Y)-2\\frac{1}{\\sigma_X}\\frac{1}{\\sigma_Y}Cov(X,Y)\\geq 0\\\\\n",
    "&\\Rightarrow 1+1-2\\rho_{XY}\\geq 0 \\Rightarrow \\rho_{XY}\\leq 1\n",
    "\\end{aligned}$"
   ]
  },
  {
   "cell_type": "markdown",
   "metadata": {},
   "source": [
    "#### What part (b) tells us:\n",
    "\n",
    "- $\\rho_{XY}=1$ or $\\rho_{XY}=-1$ can only happen if there is an **exact linear relationship** between $X$ and $Y$\n",
    "- $\\rho_{XY}=1\\Leftrightarrow a>0$ and $\\rho_{XY}=-1\\Leftrightarrow < 0$\n",
    "    - sign of correlation = sign of the slope\n",
    "\n"
   ]
  },
  {
   "cell_type": "markdown",
   "metadata": {},
   "source": [
    "#### Extension\n",
    "\n",
    "- Slope a:\n",
    "\n",
    "    $\\rho_{XY}=\\frac{\\operatorname{cov}(X,Y)}{\\sigma_X\\sigma_Y}=\\frac{a\\cdot\\sigma_X^2}{\\sigma_X\\cdot\\sigma_Y}=\\frac{a\\cdot\\sigma_X}{\\sigma_Y}=\\plusmn1$\n",
    "\n",
    "    $\\Rightarrow a=\\frac{\\sigma_Y}{\\sigma_X}\\quad\\mathrm{or}\\quad a=-\\frac{\\sigma_Y}{\\sigma_X}$"
   ]
  },
  {
   "cell_type": "markdown",
   "metadata": {},
   "source": [
    "## Covariance and independence\n",
    "- Theorem: If $X$ and $Y$ are independent random variables then\n",
    "    - $Cov(X,Y)=0$ and $\\rho_{XY}=0$\n",
    "- Proof:\n",
    "    - Recall: If $X, Y$ are independent, $E(g(X)h(Y))=E(g(X))E(h(Y))$.\n",
    "\n",
    "        $\\begin{aligned}\n",
    "        &Cov(X,Y)\\\\\n",
    "        &=E(XY)-\\mu_X\\mu_Y\\\\\n",
    "        &=E(X)E(Y)-\\mu_X\\mu_Y\\\\\n",
    "        &=\\mu_X\\mu_Y-\\mu_X\\mu_Y=0\n",
    "        \\end{aligned}$\n",
    "\n",
    "- But: If $Cov(X,Y)=0$, we can not get $X,Y$ are independent.\n",
    "    - Example:\n",
    "        $\n",
    "        X = \\text{Uniform}( -1, 1) \\quad \\text{and} \\quad Y = X^2\n",
    "        $\n",
    "\n",
    "        - The expected values are:\n",
    "            $\n",
    "            \\mathbb{E}[X] = 0, \\quad \\mathbb{E}[Y] = \\mathbb{E}[X^2] = \\frac{1}{3}\n",
    "            $\n",
    "        - The covariance is:\n",
    "            $\n",
    "            \\text{cov}(X, Y) = \\mathbb{E}[XY] - \\mathbb{E}[X] \\mathbb{E}[Y] = \\mathbb{E}[X \\cdot X^2] - 0 \\cdot \\frac{1}{3} = \\mathbb{E}[X^3]\n",
    "            $\n",
    "            Since $X$ is uniformly distributed over $[-1, 1]$, $\\mathbb{E}[X^3] = 0$, so the covariance $\\text{cov}(X, Y) = 0$.\n",
    "            \n",
    "        However, $X$ and $Y$ are clearly **not independent**, because knowing $X$ gives you complete information about $Y$ (since $Y = X^2$).\n",
    "\n",
    "\n",
    "\n",
    "\n",
    "\n"
   ]
  },
  {
   "cell_type": "markdown",
   "metadata": {},
   "source": [
    "## Multivariate random vectors"
   ]
  },
  {
   "cell_type": "markdown",
   "metadata": {},
   "source": [
    "- $n$-dimensional random vector\n",
    "    - $X=(X_1,X_2,...,X_n)$\n",
    "- $f(\\underline{x})=f(x_1,x_2,\\cdots,x_n)$\n",
    "- Most things follow naturally from the $n=2$ setting\n",
    "- Example: $X=(X_1,X_2,...,X_n)$\n",
    "    - (joint) marginal distribution of $(X_1,X_3,X_4)$:\n",
    "\n",
    "        $f_{1,3,4}(x_1,x_3,x_4)=\\int_{-\\infty}^{\\infty}\\int_{-\\infty}^{\\infty}f(x_1,x_2,\\cdots,x_n)dx_2dx_5$\n",
    "    - (joint) conditional distribution of $(X_1,X_3)$ given $(X_2,X_4,X_5)$:\n",
    "\n",
    "        $f(x_1,x_3|x_2,x_4,x_5)=\\frac{f(x_1,x_2,\\cdots,x_n)}{f(x_2,x_4,x_5)}$\n",
    "    "
   ]
  },
  {
   "cell_type": "markdown",
   "metadata": {},
   "source": [
    "## Mutually independent random variables\n",
    "- There are some generalizations for $n>2$ to take note of.\n",
    "- Definition\n",
    "\n",
    "    Let $X=(X_1,X_2,...,X_n)$ be a random vector with joint pdf/pmf $f(x_1,x_2,...,x_n)$ and marginal pdfs/pmfs $f_1(x_1),f_2(x_2),...,f_n(x_n)$. $X_1,X_2,...,X_n$ are called mutually independent random variables if\n",
    "\n",
    "    $f(\\underline{x})=f(x_1,x_2,...,x_n)=f_1(x_1)f_2(x_2)...f_n(x_n),\\forall x\\in \\mathbb{R}^n$\n",
    "\n",
    "    $\\Rightarrow Cov(x_i,x_j)=0,\\forall i\\neq j$\n",
    "\n",
    "    - If $X_1, X_2, ..., X_n$ are random vectors with joint pdf/pmf $f(x_1,x_2,...,x_n)$ and (joint) marginal pdfs/pmfs $f_1(x_1),f_2(x_2),...,f_n(x_n)$, we say that $X_1,X_2,...,X_n$ are mutually independent random vectors if\n",
    "\n",
    "        $f(x_1,x_2,...,x_n)=\\prod_{i=1}^nf_i(x_i),\\forall(x_1,x_2,...,x_n)$"
   ]
  },
  {
   "cell_type": "markdown",
   "metadata": {},
   "source": [
    "## Mutually independent random varibales"
   ]
  },
  {
   "cell_type": "markdown",
   "metadata": {},
   "source": [
    "- Theorem:\n",
    "    - Let $X_1,X_2,...,X_n$ be mutually **independent random** variables. Then for any functions $g_1(\\cdot),...,g_n(\\cdot)$\n",
    "        - $E(g_1(X_1)g_2(X_2)\\cdots g_n(X_n))=E(g_1(X_1))E(g_2(X_2))\\cdots E(g_n(X_n))$\n",
    "        - $M_{X_1+X_2+\\cdots+X_n}(t)=M_{X_1}(t)M_{X_2}(t)\\cdots M_{X_n}(t)$\n",
    "            - $=(M_{X_1}(t))^n$, if all $x_i$ has same distributions.\n",
    "        - $M_{b+a_1X_1+a_2X_2+...+a_nX_n}(t)=e^{tb} M_{X_1}(a_1t)M_{X_2}(a_2t)...M_{X_n}(a_nt)$\n",
    "        - $g_1(X_1),g_2(X_2),...,g_n(X_n)$ are mutually independent\n"
   ]
  },
  {
   "cell_type": "markdown",
   "metadata": {},
   "source": [
    "- Theorem\n",
    "    - $X_1,X_2,...,X_n$ are mutually independent random variables if and only if the joint pdf/pmf can be written as\n",
    "\n",
    "        $f(x_1,x_2,...,x_n)=g_1(x_1)g_2(x_2)...g_n(x_n),\\forall (x_1,x_2,...,x_n)\\in\\mathbb{R}^2$\n",
    "\n"
   ]
  },
  {
   "cell_type": "markdown",
   "metadata": {},
   "source": [
    "### Example"
   ]
  },
  {
   "cell_type": "markdown",
   "metadata": {},
   "source": [
    "- Let $X_1,X_2,...,X_n$ be **mutually independent** random variables where\n",
    "\n",
    "    $X_i\\sim N(\\mu_i,\\sigma_i^2),\\,i=1,2,...,n$\n",
    "\n",
    "    Find the distribution of \n",
    "\n",
    "    $Y = a_1X_1+a_2X_2,...,a_nX_n+b$\n",
    "\n",
    "    Know: $M_{X_i}=e^{t\\mu_i+t^2\\sigma_i^2/2},~for~i=1,2,...,n$\n",
    "\n"
   ]
  },
  {
   "cell_type": "markdown",
   "metadata": {},
   "source": [
    "$\\begin{aligned}\n",
    "&Y=a_1X_1+a_2X_2+...+a_nX_n+b\\\\\n",
    "&\\Rightarrow M_{Y}(t)=e^{tb}\\prod_{i=1}^{n} M_{X_i}(at)\\\\\n",
    "&=e^{tb}\\prod_{i=1}^{n}e^{a_{i}t\\mu_i+a_{i}^2t^{2}\\sigma_{i}^2/2}\\\\\n",
    "&=exp(tb+\\sum_{i=1}^{n}a_it\\mu_i+\\sum_{i=1}^{n}a_{i}^2t^2\\sigma_i^2/2)\\\\\n",
    "&=exp(t(b+a_{i} \\sum_{i=1}^{n}\\mu_i)+t^2a_i^2\\sum_{i=1}^{n}\\sigma_i^2/2)\\\\\n",
    "&where:~mean=b+a_{i} \\sum_{i=1}^{n}\\mu_i,variance=a_i^2\\sum_{i=1}^{n}\\sigma_i^2\\\\\n",
    "&=mgf~of~N(b+\\sum_{i=1}^{n}a_i\\mu_i,\\sum_{i=1}^{n}a_i^2\\sigma_i^2)\n",
    "\\end{aligned}$"
   ]
  },
  {
   "cell_type": "markdown",
   "metadata": {},
   "source": [
    "## Multivariate transformations \n",
    "#### (continuous case, one-to-one transformation)"
   ]
  },
  {
   "cell_type": "markdown",
   "metadata": {},
   "source": [
    "- Let $X=(X_1,X_2,...,X_n)$ be a random vector with joint pdf $f_X(x_1,x_2,...,x_n)$\n",
    "    - $\\mathbb{R}^n\\Rightarrow \\mathbb{R}^n$\n",
    "- Want the joint pdf of $U_1=g_1(\\underline{X}),U_2=g_2(\\underline{X}),...,U_n=g_n(\\underline{X})$\n",
    "    - $g(\\underline{X})=(g_1(\\underline{X}),g_2(\\underline{X}),...,g_n(\\underline{X}))$ was to be one-to-one.\n",
    "- Find the inverse functions:\n",
    "\n",
    "    $\\begin{aligned}\n",
    "&u_1 =g_1(x_1,x_2,\\ldots,x_n) && x_{1} && =h_1(u_1,u_2,\\ldots,u_n) \\\\\n",
    "&\\vdots& \\Rightarrow~~~~~ & \\vdots \\\\\n",
    "&u_n =g_n(x_1,x_2,\\ldots,x_n) && x_{n} && =h_n(u_1,u_2,\\ldots,u_n) \n",
    "\\end{aligned}$\n",
    "\n",
    "- Then the joint pdf of $U$ is\n",
    "\n",
    "    $f_U(u)=f_X(h_1(u),h_2(u),...,h_n(u))|J|$\n",
    "\n",
    "    where $J$ is the jacobian:\n",
    "\n",
    "    $\\boldsymbol{J}=\\det\\left(\\begin{bmatrix}\\frac{\\partial h_1(\\mathbf{u})}{\\partial u_1}&\\cdots&\\frac{\\partial h_1(\\mathbf{u})}{\\partial u_n}\\\\\\frac{\\partial h_2(\\mathbf{u})}{\\partial u_1}&\\cdots&\\frac{\\partial h_2(\\mathbf{u})}{\\partial u_n}\\\\\\vdots&\\ddots&\\vdots\\\\\\frac{\\partial h_n(\\mathbf{u})}{\\partial u_1}&\\cdots&\\frac{\\partial h_n(\\mathbf{u})}{\\partial u_n}\\end{bmatrix}\\right)$"
   ]
  }
 ],
 "metadata": {
  "kernelspec": {
   "display_name": "Python 3 (ipykernel)",
   "language": "python",
   "name": "python3"
  },
  "language_info": {
   "codemirror_mode": {
    "name": "ipython",
    "version": 3
   },
   "file_extension": ".py",
   "mimetype": "text/x-python",
   "name": "python",
   "nbconvert_exporter": "python",
   "pygments_lexer": "ipython3",
   "version": "3.9.13"
  }
 },
 "nbformat": 4,
 "nbformat_minor": 2
}
