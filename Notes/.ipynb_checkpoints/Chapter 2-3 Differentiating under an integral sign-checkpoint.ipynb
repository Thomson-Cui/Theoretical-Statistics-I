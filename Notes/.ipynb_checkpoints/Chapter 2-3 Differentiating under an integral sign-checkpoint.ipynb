{
 "cells": [
  {
   "cell_type": "markdown",
   "id": "0046335d",
   "metadata": {},
   "source": [
    "A technical section on when we can switch the order of limits, integrals, and sums"
   ]
  },
  {
   "cell_type": "markdown",
   "id": "fcfc1a3c",
   "metadata": {},
   "source": [
    "## Moment Generating functions\n",
    "$\\left.\\frac{d}{dt}M_{X}(t)\\right|_{t=0}=E\\left(X\\right)$\n",
    "\n",
    "`Proof:`\n",
    "\n",
    "$\\begin{align}\n",
    "\\frac{d}{dt}M_X(t)&=\\frac{d}{dt}\\int_{-\\infty}^{\\infty}e^{tx}f(x)dx \\\\\n",
    "                  &=\\int_{-\\infty}^{\\infty}(\\frac\\partial{\\partial t}e^{tx}f(x))dx \\\\\n",
    "                  &=\\int_{-\\infty}^{\\infty}xe^{tx}f(x)dx \\\\\n",
    "                  &=E(Xe^{tX})\n",
    "\\end{align}$\n",
    "\n",
    "$\\begin{align}\n",
    "\\frac{d}{dt}M_X(t)|_{t=0}=E(Xe^{0·X})= E(X)\n",
    "\\end{align}$"
   ]
  },
  {
   "cell_type": "markdown",
   "id": "1e136b9e",
   "metadata": {},
   "source": [
    "## Differentiating under an integral sign\n",
    "\n",
    "If $f(x,\\sigma)$ is differentiable with respect to $\\sigma$ and $a$ and $b$ are constants then\n",
    "\n",
    "$$\\frac d{d\\theta}\\int_a^bf(x,\\theta)dx=\\int_a^b\\frac\\partial{\\partial\\theta}f(x,\\theta)dx$$\n",
    "\n",
    "- Finite range integral $\\Rightarrow$ can switch the order of $\\frac{d}{d\\theta}$ and $\\int dx$\n",
    "- If $a=-\\infty$ and/or $b=\\infty$ we have to be careful\n",
    "    - Recall: A derivatte is a limit\n",
    "    - $\\Rightarrow$ The issue is actually: When can we change the order of limits and integration?"
   ]
  },
  {
   "cell_type": "markdown",
   "id": "b135f7c7",
   "metadata": {},
   "source": [
    "## What is it we want to do?\n",
    "\n",
    "$\\frac\\partial{\\partial\\theta}f(x,\\theta)=\\lim_{\\delta\\to0}\\frac{f(x,\\theta+\\delta)-f(x,\\theta)}\\delta $\n",
    "\n",
    "Note: $\\infty+\\infty=\\infty$, $-\\infty-\\infty=-\\infty$, but $\\infty-\\infty$ not defined\n",
    "\n",
    "Therefore:\n",
    "\n",
    "$\\begin{aligned}&\\int_{-\\infty}^{\\infty}\\frac\\partial{\\partial\\theta}f(x,\\theta)dx=\\int_{-\\infty}^{\\infty}\\lim_{\\delta\\to0}\\frac{f(x,\\theta+\\delta)-f(x,\\theta)}\\delta dx\\end{aligned}$\n",
    "\n",
    "$\\begin{aligned}\n",
    "\\frac{d}{d\\theta}\\int_{-\\infty}^{\\infty}f(x,\\theta)dx&=\\lim_{\\delta\\to0}\\frac{\\int_{-\\infty}^{\\infty}f(x,\\theta+\\delta)dx-\\int_{-\\infty}^{\\infty}f(x,\\theta)dx}{\\delta}\\\\\n",
    "                                                     &=\\lim_{\\delta\\to0}\\int_{-\\infty}^{\\infty}\\frac{f(x,\\theta+\\delta)-f(x,\\theta)}{\\delta}dx\n",
    "\\end{aligned}$"
   ]
  },
  {
   "cell_type": "markdown",
   "id": "9e3ab889",
   "metadata": {},
   "source": [
    "## When can we differentiate under the integral sign?\n",
    "`Theorem`\n",
    "\n",
    "If $f(x,\\theta)$ is differentiable with respect to $\\theta$ and there exists a constant $\\theta_0 > 0$ and a function $g(x,\\theta)$ that satisfies\n",
    "\n",
    "- $\\left|\\frac\\partial{\\partial\\theta}f(x,\\theta)\\right|_{\\theta=\\theta^{\\prime}}\\leq g(x,\\theta)$, for all $\\theta'$ such that $|\\theta'-\\theta|\\leq\\delta_0$\n",
    "\n",
    "- $\\int_{-\\infty}^{\\infty}g(x,\\theta)dx<\\infty$\n",
    "\n",
    "Then,\n",
    "$$\\frac d{d\\theta}\\int_{-\\infty}^{\\infty}f(x,\\theta)dx=\\int_{-\\infty}^{\\infty}\\frac\\partial{\\partial\\theta}f(x,\\theta)dx$$\n",
    "\n",
    "### Grad: Understand that conditions (i) and (ii) basically mean:\n",
    "- The (partial) derivative $\\frac\\partial{\\partial\\theta}f(x,\\theta)$ has to behave!\n",
    "- It has to be dominated by a function $g(x,\\theta)$ that has a finite integral (w.r.t. $x$)\n",
    "    - at least at some $\\theta'$ close to $\\theta$"
   ]
  },
  {
   "cell_type": "markdown",
   "id": "b855d543",
   "metadata": {},
   "source": [
    "### Example\n",
    "Let $X\\sim Expo(\\lambda)$. The pdf for $X$ is\n",
    "\n",
    "$$f(x)=\\frac1\\lambda e^{-x/\\lambda}\\quad\\mathrm{for~}x>0$$\n",
    "\n",
    "Show that for an integer $n\\geq 1$\n",
    "\n",
    "$$E\\left(X^{n+1}\\right)=\\lambda E\\left(X^{n}\\right)+\\lambda^{2}\\frac{d}{d\\lambda}E\\left(X^{n}\\right)$$"
   ]
  },
  {
   "cell_type": "markdown",
   "id": "d05afd04",
   "metadata": {},
   "source": [
    "### Derivatives and infinite sums\n",
    "\n",
    "Finite sums are no problem: $\\frac d{d\\theta}\\sum_{x=0}^nf(x,\\theta)=\\sum_{x=0}^n\\frac\\partial{\\partial\\theta}f(x,\\theta)$\n",
    "\n",
    "When does the following hold? $\\frac{d}{d\\theta}\\sum_{x=0}^{\\infty}f(x,\\theta)=\\sum_{x=0}^{\\infty}\\frac{\\partial}{\\partial\\theta}f(x,\\theta)$\n",
    "- Basically: Both series (级数) have to converge\n",
    "\n",
    "1. **The original series**:  \n",
    "$\\sum_{x=0}^{\\infty} f(x, \\theta)$\n",
    "2. **The series of partial derivatives**:  \n",
    "$\\sum_{x=0}^{\\infty} \\frac{\\partial}{\\partial \\theta} f(x, \\theta)$\n"
   ]
  },
  {
   "cell_type": "markdown",
   "id": "f6f14be7",
   "metadata": {},
   "source": [
    "## Example: Geometric distribution\n",
    "\n",
    "Let $X\\sim Geometric(\\theta)$. The pmf for $X$ is\n",
    "\n",
    "$$f(x)=\\theta(1-\\theta)^x\\quad\\mathrm{for~}x=0,1,2,\\ldots\\mathrm{~and~}0<\\theta<1$$\n",
    "\n",
    "pre-knowledge: \n",
    "- $\\displaystyle\\sum_{x=0}^\\infty r^x=\\frac{1}{1-r},\\quad\\text{for}|r|<1$\n",
    "- $\\sum_{x=0}^nr^x=\\frac{1-r^{n+1}}{1-r}\\quad\\mathrm{for~}r\\neq1$\n",
    "\n",
    "f(x) is a pmf, since\n",
    "\n",
    "$\\begin{aligned}\n",
    "\\sum_{x=0}^{\\infty}f(x)\n",
    "&=\\sum_{x=0}^{\\infty}\\theta(1-\\theta)^{x}\\\\\n",
    "&=\\theta\\sum_{x=0}^{\\infty}(1-\\theta)^{x}\\\\\n",
    "&=\\frac{\\theta}{1-(1-\\theta)}\\\\\n",
    "&=1\n",
    "\\end{aligned}$\n",
    "\n",
    "Let us see its $\\frac d{d\\theta}\\sum_{x=0}^\\infty f(x)$\n",
    "- Pre-knowledge: (uv)'=u'v+v'u\n",
    "- First, $\\frac{d}{d\\theta}\\sum_{x=0}^{\\infty}f(x)=\\frac{d}{d\\theta}1=0$\n",
    "- Second,\n",
    "\n",
    "$\\begin{aligned}\n",
    "\\frac{d}{d\\theta}\\sum_{x=0}^{\\infty}f(x)\n",
    "&=\\sum_{x=0}^{\\infty}\\frac{d}{d\\theta}f_{(x)}\\\\\n",
    "&=\\sum_{x=0}^{\\infty}\\frac{\\partial}{\\partial\\theta}\\theta(1-\\theta)^x\\,\\text{ (let's set }u=\\theta,v=(1-\\theta)^x)\\\\\n",
    "&=\\sum_{x=0}^{\\infty}[(1-\\theta)^{x}+\\theta(1-\\theta)^{x-1}(-1)]\\\\\n",
    "&=\\sum_{x=0}^{\\infty}(1-\\theta)^{x}-\\frac{(1-\\theta)}{(1-\\theta)}\\sum_{x=0}^{\\infty}x\\theta(1-\\theta)^{x-1}\\\\\n",
    "&=\\frac{1}{\\theta}-\\frac{1}{1-\\theta}\\sum_{x=0}^{\\infty}x\\theta(1-\\theta)^{x}\\\\\n",
    "&=\\frac{1}{\\theta}-\\frac{1}{1-\\theta}E(X)\n",
    "\\end{aligned}$\n",
    "\n",
    "Therefore, $\\frac{1}{\\theta}-\\frac{1}{1-\\theta}E(X)=0$$\\Rightarrow$$E(X)=\\frac{1-\\theta}{\\theta}$"
   ]
  }
 ],
 "metadata": {
  "kernelspec": {
   "display_name": "Python 3 (ipykernel)",
   "language": "python",
   "name": "python3"
  },
  "language_info": {
   "codemirror_mode": {
    "name": "ipython",
    "version": 3
   },
   "file_extension": ".py",
   "mimetype": "text/x-python",
   "name": "python",
   "nbconvert_exporter": "python",
   "pygments_lexer": "ipython3",
   "version": "3.9.13"
  }
 },
 "nbformat": 4,
 "nbformat_minor": 5
}
