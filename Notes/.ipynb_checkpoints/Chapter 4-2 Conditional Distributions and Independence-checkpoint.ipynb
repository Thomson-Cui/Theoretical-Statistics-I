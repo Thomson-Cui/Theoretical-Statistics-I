{
 "cells": [
  {
   "cell_type": "markdown",
   "id": "c4b8dd7a",
   "metadata": {},
   "source": [
    "#### Discrete conditional distributions\n",
    "- Let $(X,Y)$ be a **discrete random vector** \n",
    "    - with joint pmf $f(x,y)$ and marginal pmf’s $f_X(x)$ and $f_Y(y)$.\n",
    "- $f(y|x)=\\frac{f(x,y)}{f_X(x)}=\\frac{P(Y=y,X=x)}{P(X=x)}$\n",
    "- Note: $f(y|x)$ is a pmf and $f(x,y)$ > 0\n",
    "- $f(y|x)\\geq 0$\n",
    "\n",
    "    $\\begin{aligned}\n",
    "    \\sum_{\\text {all } y} f(y \\mid x)\n",
    "    &=\\sum_{\\text {all } y} \\frac{f(x, y)}{f_{x}(x)}\\\\\n",
    "    &=\\frac{1}{f_{x}(x)} \\sum_{y} f(x, y)\\\\\n",
    "    &= \\frac{1}{f_X(x)}f_X(x)=1\n",
    "    \\end{aligned}$"
   ]
  },
  {
   "cell_type": "markdown",
   "id": "5caad7e0",
   "metadata": {},
   "source": [
    "#### Continuous conditional distribution\n",
    "- Let $(X,Y)$ be a continuous random vector with joint pdf $f(x,y)$ and marginal pdf’s $f_X(x)$ and $f_Y(y)$\n",
    "- For any $x$ such that $f(x)>0$, we define the conditional pdf of $Y$ given $X=x$ as \n",
    "    - $f(y|x)=\\frac{f(x,y)}{f_X(x)}$\n",
    "    - $\\int f(y|x) dy = \\frac{1}{f_X(x)}\\int f(y,x)dy = \\frac{1}{f_X(x)}f_X(x)=1$\n",
    "    - Note: $f(y|x)$\n",
    "    - For $n > 2$, $f(x_{1},\\ldots,x_{q}\\mid x_{q+1},\\ldots,x_{n})=\\frac{f(x_{1},\\ldots,x_{n})}{f(x_{q+1},\\ldots x_{n})}$"
   ]
  },
  {
   "cell_type": "markdown",
   "id": "5c742d0f",
   "metadata": {},
   "source": [
    "#### Conditional Expectation\n",
    "- Discrete case:\n",
    "    - $E(g(Y)\\mid X=x)=\\sum_yg(y)f(y\\mid x)$\n",
    "- Continuous case:\n",
    "    - $E(g(Y)\\mid X=x)=\\int_{-\\infty}^{\\infty}g(y)f(y\\mid x)dy$"
   ]
  },
  {
   "cell_type": "markdown",
   "id": "3ef01762",
   "metadata": {},
   "source": [
    "#### Example: 3 coins\n",
    "A fair coin is tossed three times. Let\n",
    "- $X$ = number of heads on the first toss\n",
    "- $Y$ = total number of heads\n",
    "\n",
    "The joint pmf $f(x,y)$ can be given in a table:"
   ]
  },
  {
   "cell_type": "markdown",
   "id": "59353d2c",
   "metadata": {},
   "source": [
    "$\\begin{array}{c|cccc|c}&&y&&\\\\\\text{x}&0&1&2&3&f_X(x)\\\\\\hline0&\\frac{1}{8}&\\frac{2}{8}&\\frac{1}{8}&0&\\frac{1}{2}\\\\1&0&\\frac{1}{8}&\\frac{2}{8}&\\frac{1}{8}&\\frac{1}{2}\\\\\\hline f_Y(y)&\\frac{1}{8}&\\frac{3}{8}&\\frac{3}{8}&\\frac{1}{8}\\end{array}$"
   ]
  },
  {
   "cell_type": "markdown",
   "id": "4f9c9f8e",
   "metadata": {},
   "source": [
    "Find the\n",
    "- conditional pmf of $Y$ given $X=0$\n",
    "    - Given $f(y|x=0)$, $Y\\sim Binom(2,\\frac{1}{2})$\n",
    "- conditional pmf of $X$ given $Y=1$\n",
    "    - Given $f(x|y=1)$, $X\\sim Bernoulli(p=\\frac{1}{3})$"
   ]
  },
  {
   "cell_type": "markdown",
   "id": "1d65c5cc",
   "metadata": {},
   "source": [
    "#### Example: Multinomial distribution \n",
    "$f(\\mathbf{x}\\mid m,\\mathbf{p})=\\frac{m!}{x_1!x_2!\\cdots x_n!}p_1^{x_1}p_2^{x_2}\\cdots p_n^{x_n},\\mathrm{~for~}\\mathbf{x}\\in\\mathbb{N}^n$\n",
    "- where $x_1+x_2+\\cdots+x_n=m, p_1+p_2\\cdots+p_n=1$\n",
    "- What is the conditional distribution of $(X_1, X_2,...,X_{n-1})$ given $X_n=x_n$\n",
    "    - $f(x_{1},x_{2},\\ldots x_{n-1}|x_{n})=\\frac{f(x_{1},x_{2},\\ldots x_{n-1},x_{n})}{f_{n}(x_{n})}=\\frac{(m-x_{n})!}{x_{1}!\\cdots x_{n-1}!}\\frac{p_{1}^{x_{1}}\\cdots p_{n-1}^{x_{n-1}}}{(1-p_{1})^{x_{1}}\\cdots(1-p_{n})^{x_{n-1}}}$\n",
    "        - It is pmf for Multinomial($m-X_n,(\\frac{p_1}{1-p_n},\\cdots,\\frac{p_{n-1}}{1-p_n})$) "
   ]
  },
  {
   "cell_type": "markdown",
   "id": "c6635363",
   "metadata": {},
   "source": [
    "#### Continuous Example 2 ($*$): \n",
    "$f(x,y)=\\begin{cases}8xy&\\mathrm{if~}0<y<x<1\\\\0&\\mathrm{otherwise}&\\end{cases}$\n",
    "- $f_X(x)=4x^3,0<x<1$\n",
    "- $f_{Y}(y)=4y-4y^{3},0<y<1$\n",
    "- Find the conditional pdf of $Y$ given $X = x$\n",
    "    - $f(y|x)=\\frac{f(x,y)}{f_{x}(x)}=\\frac{8xy}{4x^{3}}=\\frac{2y}{x^{2}},\\text{ for }0<y<x<1$\n",
    "    - For example: $x=\\frac{1}{2}$, $f(y|\\frac{1}{2})=\\frac{2y}{(\\frac{1}{2})^{2}}=8y,\\text{ for } 0<y<\\frac{1}{2}$\n",
    "- Find the conditional mean and variance of $Y$ given $X = x$ and compare to marginal mean and variance of $Y$.\n",
    "    - $E(Y|X=x)=\\int yf(y|x)dy=\\int_{0}^{x}\\frac{2y^{2}}{x^{2}}dy=\\frac{2y^{3}}{3x^{2}}|_{0}^{x}=\\frac{2}{3}x$, for $0<x<1$\n",
    "    - $E(Y)=\\int_{0}^{1}y(4y-4y^{3})dy=\\frac{4}{3}y^{3}-\\frac{4y^{5}}{5}|_{0}^{1}=\\frac{8}{15}$\n",
    "    - Conditional Variance:\n",
    "        - $E(Y^{2}|X=x)=\\int_{0}^{x}\\frac{2y^{3}}{x^{2}}dy=\\frac{2y^{4}}{4x^{2}}|_{0}^{x}=\\frac{1}{2}x^{2}$, for $0<x<1$\n",
    "        - $Var(Y|X=x)=E(Y^{2}|X=x)-(E(Y|X=x))^{2}=\\frac{1}{18}x^2$, for $0<x<1$\n",
    "    - Marginal Variance:\n",
    "        - $E(Y^{2})=\\int_{0}^{1}4y^{3}-4y^{5}dy=\\frac{4y^{4}}{4}-\\frac{4}{6}y^{6}|_{0}^{1}=1-\\frac{4}{6}=\\frac{1}{3}$\n",
    "        - $Var(Y)=\\frac{1}{3}-(\\frac{8}{15})^{2}=\\frac{11}{225}$\n",
    "    - Usually $Var(Y|X=x) < Var(Y)$, since knowing the value of $X$ lowers uncertainty about $Y$.\n",
    "    - Can we get $Var(Y|X=x) >= Var(Y)$ for some $x$?\n",
    "        - $\\frac{x^2}{18}>\\frac{11}{225}$, so at least $x\\geq 0.938$ \n",
    "        - Yes, but for large values of $x$."
   ]
  },
  {
   "cell_type": "markdown",
   "id": "21c64403",
   "metadata": {},
   "source": [
    "#### Independent random variables\n",
    "- Let $(X,Y)$ be a random vector with joint pdf/pmf $f(x, y)$ \n",
    "    - and marginal pdfs/pmfs $f_X(x)$ and $f_Y(y)$. If\n",
    "- $f(x,y)=f_X(x)f_Y(y)$, for all $x\\in\\mathbb{R}$ and $y\\in\\mathbb{R}$\n",
    "- then $X$ and $Y$ are called independent random variables.\n",
    "- If $X$ and $Y$ are independent then\n",
    "    - $f(y\\mid x)=\\frac{f(x,y)}{f_X(x)}=\\frac{f_X(x)f_Y(y)}{f_X(x)}=f_Y(y)$"
   ]
  },
  {
   "cell_type": "markdown",
   "id": "b8e97d4b",
   "metadata": {},
   "source": [
    "#### Example: 3 coints\n",
    "The joint pmf $f(x, y)$ and marginal pmfs:"
   ]
  },
  {
   "cell_type": "markdown",
   "id": "13166b9d",
   "metadata": {},
   "source": [
    "$\\begin{array}{c|cccc|c}&&&y&&\\\\\\text{х}&0&1&2&3&f_X(x)\\\\\\hline0&\\frac18&\\frac28&\\frac18&0&\\frac12\\\\1&0&\\frac18&\\frac28&\\frac18&\\frac12\\\\\\hline f_Y(y)&\\frac18&\\frac38&\\frac38&\\frac18&\\end{array}$"
   ]
  },
  {
   "cell_type": "markdown",
   "id": "5748ce5e",
   "metadata": {},
   "source": [
    "Are $X$ and $Y$ independent?\n",
    "No, they are not independent, since $f_{X}(1)f_{Y}(0)=\\frac{1}{2}\\cdot\\frac{1}{8}\\neq0$."
   ]
  },
  {
   "cell_type": "markdown",
   "id": "3f0fb94c",
   "metadata": {},
   "source": [
    "#### Continuous example 2\n",
    "\n",
    "Usually, when support is not rectangular, X abd Y can't be independent.\n",
    "$f(x,y)=\\left\\{\\begin{array}{ll}8xy&\\mathrm{if~}0<y<x<1\\\\0&\\mathrm{otherwise~}\\end{array}\\right.$\n",
    "\n",
    "$\\begin{aligned}f_{X}(x)&=4x^{3}I_{[0,1]}(x)\\\\f_{Y}(y)&=4(y-y^{3})I_{[0,1]}(y)\\end{aligned}$\n",
    "\n",
    "Are $X$ and $Y$ independent?\n",
    "\n",
    "E.g. $x = 1/2, y = 3/4,(x,y)\\in\\text{otherwise point}$\n",
    "\n",
    "$\\begin{aligned}&f(\\frac{1}{2},\\frac{3}{4})=0\\in\\text{otherwise case}\\\\&f_{X}(\\frac{1}{2})\\cdot f_{Y}(\\frac{3}{4})=0.72\\neq0\\end{aligned}$\n",
    "\n",
    "No, they are not independent, since $8xy\\neq4x^{3}\\cdot4(y-y^{3}), \\text{ for some } x,y \\text{ that } 0 < y < x < 1$.\n",
    "\n"
   ]
  },
  {
   "cell_type": "code",
   "execution_count": 15,
   "id": "6090f3a8",
   "metadata": {
    "scrolled": false
   },
   "outputs": [
    {
     "data": {
      "image/png": "[encoded data removed]",
      "text/plain": [
       "<Figure size 600x600 with 1 Axes>"
      ]
     },
     "metadata": {},
     "output_type": "display_data"
    }
   ],
   "source": [
    "import matplotlib.pyplot as plt\n",
    "import numpy as np\n",
    "\n",
    "# Define the x values within the range (0, 1)\n",
    "x = np.linspace(0, 1, 500)\n",
    "\n",
    "# Create the figure and axis\n",
    "plt.figure(figsize=(6, 6))\n",
    "\n",
    "# Plot the boundary line y = x\n",
    "plt.plot(x, x, 'b--', label=r'$y=x$')\n",
    "plt.plot(0.5, 0.75, 'ro')\n",
    "plt.text(0.5, 0.76, 'otherwise point', color='red', ha='right', va='bottom')\n",
    "\n",
    "# Fill the feasible region (0 < y < x < 1)\n",
    "plt.fill_between(x, 0, x, color='skyblue', alpha=0.5)\n",
    "\n",
    "# Labeling axes\n",
    "plt.xlabel(r'$x$')\n",
    "plt.ylabel(r'$y$')\n",
    "\n",
    "# Set axis limits\n",
    "plt.xlim(0, 1)\n",
    "plt.ylim(0, 1)\n",
    "\n",
    "# Title and legend\n",
    "plt.title(\"Feasible Region for $0 < y < x < 1$\")\n",
    "plt.legend(loc='upper left')\n",
    "\n",
    "# Show grid\n",
    "plt.grid(True)\n",
    "plt.show()\n"
   ]
  },
  {
   "cell_type": "markdown",
   "id": "7ec9cc5d",
   "metadata": {},
   "source": [
    "$\\begin{aligned}\n",
    "f(x,y)& =\\begin{cases}\\begin{array}{ll}4xy&\\mathrm{~if~}0<y<1\\mathrm{~and~}0<x<1\\\\0&\\mathrm{~otherwise}\\end{array}&&\\end{cases} \\\\\n",
    "f_X(x)& =2x\\cdot I_{[0,1]}(x) \\\\\n",
    "f_Y(y)& =2y\\cdot I_{[0,1]}(y) \\\\\n",
    "\\end{aligned}$\n",
    "\n",
    "Are X and Y independent?\n",
    "\n",
    "Yes！\n",
    "\n",
    "$f_X(x)\\cdot f_Y(y)=2xI_{[0,1]}(x)\\cdot 2yI_{[0,1]}(y)=4xyI_{[0,1]}(x,y)=f{(x,y)},\\forall x,y$"
   ]
  },
  {
   "cell_type": "code",
   "execution_count": 16,
   "id": "d69ebe1c",
   "metadata": {},
   "outputs": [
    {
     "data": {
      "image/png": "[encoded data removed]",
      "text/plain": [
       "<Figure size 600x600 with 1 Axes>"
      ]
     },
     "metadata": {},
     "output_type": "display_data"
    }
   ],
   "source": [
    "# Create the plot for the feasible region within (0, 1) x (0, 1)\n",
    "plt.figure(figsize=(6, 6))\n",
    "\n",
    "# Define the limits for x and y\n",
    "x_vals = np.linspace(0, 1, 500)\n",
    "\n",
    "# Fill the feasible region for 0 < x < 1 and 0 < y < 1\n",
    "plt.fill_between(x_vals, 0, 1, color='lightgreen', alpha=0.5)\n",
    "\n",
    "# Labeling axes\n",
    "plt.xlabel(r'$x$')\n",
    "plt.ylabel(r'$y$')\n",
    "\n",
    "# Set axis limits\n",
    "plt.xlim(0, 1)\n",
    "plt.ylim(0, 1)\n",
    "\n",
    "# Title\n",
    "plt.title(\"Feasible Region for $0 < x < 1$ and $0 < y < 1$\")\n",
    "\n",
    "# Show grid\n",
    "plt.grid(True)\n",
    "plt.show()"
   ]
  },
  {
   "cell_type": "markdown",
   "id": "5c4539e2",
   "metadata": {},
   "source": [
    "#### Independent random variables\n",
    "\n",
    "Lemma: Let $(X,Y)$ be a random vector with join pdf/pmf $f(x,y)$. $X$ and $Y$ are independent **if and only if** there exist functions $g(x)$ and $h(y)$ such that $f(x,y)=g(x)h(y),\\,\\forall x,y\\in\\mathbb{R}$.\n",
    "\n",
    "In summary:\n",
    "\n",
    "Lemma: $f(x,y)=g(x)h(y),\\,\\forall x,y \\Leftrightarrow x,y \\text{ are independent}$.\n",
    "\n",
    "##### Proof:\n",
    "\n",
    "\"$\\Leftarrow$\": Suppose $x,y \\text{ are independent}$, then by def:\n",
    "- $f(x,y)=f_{X}(x)\\cdot f_{Y}(y), \\forall x,y$\n",
    "    - Thus, $g(x)=f_X(x)$ and $h(y)=f_Y(y)$\n",
    "    - We have $f(x,y)=g(x)h(y),\\,\\forall x,y$\n",
    "    \n",
    "\"$\\Rightarrow$\": Suppose $f(x,y)=g(x)h(y),\\forall x,y$ then:\n",
    "\n",
    "$\\begin{aligned}\n",
    "f_{X}(x)\n",
    "&=\\int_{-\\infty}^{\\infty}f(x,y)dy\\\\\n",
    "&=\\int_{-\\infty}^{\\infty}g(x)h(y)dy\\\\\n",
    "&=g(x)\\int_{-\\infty}^{\\infty}h(y)dy,\\,(c = \\int_{-\\infty}^{\\infty}h(y)dy)\\\\\n",
    "&=cg(x)\n",
    "\\end{aligned}$\n",
    "\n",
    "$\\begin{aligned}\n",
    "f_{Y}(y)\n",
    "&=\\int_{-\\infty}^{\\infty}f(x,y)dy\\\\\n",
    "&=\\int_{-\\infty}^{\\infty}g(x)h(y)dx\\\\\n",
    "&=h(y)\\int_{-\\infty}^{\\infty}g(x)dx,\\,(d = \\int_{-\\infty}^{\\infty}g(x)dx)\\\\\n",
    "&=dh(y)\n",
    "\\end{aligned}$\n",
    "\n",
    "$cd = 1$, since $1=\\int_{-\\infty}^{\\infty}\\int_{-\\infty}^{\\infty}f(x,y)dxdy=cd$\n",
    "- Thus, $f_{X}(x)\\cdot f_{Y}(y)=cg(x)dh(y)=g(x)h(y)=f(x,y)$\n",
    "    - $x,y$ are independent."
   ]
  },
  {
   "cell_type": "markdown",
   "id": "08ff3580",
   "metadata": {},
   "source": [
    "#### Continuous examples 1 and 2\n",
    "\n",
    "Example 1: $f(x,y)=\\left\\{\\begin{array}{ll}{4xy}&{\\mathrm{if~}0<y<1\\mathrm{~and~}0<x<1}\\\\{0}&{\\mathrm{otherwise}}\\\\\\end{array}\\right.$\n",
    "\n",
    "Example 2: $f(x,y)=\\begin{cases}\\begin{array}{ll}8xy&\\mathrm{if~}0<y<x<1\\\\0&\\mathrm{otherwise}\\end{array}&\\end{cases}$\n",
    "\n",
    "Determine independence using the lemma:\n",
    "- Set $g(x)=4xI_{(0,1)}x$ and $h(y)=yI_{(0,1)}(y)\\Rightarrow$, $x,y$ are indep.\n",
    "- Set $f(x,y)=8xyI_{(0,x)}(y)I_{(0,1)}(x)$ \n",
    "    - since $I_{(0,x)}(y)$ can't be written as a function of only $x$ or $y$.\n",
    "        - not independent."
   ]
  },
  {
   "cell_type": "markdown",
   "id": "d4628191",
   "metadata": {},
   "source": [
    "#### More properties on independent random variables\n",
    "Theorem: Let $X$ and $Y$ be **independent** random variables. Then\n",
    "- (a) For any $A\\in\\mathbb{R}$ and $B\\in\\mathbb{R}$ we have\n",
    "    - $P(X\\in A,Y\\in B)=P(X\\in A)P(Y\\in B)$\n",
    "    - i.e.{$X\\in A$} and {$Y\\in B$} are independent events\n",
    "    - (a) is a special case of (b), since $E(I_A(x))=P(X\\in A)$\n",
    "- (b) Let $g(x)$ be a function of $x$ only and let $h(y)$ be a function of $y$ only. Then\n",
    "    - $E_{X,Y}(g(X)h(Y))=E_{X}(g(X))E_Y(h(Y))$\n",
    "    - Example: $E(XY)=E(X)E(Y)$, if $x,y$ are independent"
   ]
  },
  {
   "cell_type": "markdown",
   "id": "44911739",
   "metadata": {},
   "source": [
    "#### About (a):\n",
    "\n",
    "$E(I_A(x))=\\int_{-\\infty}^{\\infty}I_A(x)f(x)dx=\\int_{A}f(x)dx=P(x\\in A)$\n",
    "\n",
    "or think $Y=I_A(x)\\sim Bernoulli(p),p=P(Y=1)=P(x\\in A)$\n",
    "\n",
    "i.e. $E(Y)=p\\Rightarrow E(I_A(x))=P(X\\in A)$\n",
    "\n",
    "Through proving (b), (a) is proved too.\n",
    "\n",
    "#### Proof of (b):\n",
    "\n",
    "$\\begin{aligned}\n",
    "E(g(x)h(y))\n",
    "&=\\int_{-\\infty}^{\\infty}\\int_{-\\infty}^{\\infty}g(x)h(y)f_X(x)f_Y(y)dxdy,\\,\\big(f(x,y)=f_X(x)f_Y(y)\\big)\\\\\n",
    "&=\\int_{-\\infty}^{\\infty}h(y)f_Y(y)\\int_{-\\infty}^{\\infty}g(x)f_X(x)dxdy,\\,\\big(E(g(x))=\\int_{-\\infty}^{\\infty}g(x)f_X(x)dx\\big)\\\\\n",
    "&=E(g(x))\\int_{-\\infty}^{\\infty}h(y)f_Y(y)dy=E(g(x))E(h(y))\n",
    "\\end{aligned}$"
   ]
  },
  {
   "cell_type": "markdown",
   "id": "5777359b",
   "metadata": {},
   "source": [
    "#### More properties on independent random variables\n",
    "Theorem: Let $X$ and $Y$ be **independent** random variables with mgf’s $M_X(t)$ and $M_Y(t)$. \n",
    "- Then the mgf of $Z=X+Y$ is\n",
    "- $M_Z(t)=M_X(t)M_Y(t)$\n",
    "##### Proof:\n",
    "$M_Z(t)=E(e^{tZ})=E(e^{t(X+Y)})=E(e^{tX}e^{tY})=E(e^{tX})E(e^{tY})=M_X(t)M_Y(t)$"
   ]
  },
  {
   "cell_type": "markdown",
   "id": "296c9cb7",
   "metadata": {},
   "source": [
    "#### A mgf uniqualy identifies a distribution\n",
    "**Example: Sum of independent r.v.**\n",
    "\n",
    "Let $X\\sim Poisson(\\lambda_1)$, $Y\\sim Poisson(\\lambda_2)$ be independent r.v. What's the distribution of $X+Y$?\n",
    "\n",
    "- $M_X(t)=exp(\\lambda_1(1-e^t))$\n",
    "- $M_Y(t)=exp(\\lambda_2(1-e^t))$\n",
    "\n",
    "    $\\begin{aligned}\n",
    "    M_{X+Y}(t)\n",
    "    &=M_X(t)M_Y(t)\\\\\n",
    "    &=exp(\\lambda_1(1-e^t))\\cdot exp(\\lambda_2(1-e^t))\\\\\n",
    "    &=exp((\\lambda_1+\\lambda_2)(1-e^t))\\\\\n",
    "    &=\\text{mgf of }Poisson(\\lambda_1+\\lambda_2)\n",
    "    \\end{aligned}$\n",
    "- The distribution of $X+Y$ is $Poisson(\\lambda_1+\\lambda_2)$"
   ]
  },
  {
   "cell_type": "markdown",
   "id": "dcc2bfa1",
   "metadata": {},
   "source": [
    "**Example: Sum of independent r.v.**\n",
    "\n",
    "Let $X\\sim\\mathrm{N}(\\mu_1,\\sigma_1^2), Y\\sim\\mathrm{N}(\\mu_2,\\sigma_2^2)$ be independent r.v. What is the distribution of $X+Y$?\n",
    "\n",
    "$\\begin{aligned}\n",
    "M_{X+Y}(t)\n",
    "&=M_X(t)M_Y(t)\\\\\n",
    "&=exp((\\mu_1+\\mu_2)t+(\\sigma_1^2+\\sigma_2^2)t^2/2)\\\\\n",
    "&=\\text{mgf of }N(\\mu_1+\\mu_2,\\sigma_1^2+\\sigma_2^2)\n",
    "\\end{aligned}$\n",
    "\n",
    "$X+Y\\sim N(\\mu_1+\\mu_2,\\sigma_1^2+\\sigma_2^2)$"
   ]
  }
 ],
 "metadata": {
  "kernelspec": {
   "display_name": "Python 3 (ipykernel)",
   "language": "python",
   "name": "python3"
  },
  "language_info": {
   "codemirror_mode": {
    "name": "ipython",
    "version": 3
   },
   "file_extension": ".py",
   "mimetype": "text/x-python",
   "name": "python",
   "nbconvert_exporter": "python",
   "pygments_lexer": "ipython3",
   "version": "3.9.13"
  }
 },
 "nbformat": 4,
 "nbformat_minor": 5
}
