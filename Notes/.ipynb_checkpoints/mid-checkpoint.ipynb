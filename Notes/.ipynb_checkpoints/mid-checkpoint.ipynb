{
 "cells": [
  {
   "cell_type": "markdown",
   "id": "9d1255f7",
   "metadata": {},
   "source": [
    "#### DeMorgan's Laws\n",
    "$\\left(A\\cup B\\right)^\\mathbf{c}=A^\\mathbf{c}\\cap B^\\mathbf{c},\\\\\\left(A\\cap B\\right)^\\mathbf{c}=A^\\mathbf{c}\\cup B^\\mathbf{c}.$\n",
    "#### Symmetric difference XOR\n",
    "$A\\triangle B=(A\\setminus B)\\cup(B\\setminus A)$\n",
    "#### DeMorgan’s law generalizes to n sets:\n",
    "$\\left(\\bigcup_{i=1}^{n}A_{i}\\right)^{c}=\\bigcap_{i=1}^{n}A_{i}^{c}\\quad\\mathrm{~and~}\\quad\\left(\\bigcap_{i=1}^{n}A_{i}\\right)^{c}=\\bigcup_{i=1}^{n}A_{i}^{c}$\n",
    "#### σ-algebra\n",
    "Formally, a collection $\\mathcal{B}$ of subsets of $S$ is a $\\sigma$-algebra if:\n",
    "\n",
    "1. $\\emptyset \\in \\mathcal{B}$,\n",
    "2. If $A \\in \\mathcal{B}$, then $A^c \\in \\mathcal{B}$,\n",
    "3. If $A_1, A_2, A_3, \\ldots \\in \\mathcal{B}$, then $\\bigcup_{i=1}^{\\infty} A_i \\in \\mathcal{B}$.\n",
    "\n",
    "#### Theorem: If $\\mathcal{B}$ is a $\\sigma-$algebra then\n",
    "$\n",
    "\\begin{aligned}&\\mathrm{(a)~}S\\in\\mathcal{B}\\\\&\\mathrm{(b)~If~}A_1,A_2,A_3,\\ldots\\in\\mathcal{B}\\mathrm{~then~}\\bigcap_{i=1}^\\infty A_i\\in\\mathcal{B}\\end{aligned}\n",
    "$\n",
    "\n",
    "#### Probability function\n",
    "A **probability function** is a function $P(·)$ wtih domain $\\mathcal{B}$ \n",
    "\n",
    "that satisfies the **Kolmogorov axioms**:\n",
    "\n",
    "$\\mathbf{1. } P(A)\\geq0 \\text{ for all } A\\in\\mathcal{B}.$\n",
    "\n",
    "$\\mathbf{2. } P(S) = 1$\n",
    "\n",
    "$\\mathbf{3.}\\mathrm{~If~}A_1,A_2,\\ldots\\in\\mathcal{B}\\mathrm{~are~pairwise~disjoint,~then~}$\n",
    "\n",
    "$P(\\cup_{i=1}^\\infty A_i)=\\sum_{i=1}^\\infty P(A_i).$"
   ]
  },
  {
   "cell_type": "markdown",
   "id": "10ec9577",
   "metadata": {},
   "source": [
    "#### Calculus of Probabilities\n",
    "`Theorem 1`: Let $A \\in \\mathcal{B}$, then\n",
    "\n",
    "$\\begin{aligned}&\\mathrm{(a)~}P(A^c)=1-P(A)\\\\&\\mathrm{(b)~}P(\\emptyset)=0\\\\&\\mathrm{(c)~}P(A)\\leq1\\end{aligned}$\n",
    "\n",
    "`Theorem 2`: Let $A, B \\in\\mathcal{B}, then$\n",
    "\n",
    "$\\begin{aligned}&(\\mathrm{a }) P(A)=P(A\\cap B)+P(A\\cap B^{c})\\\\&(\\mathrm{b}) P(A\\setminus B)=P(A)-P(A\\cap B)\\\\&(\\mathrm{c}) P(A\\cup B)=P(A)+P(B)-P(A\\cap B)\\\\&\\mathrm{(d)~If~}A\\subseteq B\\text{ then }P(A)\\leq P(B)\\end{aligned}$\n",
    "\n",
    "`Theorem 3`: Law of total probability\n",
    "\n",
    "Let $A\\in B$ and let $C_{1}, C_{2},...\\in\\mathcal{B}$ \n",
    "\n",
    "be a partition of $S$. Then\n",
    "\n",
    "$P(A)=\\sum_{i=1}^\\infty P(A\\cap C_i)$"
   ]
  },
  {
   "cell_type": "markdown",
   "id": "2dc03d53",
   "metadata": {},
   "source": [
    "#### Theorem 4: Boole's Ineuality **(Upper bound for $\\cup$ sets)**\n",
    "\n",
    "Let $A_1,A_2,A_3...\\in\\mathcal{B}$. Then\n",
    "\n",
    "$\\begin{aligned}&(\\mathrm{a}) P\\left(\\bigcup_{i=1}^nA_i\\right)\\leq\\sum_{i=1}^nP(A_i),\\mathrm{~for~}n=1,2,3,\\ldots\\\\&(\\mathrm{b}) P\\left(\\bigcup_{i=1}^\\infty A_i\\right)\\leq\\sum_{i=1}^\\infty P(A_i)\\end{aligned}$"
   ]
  },
  {
   "cell_type": "markdown",
   "id": "cb798581",
   "metadata": {},
   "source": [
    "#### Theorem 5: Bonferroni Inequality **(Lower bound for $\\cap$ sets)**\n",
    "\n",
    "Let $A_1, A_2, A_3,...A_n\\in\\mathcal{B}$. Then,\n",
    "\n",
    "$\\begin{aligned}&(\\mathrm{a}) P\\left(\\bigcap_{i=1}^nA_i\\right)\\geq\\sum_{i=1}^nP(A_i)-(n-1)\\\\&(\\mathrm{b}) P\\left(\\bigcap_{i=1}^nA_i\\right)\\geq1-\\sum_{i=1}^nP(A_i^c)\\end{aligned}$"
   ]
  },
  {
   "cell_type": "markdown",
   "id": "1c035114",
   "metadata": {},
   "source": [
    "How many ways we can pick $r$ items out of $n$ different items.\n",
    "\n",
    "Case1: Ordered, without replacement $\\frac{n!}{(n-r)!}$\n",
    "\n",
    "Case2: Ordered, with replacement $n^r$\n",
    "\n",
    "Case3: Unordered, without replacement $\\frac{n!}{(n-r)!·r!}= \\left(\\begin{array}{c}n\\\\r\\end{array}\\right)$\n",
    "\n",
    "Case4: Unordered, with replacement $\\left(\\begin{array}{c}n-1+r\\\\r\\end{array}\\right)$"
   ]
  },
  {
   "cell_type": "markdown",
   "id": "f39266ff",
   "metadata": {},
   "source": [
    "### Theorem\n",
    "\n",
    "Let $B$ be an event and $P(B)>0$. \n",
    "\n",
    "Conditional probability $P(·|B)$ is a probability function. \n",
    "\n",
    "That is, it satisfies Kolmogorov's axioms:\n",
    "\n",
    "1. $P(A|b)\\geq0,\\forall A\\in\\mathcal{B}$ \n",
    "2. $P(S|B)=1$\n",
    "3. If $A_1, A_2, A_3,...$ are mutually exclusive \n",
    "    - then $P\\left(\\bigcup_{i=1}^\\infty A_i\\mid B\\right)=\\sum_{i=1}^\\infty P(A_i\\mid B)$"
   ]
  },
  {
   "cell_type": "markdown",
   "id": "6bfe55b5",
   "metadata": {},
   "source": [
    "#### More on Conditional Probability\n",
    "\n",
    "$P(A|B)=1-P(A^c|B)$\n",
    "\n",
    "$P(A_1\\cup A_2|B)=P(A_1|B)+P(A_2|B)-P(A_1\\cap A_2|B)$\n",
    "\n",
    "$P(A\\cap B)=P(A|B)P(B)=P(B|A)P(A)$\n",
    "\n",
    "$P(A\\cap B\\cap C)=P(A|B\\cap C)P(B|C)P(C)$\n",
    "\n",
    "$P(A_1\\cap A_2\\cap A_3\\cap A_4)=P(A_3\\cap A_4|A_1\\cap A_2)P(A_1\\cap A_2)$\n",
    "\n",
    "#### Bayes Theorem\n",
    "\n",
    "Let $A$ and $B$ be events an let $P(B)>0$. Then\n",
    "\n",
    "$P(A|B)=\\frac{P(A\\cap B)}{P(B)}=\\frac{P(B|A)·P(A)}{P(B)}$\n",
    "\n",
    "Bayes Theorem is often written as: Let **$A_1, A_2,...$ \n",
    "\n",
    "be a partition** of $S$ and let $B$ be an event in $S$. \n",
    "\n",
    "Then for each $i$ we have\n",
    "\n",
    "$P(B)=\\sum_{j = 1}^{\\infty}P(B|A_j)P(A_j)=\\sum_{j = 1}^{\\infty}P(B\\cap A_j)$\n",
    "\n",
    "$P(A_i|B)=\\frac{P(B|A_i)P(A_i)}{\\sum_{j = 1}^{\\infty}P(B|A_j)P(A_j)}$\n",
    "\n",
    "A simple case: $P(A|B)=\\frac{P(B|A)P(A)}{P(B|A)P(A)+P(B|A^c)P(A^c)}$"
   ]
  },
  {
   "cell_type": "markdown",
   "id": "044889ef",
   "metadata": {},
   "source": [
    "#### Independence - many events\n",
    "$P\\left(\\bigcap_{j=1}^kA_{i_j}\\right)=\\prod_{j=1}^kP(A_{i_j})$"
   ]
  },
  {
   "cell_type": "markdown",
   "id": "4831201e",
   "metadata": {},
   "source": [
    "#### Properties of a cdf\n",
    "\n",
    "A function $F(x)$ is a cdf **if and only if** the following 3 conditions hold:\n",
    "\n",
    "1. $\\lim_{x\\to-\\infty}F(x)=0$ and $\\lim_{x\\to\\infty}F(x)=1$\n",
    "2. $F(x)$ is a non-decreasing function of $x$\n",
    "3. $F(x)$ is right continuous. That is, $\\forall x_0\\in \\mathbb{R}$ we have $\\lim_{x\\downarrow x_0}F(x)=F(x_0)$"
   ]
  },
  {
   "cell_type": "markdown",
   "id": "a9babff0",
   "metadata": {},
   "source": [
    "#### Properties of a pdf or pmf\n",
    "\n",
    "A function $f_X{(x)}$ is a pdf or pmf of a random variable $X$ if and only if\n",
    "1. $f_{x}(x)\\geq0,\\forall x\\in\\mathbb{R}$\n",
    "\n",
    "2. $\\begin{cases}\\sum_{x}f(x)=1,\\text{if X is discrete}.\\\\\\int_{-\\infty}^{\\infty}f(x)dx=1,\\text{if X is continuous}.\\end{cases}$\n",
    "\n",
    "- If $f(x)$ is a pdf/pmf then (1) and (2) hold.\n",
    "- If (1) and (2) hold for some function $f(x)$, then $f(x)$ is pdf or pmf."
   ]
  },
  {
   "cell_type": "markdown",
   "id": "615dd7e7",
   "metadata": {},
   "source": [
    "#### To determine the distribution of a random variable\n",
    "- Say we know $f(x)$. Then we can determine $F(x)$\n",
    "    - If $X$ is discrete:\n",
    "    $F(x)=\\sum_{u\\leq x}f(u)$\n",
    "    - If $X$ is continuous:\n",
    "    $F(x)=\\int_{-\\infty}^xf(u)du$\n",
    "- Say we know $F(x)$. Then we can determine $f(x)$\n",
    "    - If $X$ is discrete:\n",
    "    $f(x)=F(x)-\\lim_{u\\uparrow x}F(u)$\n",
    "    - If $X$ is continuous and the derivative of $F$ exists:\n",
    "    $f(x)=\\frac d{dx}F(x)$"
   ]
  },
  {
   "cell_type": "markdown",
   "id": "d0bbf547",
   "metadata": {},
   "source": [
    "#### Probability of a transformation\n",
    "\n",
    "- In general, $P(Y\\in A)=P(X\\in g^{-1}(A)), A\\subset\\mathcal{Y}$\n",
    "\n",
    "- In particular, $F_Y(y)= P(Y\\leq y)=P(X\\in g^{-1}((-\\infty,y])$"
   ]
  },
  {
   "cell_type": "markdown",
   "id": "a522c3a7",
   "metadata": {},
   "source": [
    "#### Discrete random variables\n",
    "\n",
    "$\\begin{aligned}f_{Y}(y)&=P(Y=y)=P(g(x)=y)\\\\&=P(X\\in g^{-1}(y))=P(x\\in\\{x:g(x)=y\\})\\\\&=\\sum_{x\\in g^{-1}(y)}P(X=x)=\\sum_{x\\in g^{-1}(y)}f_{x}(x)\\end{aligned}$\n",
    "\n",
    "$F_Y(y)=\\sum_{u\\leq y}f_Y(y)$"
   ]
  },
  {
   "cell_type": "markdown",
   "id": "7d1193aa",
   "metadata": {},
   "source": [
    "#### Monotone transformation\n",
    "If $g$ is monotone on $\\mathcal{X}$ then it is one-to-one and onto from $\\mathcal{X}$ to $\\mathcal{Y}$.\n",
    "- Uniquely pairs an $x$ to one $y$\n",
    "- Get an inverse function: $g^{-1}(y)=x$"
   ]
  },
  {
   "cell_type": "markdown",
   "id": "7ad3685f",
   "metadata": {},
   "source": [
    "#### CDF-method\n",
    "Let $X$ be a random variable with cdf $F_X(x)$ and let $Y = g(X)$. Then\n",
    "1. If $g$ is an increasing function on $X$ then\n",
    "- $F_Y(y)=F_X(g^{-1}(y))$\n",
    "2. If $g$ is a decreasing function on $\\mathcal{X}$ and $X$ is **continuous** , then\n",
    "- $F_Y(y)=1-F_X(g^{-1}(y))$\n",
    "- In general, i.e.for both continuous and discrete (Decreasing)\n",
    "    - $F_Y(y)=1-F_X(g^{-1}(y))+P(X=g^{-1}(y))$"
   ]
  },
  {
   "cell_type": "markdown",
   "id": "a7c779a5",
   "metadata": {},
   "source": [
    "#### PDF-method\n",
    "\n",
    "$f_{Y}(y)=\\frac{d}{dy}F_{Y}(y)=\\begin{cases}f_{X}(g^{-1}(y))\\frac{d}{dy}g^{-1}(y)&\\text{if g is increasing}\\\\\\\\-f_{X}(g^{-1}(y))\\frac{d}{dy}g^{-1}(y)&\\text{if g is decreasing}\\end{cases}$\n",
    "- $g$ is a *monotone* function\n",
    "$f_{Y}(y)=\\begin{cases}f_{X}(g^{-1}(y))|\\frac{d}{dy}g^{-1}(y)|&y\\in\\mathcal{Y}\\\\\\\\0&\\text{otherwise}\\end{cases}$"
   ]
  },
  {
   "cell_type": "markdown",
   "id": "f8bc0618",
   "metadata": {},
   "source": [
    "#### When $g$ is monotone only on certain intervals\n",
    "\n",
    "If $\\mathcal{X}$ can be split into sets $A_1,...,A_k$ and $g$ can be split into $g_1{x},...,g_k{x}$ such that\n",
    "- $g(x)=g_i(x)$ for $x\\in A_i$\n",
    "- $g_i$ is a monotone function from $A_i$ onto $\\mathcal{Y}$, then\n",
    "    \n",
    "    $f_Y(y)=\\begin{cases}\\sum_{i=1}^k f_X \\big(g_i^{-1}(y)\\big)\\left|\\frac{d}{dy}g_i^{-1}(y)\\right|&y\\in\\mathcal{Y}\\\\\\\\0&\\text{otherwise}\\end{cases}$"
   ]
  }
 ],
 "metadata": {
  "kernelspec": {
   "display_name": "Python 3 (ipykernel)",
   "language": "python",
   "name": "python3"
  },
  "language_info": {
   "codemirror_mode": {
    "name": "ipython",
    "version": 3
   },
   "file_extension": ".py",
   "mimetype": "text/x-python",
   "name": "python",
   "nbconvert_exporter": "python",
   "pygments_lexer": "ipython3",
   "version": "3.9.13"
  }
 },
 "nbformat": 4,
 "nbformat_minor": 5
}
