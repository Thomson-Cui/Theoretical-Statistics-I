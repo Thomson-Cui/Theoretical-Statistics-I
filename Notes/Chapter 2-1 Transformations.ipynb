{
 "cells": [
  {
   "cell_type": "markdown",
   "id": "7b8ef9f0",
   "metadata": {},
   "source": [
    "## Inverse mapping\n",
    "\n",
    "For a function $g(x)$: $\\mathcal{X}\\to\\mathcal{Y}$ we define an inverse mapping as\n",
    "\n",
    "$$g^{-1}(A)=\\{x\\in\\mathcal{X}:g(x)\\in A\\}$$\n",
    "\n",
    "For any set $A\\subset\\mathcal{Y}$\n",
    "- Note that $g^{-1}(A)\\subset\\mathcal{X}$\n",
    "\n",
    "In particular:\n",
    "\n",
    "$$g^{-1}\\left(\\{y\\}\\right)=\\{x\\in\\mathcal{X}:g(x)=y\\}$$\n",
    "\n",
    "- Can still be a set in $\\mathcal{X}$ rather than just one number \n",
    "- Usually just write $g^{-1}(y)$"
   ]
  },
  {
   "cell_type": "markdown",
   "id": "5076cdf8",
   "metadata": {},
   "source": [
    "## More on inverse mapping\n",
    "\n",
    "- A function $g(x):\\mathcal{X}\\to\\mathcal{Y}$ is a one-to-one function if and only if $\\forall y\\in\\mathcal{y}$ we have\n",
    "\n",
    "$$g^{-1}\\left(\\{y\\}\\right)=\\{x\\}$$\n",
    "\n",
    "- Can also write $g^{-1}\\left(y\\right)$\n",
    "\n",
    "- Strictly monotone functions are one-to-one"
   ]
  },
  {
   "cell_type": "markdown",
   "id": "bfaf62f1",
   "metadata": {},
   "source": [
    "## Probability of a transformation\n",
    "\n",
    "Let $X$ be a random variable in $(S,\\mathcal{B},P)$ and let $Y=g(X)$.\n",
    "\n",
    "Probabilities for $Y$ can be obtained from probabilities of $X$ and the inverse mapping $g^{-1}(·)$\n",
    "\n",
    "In general, $P(Y\\in A)=P(X\\in g^{-1}(A)), A\\subset\\mathcal{Y}$\n",
    "\n",
    "In particular, $F_Y(y)= P(Y\\leq y)=P(X\\in g^{-1}((-\\infty,y])$"
   ]
  },
  {
   "cell_type": "markdown",
   "id": "f9276b36",
   "metadata": {},
   "source": [
    "## Discrete random variables\n",
    "\n",
    "Let $X$ be a discrete random variable and let $Y=g(X)$ for some function $g(·)$\n",
    "\n",
    "Then $Y$ is a discrete random variable\n",
    "\n",
    "Then\n",
    "\n",
    "$\\begin{aligned}f_{Y}(y)&=P(Y=y)=P(g(x)=y)\\\\&=P(X\\in g^{-1}(y))=P(x\\in\\{x:g(x)=y\\})\\\\&=\\sum_{x\\in g^{-1}(y)}P(X=x)=\\sum_{x\\in g^{-1}(y)}f_{x}(x)\\end{aligned}$\n",
    "\n",
    "And\n",
    "\n",
    "$F_Y(y)=\\sum_{u\\leq y}f_Y(y)$"
   ]
  },
  {
   "cell_type": "markdown",
   "id": "3d076180",
   "metadata": {},
   "source": [
    "## Monotone transformation\n",
    "\n",
    "It's easiest to deal with 'monotone' functions $g$:\n",
    "\n",
    "- Increasing: $u>v\\Rightarrow g(u)>g(v)$\n",
    "- Decreasing: $u>v\\Rightarrow g(u)<g(v)$\n",
    "\n",
    "The support of a distribution (or random variable) is definede as\n",
    "\n",
    "$$\\begin{aligned}\\mathcal{X}=\\{x:f_X(x)>0\\}&&(1)\\\\\\mathrm{and~let~}\\mathcal{Y}=\\{y:\\exists x\\in\\mathcal{X}\\text{ such that }g(x)=y\\}&&(2)\\end{aligned}$$\n",
    "\n",
    "If $g$ is monotone on $\\mathcal{X}$ then it is one-to-one and onto from $\\mathcal{X}$ to $\\mathcal{Y}$.\n",
    "- Uniquely pairs an $x$ to one $y$\n",
    "- Get an inverse function: $g^{-1}(y)=x$"
   ]
  },
  {
   "cell_type": "markdown",
   "id": "9ca41081",
   "metadata": {},
   "source": [
    "## CDF-method\n",
    "\n",
    "**Theorem (\"cdf-method\")**\n",
    "\n",
    "Let $X$ be a random variable with cdf $F_X(x)$ and let $Y = g(X)$. Then\n",
    "1. If $g$ is an increasing function on $X$ then\n",
    "$$F_Y(y)=F_X(g^{-1}(y))$$\n",
    "2. If $g$ is a decreasing function on $\\mathcal{X}$ and $X$ is **continuous** , then\n",
    "$$F_Y(y)=1-F_X(g^{-1}(y))$$\n",
    "- In general, i.e.for both continuous and discrete (Decreasing)\n",
    "$$F_Y(y)=1-F_X(g^{-1}(y))+P(X=g^{-1}(y))$$"
   ]
  },
  {
   "cell_type": "markdown",
   "id": "6d19ee98",
   "metadata": {},
   "source": [
    "## PDF-method\n",
    "\n",
    "**Theorem (\"pdf method\")**\n",
    "\n",
    "Let $X$ be a continuous random variable with pdf $f_X(s)$ and let $Y=g(X)$ where $g$ is a *monotone* function. Suppose that $f_X(x)$ is continuous on $\\mathcal{X}$ and that $g^{-1}(y)$ has a continuous derivative on $\\mathcal{Y}$. Then the pdf of $Y$ is given by:\n",
    "\n",
    "$$f_{Y}(y)=\\frac{d}{dy}F_{Y}(y)=\\begin{cases}f_{X}(g^{-1}(y))\\frac{d}{dy}g^{-1}(y)&\\text{if g is increasing}\\\\\\\\-f_{X}(g^{-1}(y))\\frac{d}{dy}g^{-1}(y)&\\text{if g is decreasing}\\end{cases}$$\n",
    "\n",
    "$$f_{Y}(y)=\\begin{cases}f_{X}(g^{-1}(y))|\\frac{d}{dy}g^{-1}(y)|&y\\in\\mathcal{Y}\\\\\\\\0&\\text{otherwise}\\end{cases}$$"
   ]
  },
  {
   "cell_type": "markdown",
   "id": "612975f7",
   "metadata": {},
   "source": [
    "## Probability integral transformation\n",
    "\n",
    "**Theorem**\n",
    "\n",
    "Let $X$ have a continuous cdf $F_X(x)$ and let $Y=F_X(X)$. Then $Y$ is **uniformly distributed** on (0,1), i.e. $P(Y\\leq y)=y,0<y<1.$\n",
    "\n",
    "$$\\left.F_Y(y)=\\left\\{\\begin{array}{ll}0&,y\\leq0\\\\y&,0<y<1\\\\1&,y\\geq1\\end{array}\\right.\\right.$$"
   ]
  },
  {
   "cell_type": "markdown",
   "id": "8c28069a",
   "metadata": {},
   "source": [
    "## When $g$ is monotone only on certain intervals\n",
    "\n",
    "If $\\mathcal{X}$ can be split into sets $A_1,...,A_k$ and $g$ can be split into $g_1{x},...,g_k{x}$ such that\n",
    "- $g(x)=g_i(x)$ for $x\\in A_i$\n",
    "- $g_i$ is a monotone function from $A_i$ onto $\\mathcal{Y}$, then\n",
    "$$f_Y(y)=\\begin{cases}\\sum_{i=1}^k f_X \\big(g_i^{-1}(y)\\big)\\left|\\frac{d}{dy}g_i^{-1}(y)\\right|&y\\in\\mathcal{Y}\\\\\\\\0&\\text{otherwise}\\end{cases}$$\n"
   ]
  }
 ],
 "metadata": {
  "kernelspec": {
   "display_name": "Python 3 (ipykernel)",
   "language": "python",
   "name": "python3"
  },
  "language_info": {
   "codemirror_mode": {
    "name": "ipython",
    "version": 3
   },
   "file_extension": ".py",
   "mimetype": "text/x-python",
   "name": "python",
   "nbconvert_exporter": "python",
   "pygments_lexer": "ipython3",
   "version": "3.9.13"
  }
 },
 "nbformat": 4,
 "nbformat_minor": 5
}
