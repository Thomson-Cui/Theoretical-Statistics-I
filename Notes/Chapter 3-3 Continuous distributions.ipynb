{
 "cells": [
  {
   "cell_type": "markdown",
   "id": "c7dcebe2",
   "metadata": {},
   "source": [
    "## Uniform Distributions - Uniform(a,b)\n",
    "- PDF: $f(x|a,b)=\\frac{1}{b-a},\\,x\\in[a,b]$\n",
    "- Parameter space: $-\\infty<a\\leq b<\\infty$\n",
    "- cdf: $F(x)=\\begin{cases}0&x<a\\\\\\frac{x-a}{b-a}&a\\leq x\\leq b\\\\1&x>b&\\end{cases}$\n",
    "- $E(X)=\\frac{a+b}{2}$, $Var(X)=\\frac{(b-a)^2}{12}$\n",
    "- $M_X(t)=\\frac{e^{tb}-e^{ta}}{t(b-a)}$\n",
    "\n",
    "## Beta Distributions – Beta$(\\alpha,\\beta)$\n",
    "- PDF: \n",
    "\n",
    "    $\\begin{aligned}\n",
    "    f(x\\mid\\alpha,\\beta)&=\\frac{\\Gamma(\\alpha+\\beta)}{\\Gamma(\\alpha)\\Gamma(\\beta)}x^{\\alpha-1}\\left(1-x\\right)^{\\beta-1}\\\\\n",
    "    &=\\frac{1}{B(\\alpha,\\beta)} x^{\\alpha-1} (1-x)^{\\beta-1},\\,x\\in[0,1]\n",
    "    \\end{aligned}$\n",
    "    \n",
    "- Parameter space: $\\alpha>0,\\beta>0$\n",
    "- Special case: Beta(1, 1) = Uniform(0, 1)\n",
    "- $B(\\alpha,\\beta)=\\int_{0}^{1}x^{\\alpha-1}(1-x)^{\\beta-1}dx=\\frac{\\Gamma(\\alpha)\\Gamma(\\beta)}{\\Gamma(\\alpha+\\beta)}$\n",
    "- $\\int_{0}^{1}\\frac{P(\\alpha+\\beta)}{P(\\alpha)P(\\beta)}X^{\\alpha-1}(1-x)^{\\beta-1}dx=1$\n",
    "- $E(x^{n})=\\frac{\\Gamma(\\alpha+\\beta)\\Gamma(\\alpha+n)}{\\Gamma(\\alpha)\\Gamma(\\alpha+\\beta+n)}$\n",
    "- $E(X)=\\frac{\\alpha}{\\alpha+\\beta}$, $\\mathrm{Var}(X)=\\frac{\\alpha\\beta}{(\\alpha+\\beta)^2(\\alpha+\\beta+1)}$"
   ]
  },
  {
   "cell_type": "markdown",
   "id": "cf136a5e",
   "metadata": {},
   "source": [
    "## Gamma distributions – Gamma($\\alpha,\\beta$)\n",
    "- $f(x\\mid\\alpha,\\beta)=\\frac1{\\Gamma(\\alpha)\\beta^\\alpha}x^{\\alpha-1}e^{-x/\\beta},\\,x>0$\n",
    "- Parameter space: $\\alpha>0, \\beta>0$\n",
    "- $E(X)=\\alpha\\beta$, $Var(X)=\\alpha\\beta^2$\n",
    "- $M_X(t)=\\frac1{(1-t\\beta)^\\alpha},\\,t<\\frac1\\beta $"
   ]
  },
  {
   "cell_type": "markdown",
   "id": "231b2f89",
   "metadata": {},
   "source": [
    "## Chi-square distributions – $\\mathcal{X^2_p}$\n",
    "- Gamma($\\frac{p}{2},2$), for $p=1,2,3,...$ is called the chi-square distribution with $p$ degrees of freedom\n",
    "- pdf: $f(x)=\\frac{1}{\\Gamma\\left(\\frac{p}{2}\\right)2^{p/2}}x^{{\\frac{p}{2}-1}}e^{-x/2},\\,x>0$\n",
    "- If $X\\sim\\mathcal{x^2_p}$ then $E(X)=p$ and $Var(X)=2p$"
   ]
  },
  {
   "cell_type": "markdown",
   "id": "b2ba7790",
   "metadata": {},
   "source": [
    "## Exponential distributions – Expo($\\beta$)\n",
    "- Gamma$(1,\\beta)$ for $\\beta>0$ is called the Exponential distribution\n",
    "- pdf: $f(x\\mid\\beta)=\\frac1\\beta e^{-x/\\beta},\\,x>0$\n",
    "- cdf: $F(x)=\\begin{cases}0&x\\leq0\\\\1-e^{-x/\\beta}&x>0&\\end{cases}$\n",
    "- Memoryless property: If $X\\sim\\mathrm{Expo}(\\beta),t>0,h>0$ \n",
    "    - then $P(X>t+h\\mid X>t)=P(X>h)$\n",
    "- $E(X)=\\beta, Var(X)=\\beta^2$"
   ]
  },
  {
   "cell_type": "markdown",
   "id": "2fbbb958",
   "metadata": {},
   "source": [
    "## Relationship between Gamma and Poisson\n",
    "\n",
    "- A Poisson process describes events that happen at random times (or places)\n",
    "- In a Poisson process\n",
    "    - the number of events in an interval has a Poisson distribution\n",
    "    - the time until the next event has an Exponential distribution\n",
    "    - the time until the r-th event has a Gamma distribution\n",
    "- Let $X\\sim Gamma(r,\\beta)$ where $r$ is an integer. Then for any $x$\n",
    "    - $P(X\\leq x)=P(Y\\geq r),\\,T\\sim Poisson(x/\\beta)$"
   ]
  },
  {
   "cell_type": "markdown",
   "id": "8397f340",
   "metadata": {},
   "source": [
    "## DExpo($\\mu,\\sigma$)\n",
    "- pdf: $f(x\\mid\\mu,\\sigma)=\\frac1{2\\sigma}e^{-|x-\\mu|/\\sigma},\\,\\mathrm{~for~}-\\infty<x<\\infty$\n",
    "    - Parameter space: $\\mu\\in\\mathbb{R},\\sigma>0$\n",
    "- $E(X)=\\mu,\\,\\mathrm{Var}(X)=2\\sigma^2$\n",
    "- $M_X(t)=\\frac{e^{\\mu t}}{1-(\\sigma t)^2},\\,\\mathrm{~for~}|t|<\\frac1\\sigma $"
   ]
  },
  {
   "cell_type": "markdown",
   "id": "e2d4465e",
   "metadata": {},
   "source": [
    "## Normal Distributions – N($\\mu,\\sigma^2$)\n",
    "- $f(x\\mid\\mu,\\sigma^2)=\\frac1{\\sqrt{2\\pi}\\sigma}e^{-(x-\\mu)^2/2\\sigma^2},\\,\\mathrm{~for~}-\\infty<x<\\infty$\n",
    "    - $\\mu\\in\\mathbb{R},\\sigma^2>0$ \n",
    "- $E(X)=\\mu,\\,\\mathrm{Var}(X)=\\sigma^2$\n",
    "- $M_X(t)=e^{\\mu t+\\sigma^2t^2/2}$\n",
    "- $z=\\frac{x-\\mu}{\\sigma}\\sim N(0,1)$\n",
    "- $f(z)=\\frac1{\\sqrt{2\\pi}}e^{-\\frac{z^2}2}$\n",
    "    \n",
    "    $\\begin{align}\n",
    "&g(x)=\\frac{x-\\mu}{\\sigma}=z \\\\\n",
    "&x = \\sigma z + \\mu \\\\\n",
    "    \\end{align}$\n"
   ]
  },
  {
   "cell_type": "markdown",
   "id": "67639189",
   "metadata": {},
   "source": [
    "## Cauchy Distributions - Cauchy($\\theta,\\sigma$)\n",
    "- pdf: $f(x\\mid\\theta,\\sigma)=\\frac1{\\pi\\sigma}\\frac1{1+(x-\\theta)^2/\\sigma^2},\\,\\mathrm{~for~}-\\infty<x<\\infty$\n",
    "    - Parameter space: $\\mu\\in\\mathbb{R},\\sigma^{2}>0$\n",
    "    - $\\theta$=median=mode\n",
    "    - No $E(X), Var(X), mgf$"
   ]
  },
  {
   "cell_type": "markdown",
   "id": "93387794",
   "metadata": {},
   "source": [
    "## LogNormal Distributions – LogNormal($\\mu,\\sigma$)\n",
    "- pdf: $f(x;\\mu,\\sigma)=\\begin{cases}\\frac{1}{x\\sigma\\sqrt{2\\pi}}e^{-\\frac{(\\ln x-\\mu)^2}{2\\sigma^2}}&\\text{if}x>0\\\\0&\\text{if}x\\leq0\\end{cases}$\n",
    "    - Parameter space: $\\mu\\in\\mathbb{R},\\sigma^{2}>0$\n",
    "    - If $X\\sim N(\\mu,\\sigma^2)$, then $Y=e^X\\sim$ LogNormal($\\mu,\\sigma^2$)\n",
    "    - If $X\\sim$ LogNormal($\\mu,\\sigma^2$), then $Y=ln(X)\\sim N(\\mu,\\sigma^2)$\n",
    "- $E(X)=e^{\\mu+\\sigma^2/2},\\,\\text{Var}(X)=e^{2(\\mu+\\sigma^2)}-e^{2\\mu+\\sigma^2}$\n",
    "- $M_X(t)$ = does not exist, but: $E(X^n)=e^{n\\mu+n^2\\sigma^2/2}$"
   ]
  }
 ],
 "metadata": {
  "kernelspec": {
   "display_name": "Python 3 (ipykernel)",
   "language": "python",
   "name": "python3"
  },
  "language_info": {
   "codemirror_mode": {
    "name": "ipython",
    "version": 3
   },
   "file_extension": ".py",
   "mimetype": "text/x-python",
   "name": "python",
   "nbconvert_exporter": "python",
   "pygments_lexer": "ipython3",
   "version": "3.9.13"
  }
 },
 "nbformat": 4,
 "nbformat_minor": 5
}
