{
 "cells": [
  {
   "cell_type": "markdown",
   "id": "1b31e89c",
   "metadata": {},
   "source": [
    "# Conditional Probability"
   ]
  },
  {
   "cell_type": "markdown",
   "id": "f144335d",
   "metadata": {},
   "source": [
    "Let $A$ and $B$ be events in $S$ and $P(B)>0$. Then the conditional probability of $A$ given $B$ is defined as:\n",
    "\n",
    "$$P(A\\mid B)=\\frac{P(A\\cap B)}{P(B)}$$\n",
    "\n",
    "Thus, we can get:\n",
    "\n",
    "$$P(A\\cap B)=P(A\\mid B)P(B)\\\\P(A\\cap B)=P(B\\mid A)P(A)$$"
   ]
  },
  {
   "cell_type": "markdown",
   "id": "81aae7c4",
   "metadata": {},
   "source": [
    "### Theorem\n",
    "\n",
    "Let $B$ be an event and $P(B)>0$. Conditional probability $P(·|B)$ is a probability function. That is, it satisfies Kolmogorov's axioms:\n",
    "\n",
    "1. $P(A|B)\\geq0,\\forall A\\in\\mathcal{B}$ \n",
    "2. $P(S|B)=1$\n",
    "3. If $A_1, A_2, A_3,...$ are mutually exclusive then $P\\left(\\bigcup_{i=1}^\\infty A_i\\mid B\\right)=\\sum_{i=1}^\\infty P(A_i\\mid B)$\n",
    "\n",
    "### More on Conditional Probability\n",
    "\n",
    "$P(A|B)=1-P(A^c|B)$\n",
    "\n",
    "$P(A_1\\cup A_2|B)=P(A_1|B)+P(A_2|B)-P(A_1\\cap A_2|B)$\n",
    "\n",
    "$P(A\\cap B)=P(A|B)P(B)=P(B|A)P(A)$\n",
    "\n",
    "$P(A\\cap B\\cap C)=P(A|B\\cap C)P(B|C)P(C)$\n",
    "\n",
    "$P(A_1\\cap A_2\\cap A_3\\cap A_4)=P(A_3\\cap A_4|A_1\\cap A_2)P(A_1\\cap A_2)$"
   ]
  },
  {
   "cell_type": "markdown",
   "id": "65cb607c",
   "metadata": {},
   "source": [
    "### Bayes Theorem\n",
    "\n",
    "Let $A$ and $B$ be events an let $P(B)>0$. Then\n",
    "\n",
    "$P(A|B)=\\frac{P(A\\cap B)}{P(B)}=\\frac{P(B|A)·P(A)}{P(B)}$\n",
    "\n",
    "Bayes Theorem is often written as: Let **$A_1, A_2,...$ be a partition** of $S$ and let $B$ be an event in $S$. Then for each $i$ we have\n",
    "\n",
    "$P(B)=\\sum_{j = 1}^{\\infty}P(B|A_j)P(A_j)=\\sum_{j = 1}^{\\infty}P(B\\cap A_j)$\n",
    "\n",
    "$P(A_i|B)=\\frac{P(B|A_i)P(A_i)}{\\sum_{j = 1}^{\\infty}P(B|A_j)P(A_j)}$\n",
    "\n",
    "A simple case: $P(A|B)=\\frac{P(B|A)P(A)}{P(B|A)P(A)+P(B|A^c)P(A^c)}$"
   ]
  },
  {
   "cell_type": "markdown",
   "id": "ed56c79c",
   "metadata": {},
   "source": [
    "### Independence - two events\n",
    "\n",
    "Two events $A$ and $B$ are said to be statistically independent if\n",
    "\n",
    "$$P(A\\cap B)=P(A)P(B)$$\n",
    "\n",
    "- If $A$ and $B$ are independent then\n",
    "\n",
    "$$P(A|B) = P(A) = \\frac{P(A)·P(B)}{P(A)}$$"
   ]
  },
  {
   "cell_type": "markdown",
   "id": "c241e02f",
   "metadata": {},
   "source": [
    "### Independence - many events\n",
    "\n",
    "A collection of events $A_1, A_2,..., A_n$ are are mutually independent if for\n",
    "any sub-collection $A_{i_1}, A_{i_2},..., A_{i_k}$, we have \n",
    "\n",
    "$$P\\left(\\bigcap_{j=1}^kA_{i_j}\\right)=\\prod_{j=1}^kP(A_{i_j})$$\n",
    "\n",
    "e.g. $i_1 = 2, i_2=4, i_3 = 5, i_4=9$, $\\begin{aligned}&P(A_{2}\\cap A_{4}\\cap A_{5}\\cap A_{9})=P(A_{2})P(A_{4})P(A_{5})P(A_{9})\\end{aligned}$."
   ]
  }
 ],
 "metadata": {
  "kernelspec": {
   "display_name": "Python 3 (ipykernel)",
   "language": "python",
   "name": "python3"
  },
  "language_info": {
   "codemirror_mode": {
    "name": "ipython",
    "version": 3
   },
   "file_extension": ".py",
   "mimetype": "text/x-python",
   "name": "python",
   "nbconvert_exporter": "python",
   "pygments_lexer": "ipython3",
   "version": "3.9.13"
  }
 },
 "nbformat": 4,
 "nbformat_minor": 5
}
