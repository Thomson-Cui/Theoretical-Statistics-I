{
 "cells": [
  {
   "cell_type": "markdown",
   "metadata": {},
   "source": [
    "### Theorem 5.3.1: Distributions of sample mean $\\bar{X}$ and sample variance $S^2$\n",
    "Let $X_1,...,X_n$ be a random sample from $N(\\mu,\\sigma^2)$ and let\n",
    "\n",
    "$\\bar{X}=\\frac{1}{n}\\sum_{i=1}^{n}X_i$ and $S^2=\\frac{1}{n-1}\\sum_{i=1}^{n}(X_i-\\bar{X})^2$\n",
    "\n",
    "Then,\n",
    "\n",
    "(a) $\\bar{X}$ and $S^2$ are independent\n",
    "\n",
    "(b) $\\bar{X}\\sim N(\\mu,\\frac{\\sigma^2}{n})$\n",
    "\n",
    "(c) $\\frac{(n-1)S^2}{\\sigma^2}\\sim\\chi_{n-1}^2$"
   ]
  },
  {
   "cell_type": "markdown",
   "metadata": {},
   "source": [
    "### Proof of (a)\n",
    "- Note first that $S^2$ is \"over determined\" with $n+1$ terms\n",
    "\n",
    "    $X_1.X_2....,X_n,\\bar{X}$\n",
    "\n",
    "    Can write $S^2$ without $X_1$:\n",
    "\n",
    "    $\\begin{aligned}\n",
    "    X_1 &= n\\bar{X}-(X_2+,...,+X_n)\\\\\n",
    "        &= \\bar{X} + \\sum_{i=2}^{n}(\\bar{X}-X_i)\n",
    "    \\end{aligned}$\n",
    "\n",
    "    $\\begin{aligned}\n",
    "    S^2&=\\frac{1}{n-1}\\sum_{i=1}^{n}(X_i-\\bar{X})^2\\\\\n",
    "       &=\\frac{1}{n-1}((X_1-\\bar{X})^2+\\sum_{i=2}^{n}(X_i-\\bar{X})^2)\\\\ \n",
    "       &=\\frac{1}{n-1}((\\sum_{i=2}^{n}(X_i-\\bar{X}))^2+\\sum_{i=2}^{n}(X_i-\\bar{X})^2),\\,\\text{only n-1 terms}\\\\\n",
    "    \\end{aligned}$\n",
    "\n",
    "- We have written $S^2$ as a function of $n-1$ terms:\n",
    "\n",
    "    $(X_2-\\bar{X}),(X_3-\\bar{X}),...,(X_n-\\bar{X})$\n",
    "\n",
    "- Show that $\\bar{X}$ and the random vector ($X_2-\\bar{X},X_3-\\bar{X},...,X_n-\\bar{X}$) are independent\n",
    "    - then we have shown that $\\bar{X}$ and $S^2$ are independent\n",
    "        - $(X_1,...,X_n)\\to(Y_1,...,Y_n)$ show: $Y_1$ and $Y_2,...,Y_n$ are independent\n",
    "\n",
    "- Define an $n$ dimensional transformation:\n",
    "\n",
    "    $Y_1=\\bar{X},Y_2=X_2-\\bar{X},Y_3=X_3-\\bar{X},...,Y_n=X_n-\\bar{X}$\n",
    "\n",
    "- Want to show that\n",
    "\n",
    "    $f(y_1,y_2,y_3,...,y_n)=g(y_1)h(y_2,y_3,...,y_n)$\n",
    "\n",
    "    for some functions $g(\\cdot)$ and $h(\\cdot)$\n"
   ]
  },
  {
   "cell_type": "markdown",
   "metadata": {},
   "source": [
    "Finding the inverse functions:\n",
    "\n",
    "$Y_1=\\bar{X},Y_2=X_2-\\bar{X},Y_3=X_3-\\bar{X},...,Y_n=X_n-\\bar{X}$\n",
    "\n",
    "$\\Rightarrow n$-dim Transformation\n",
    "\n",
    "\n",
    "$\n",
    "X_1= \\bar{X} + \\sum_{i=2}^{n}(\\bar{X}-X_i)=Y_1-(Y_2+Y_3+...+Y_n)\\\\\n",
    "X_2=Y_2+Y_1\\\\\n",
    "X_3=Y_3+Y_1\\\\\n",
    "X_4=Y_4+Y_1\\\\\n",
    "\\vdots\\\\\n",
    "X_n=Y_n+Y_1$\n",
    "\n",
    "$\n",
    "\\frac{\\partial x_1}{\\partial y_1} = 1, \\frac{\\partial x_1}{\\partial y_2} = -1,\\cdots, \\frac{\\partial x_1}{\\partial y_n} = -1 \\\\\n",
    "\\frac{\\partial x_2}{\\partial y_1} = 1, \\frac{\\partial x_2}{\\partial y_2} = 1,\\frac{\\partial x_2}{\\partial y_2} = 0,\\cdots,\\frac{\\partial x_2}{\\partial y_n} = 0 \\\\\n",
    "\\vdots\n",
    "$\n",
    "\n",
    "for $k=2,...,n$ we get $\\frac{\\partial x_k}{\\partial y_1} = 1$ and $\\frac{\\partial x_k}{\\partial y_k} = 1$, other derivatives are 0.\n",
    "\n",
    "The Jacobian is therefore:\n",
    "\n",
    "$\\left\\lvert\\,\\left[\\begin{array}{ccc}\n",
    "\\frac{\\delta x_{1}}{\\delta y_{1}} & \\cdots & \\frac{\\delta x_{1}}{\\delta y_{n}} \\\\\n",
    "\\vdots & & \\\\\n",
    "\\frac{\\delta x_{n}}{\\delta y_{1}} & \\cdots & \\frac{\\delta x_{n}}{\\delta y_{n}}\n",
    "\\end{array}\\right]\\right\\lvert=\n",
    "\\left|\\left[\\begin{array}{cccccc}\n",
    "1 & -1 & -1 & -1 & \\cdots & -1 \\\\\n",
    "1 & 1 & 0 & 0 & \\cdots & 0 \\\\\n",
    "1 & 0 & 1 & 0 & \\cdots & 0 \\\\\n",
    "1 & 0 & 0 & 1 & \\cdots & 0 \\\\\n",
    "\\vdots & \\vdots & \\vdots & \\vdots & & \\vdots \\\\\n",
    "1 & 0 & 0 & 0 & \\cdots & 1\n",
    "\\end{array}\\right]\\right|=$\n",
    "\n",
    "$\\left|\\left[\\begin{array}{cccccc}\n",
    "n & 0 & 0 & 0 & \\cdots & 0 \\\\\n",
    "1 & 1 & 0 & 0 & \\cdots & 0 \\\\\n",
    "1 & 0 & 1 & 0 & \\cdots & 0 \\\\\n",
    "1 & 0 & 0 & 1 & \\cdots & 0 \\\\\n",
    "\\vdots & \\vdots & \\vdots & \\vdots & & \\vdots \\\\\n",
    "1 & 0 & 0 & 0 & \\cdots & 1\n",
    "\\end{array}\\right]\\right|$=$n\\cdot 1\\cdot 1...\\cdot 1=n\\Rightarrow|J|=|n|=n$ \n",
    "\n",
    "\n",
    "\n",
    "\n"
   ]
  },
  {
   "cell_type": "markdown",
   "metadata": {},
   "source": [
    "- Find the inverse functions $h_i(\\underline{y})$ and Jacobian and then\n",
    "\n",
    "    $f(\\underline{y})=f_{\\underline{X}}(h_1{(\\underline{y}),...,h_n({\\underline{y}})})|J|$"
   ]
  },
  {
   "cell_type": "markdown",
   "metadata": {},
   "source": [
    "- Assuming $X_1,...,X_n$ are i.i.d. $N(0,1)$ we have\n",
    "\n",
    "    $f_X=\\prod_{i=1}^{n}\\frac{1}{\\sqrt{2\\pi}}exp(-x_i^2/2)=(2\\pi)^{-n/2}exp(-\\frac{1}{2}\\sum_{i=1}^{n}x_i^2)$\n",
    "- Therefore\n",
    "\n",
    "    $f(\\underline{y})=(2\\pi)^{-n/2}exp(-\\frac{1}{2}((y_1-\\sum_{i=2}^{n}y_i))^2+\\sum_{i=2}^n(y_i+y_1)^2)\\cdot n$\n",
    "\n",
    "    if = $g(y_1)\\cdot h(y_2,...,y_n)$ the proof is done $\\to$"
   ]
  },
  {
   "cell_type": "markdown",
   "metadata": {},
   "source": [
    "- Let's do it.\n",
    "\n",
    "    $\\begin{aligned}\n",
    "    f(\\underline{y})\n",
    "    &=(2\\pi)^{-n/2}exp(-\\frac{1}{2}((y_1-\\sum_{i=2}^{n}y_i))^2+\\sum_{i=2}^n(y_i+y_1)^2)\\cdot n\\\\\n",
    "    &=n(2\\pi)^{-n/2}exp(-\\frac{1}{2}(y_1^2-2y_1\\sum_{i=2}^{n}y_i+(\\sum_{i=2}^{n}y_i)^2+\\sum_{i=2}^n(y_i^2+2y_iy_1+y_1^2)))\\\\\n",
    "    &=n(2\\pi)^{-n/2}exp(-\\frac{1}{2}(ny_1^2+(\\sum_{i=2}^{n}y_i)^2+\\sum_{i=2}^{n}y_i^2))\\\\\n",
    "    &=n(2\\pi)^{-n/2}exp(-\\frac{1}{2}ny_1^2)exp(-\\frac{1}{2}((\\sum_{i=2}^{n}y_i)^2+\\sum_{i=2}^{n}y_i^2))\\\\\n",
    "    &=n(2\\pi)^{-n/2}g(y_1)h(y_2,y_3,...,y_n)\\\\\n",
    "    &\\Rightarrow Y_1 \\text{ and } (Y_2,...,Y_n) \\text{ are independent.}\\\\\n",
    "    &\\Rightarrow \\bar{X} \\text{ and } S^2 \\text{ are independent.}\n",
    "    \\end{aligned}$"
   ]
  },
  {
   "cell_type": "markdown",
   "metadata": {},
   "source": [
    "### About the $\\chi_p^2$ distribution = Gamma($\\frac{\\sum_{i=1}^{n}p_i}{2},2$)=$\\chi_{p_1,...,p_n}^2$"
   ]
  }
 ],
 "metadata": {
  "language_info": {
   "name": "python"
  }
 },
 "nbformat": 4,
 "nbformat_minor": 2
}
