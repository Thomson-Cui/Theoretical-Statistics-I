{
 "cells": [
  {
   "cell_type": "markdown",
   "id": "9d1255f7",
   "metadata": {},
   "source": [
    "#### DeMorgan's Laws\n",
    "$\\left(A\\cup B\\right)^\\mathbf{c}=A^\\mathbf{c}\\cap B^\\mathbf{c},\\\\\\left(A\\cap B\\right)^\\mathbf{c}=A^\\mathbf{c}\\cup B^\\mathbf{c}.$\n",
    "#### Symmetric difference XOR\n",
    "$A\\triangle B=(A\\setminus B)\\cup(B\\setminus A)$\n",
    "#### DeMorgan’s law generalizes to n sets:\n",
    "$\\left(\\bigcup_{i=1}^{n}A_{i}\\right)^{c}=\\bigcap_{i=1}^{n}A_{i}^{c}\\quad\\mathrm{~and~}\\quad\\left(\\bigcap_{i=1}^{n}A_{i}\\right)^{c}=\\bigcup_{i=1}^{n}A_{i}^{c}$\n",
    "#### σ-algebra\n",
    "Formally, a collection $\\mathcal{B}$ of subsets of $S$ is a $\\sigma$-algebra if:\n",
    "\n",
    "1. $\\emptyset \\in \\mathcal{B}$,\n",
    "2. If $A \\in \\mathcal{B}$, then $A^c \\in \\mathcal{B}$,\n",
    "3. If $A_1, A_2, A_3, \\ldots \\in \\mathcal{B}$, then $\\bigcup_{i=1}^{\\infty} A_i \\in \\mathcal{B}$.\n",
    "\n",
    "#### Theorem: If $\\mathcal{B}$ is a $\\sigma-$algebra then\n",
    "$\n",
    "\\begin{aligned}&\\mathrm{(a)~}S\\in\\mathcal{B}\\\\&\\mathrm{(b)~If~}A_1,A_2,A_3,\\ldots\\in\\mathcal{B}\\mathrm{~then~}\\bigcap_{i=1}^\\infty A_i\\in\\mathcal{B}\\end{aligned}\n",
    "$\n",
    "\n",
    "#### Probability function\n",
    "A **probability function** is a function $P(·)$ wtih domain $\\mathcal{B}$ \n",
    "\n",
    "that satisfies the **Kolmogorov axioms**:\n",
    "\n",
    "$\\mathbf{1. } P(A)\\geq0 \\text{ for all } A\\in\\mathcal{B}.$\n",
    "\n",
    "$\\mathbf{2. } P(S) = 1$\n",
    "\n",
    "$\\mathbf{3.}\\mathrm{~If~}A_1,A_2,\\ldots\\in\\mathcal{B}\\mathrm{~are~pairwise~disjoint,~then~}$\n",
    "\n",
    "$P(\\cup_{i=1}^\\infty A_i)=\\sum_{i=1}^\\infty P(A_i).$"
   ]
  },
  {
   "cell_type": "markdown",
   "id": "10ec9577",
   "metadata": {},
   "source": [
    "#### Calculus of Probabilities\n",
    "`Theorem 1`: Let $A \\in \\mathcal{B}$, then\n",
    "\n",
    "$\\begin{aligned}&\\mathrm{(a)~}P(A^c)=1-P(A)\\\\&\\mathrm{(b)~}P(\\emptyset)=0\\\\&\\mathrm{(c)~}P(A)\\leq1\\end{aligned}$\n",
    "\n",
    "`Theorem 2`: Let $A, B \\in\\mathcal{B}, then$\n",
    "\n",
    "$\\begin{aligned}&(\\mathrm{a }) P(A)=P(A\\cap B)+P(A\\cap B^{c})\\\\&(\\mathrm{b}) P(A\\setminus B)=P(A)-P(A\\cap B)\\\\&(\\mathrm{c}) P(A\\cup B)=P(A)+P(B)-P(A\\cap B)\\\\&\\mathrm{(d)~If~}A\\subseteq B\\text{ then }P(A)\\leq P(B)\\end{aligned}$\n",
    "\n",
    "`Theorem 3`: Law of total probability\n",
    "\n",
    "Let $A\\in B$ and let $C_{1}, C_{2},...\\in\\mathcal{B}$ \n",
    "\n",
    "be a partition of $S$. Then\n",
    "\n",
    "$P(A)=\\sum_{i=1}^\\infty P(A\\cap C_i)$"
   ]
  },
  {
   "cell_type": "markdown",
   "id": "2dc03d53",
   "metadata": {},
   "source": [
    "#### Theorem 4: Boole's Ineuality **(Upper bound for $\\cup$ sets)**\n",
    "\n",
    "Let $A_1,A_2,A_3...\\in\\mathcal{B}$. Then\n",
    "\n",
    "$\\begin{aligned}&(\\mathrm{a}) P\\left(\\bigcup_{i=1}^nA_i\\right)\\leq\\sum_{i=1}^nP(A_i),\\mathrm{~for~}n=1,2,3,\\ldots\\\\&(\\mathrm{b}) P\\left(\\bigcup_{i=1}^\\infty A_i\\right)\\leq\\sum_{i=1}^\\infty P(A_i)\\end{aligned}$"
   ]
  },
  {
   "cell_type": "markdown",
   "id": "cb798581",
   "metadata": {},
   "source": [
    "#### Theorem 5: Bonferroni Inequality **(Lower bound for $\\cap$ sets)**\n",
    "\n",
    "Let $A_1, A_2, A_3,...A_n\\in\\mathcal{B}$. Then,\n",
    "\n",
    "$\\begin{aligned}&(\\mathrm{a}) P\\left(\\bigcap_{i=1}^nA_i\\right)\\geq\\sum_{i=1}^nP(A_i)-(n-1)\\\\&(\\mathrm{b}) P\\left(\\bigcap_{i=1}^nA_i\\right)\\geq1-\\sum_{i=1}^nP(A_i^c)\\end{aligned}$"
   ]
  },
  {
   "cell_type": "markdown",
   "id": "1c035114",
   "metadata": {},
   "source": [
    "**How many ways we can pick $r$ items out of $n$ different items.**\n",
    "\n",
    "Case1: Ordered, without replacement $\\frac{n!}{(n-r)!}$\n",
    "\n",
    "Case2: Ordered, with replacement $n^r$\n",
    "\n",
    "Case3: Unordered, without replacement $\\frac{n!}{(n-r)!·r!}= \\left(\\begin{array}{c}n\\\\r\\end{array}\\right)$\n",
    "\n",
    "Case4: Unordered, with replacement $\\left(\\begin{array}{c}n-1+r\\\\r\\end{array}\\right)$"
   ]
  },
  {
   "cell_type": "markdown",
   "id": "f39266ff",
   "metadata": {},
   "source": [
    "### Theorem\n",
    "\n",
    "Let $B$ be an event and $P(B)>0$. \n",
    "\n",
    "Conditional probability $P(·|B)$ is a probability function. \n",
    "\n",
    "That is, it satisfies Kolmogorov's axioms:\n",
    "\n",
    "1. $P(A|b)\\geq0,\\forall A\\in\\mathcal{B}$ \n",
    "2. $P(S|B)=1$\n",
    "3. If $A_1, A_2, A_3,...$ are mutually exclusive \n",
    "    - then $P\\left(\\bigcup_{i=1}^\\infty A_i\\mid B\\right)=\\sum_{i=1}^\\infty P(A_i\\mid B)$"
   ]
  },
  {
   "cell_type": "markdown",
   "id": "6bfe55b5",
   "metadata": {},
   "source": [
    "#### More on Conditional Probability\n",
    "\n",
    "$P(A|B)=1-P(A^c|B)$\n",
    "\n",
    "$P(A_1\\cup A_2|B)=P(A_1|B)+P(A_2|B)-P(A_1\\cap A_2|B)$\n",
    "\n",
    "$P(A\\cap B)=P(A|B)P(B)=P(B|A)P(A)$\n",
    "\n",
    "$P(A\\cap B\\cap C)=P(A|B\\cap C)P(B|C)P(C)$\n",
    "\n",
    "$P(A_1\\cap A_2\\cap A_3\\cap A_4)=P(A_3\\cap A_4|A_1\\cap A_2)P(A_1\\cap A_2)$\n",
    "\n",
    "#### Bayes Theorem\n",
    "\n",
    "Let $A$ and $B$ be events an let $P(B)>0$. Then\n",
    "\n",
    "$P(A|B)=\\frac{P(A\\cap B)}{P(B)}=\\frac{P(B|A)·P(A)}{P(B)}$\n",
    "\n",
    "Bayes Theorem is often written as: Let **$A_1, A_2,...$ \n",
    "\n",
    "be a partition** of $S$ and let $B$ be an event in $S$. \n",
    "\n",
    "Then for each $i$ we have\n",
    "\n",
    "$P(B)=\\sum_{j = 1}^{\\infty}P(B|A_j)P(A_j)=\\sum_{j = 1}^{\\infty}P(B\\cap A_j)$\n",
    "\n",
    "$P(A_i|B)=\\frac{P(B|A_i)P(A_i)}{\\sum_{j = 1}^{\\infty}P(B|A_j)P(A_j)}$\n",
    "\n",
    "A simple case: $P(A|B)=\\frac{P(B|A)P(A)}{P(B|A)P(A)+P(B|A^c)P(A^c)}$"
   ]
  },
  {
   "cell_type": "markdown",
   "id": "044889ef",
   "metadata": {},
   "source": [
    "#### Independence - many events\n",
    "$P\\left(\\bigcap_{j=1}^kA_{i_j}\\right)=\\prod_{j=1}^kP(A_{i_j})$"
   ]
  },
  {
   "cell_type": "markdown",
   "id": "4831201e",
   "metadata": {},
   "source": [
    "#### Properties of a cdf\n",
    "\n",
    "A function $F(x)$ is a cdf **if and only if** the following 3 conditions hold:\n",
    "\n",
    "1. $\\lim_{x\\to-\\infty}F(x)=0$ and $\\lim_{x\\to\\infty}F(x)=1$\n",
    "2. $F(x)$ is a non-decreasing function of $x$\n",
    "3. $F(x)$ is right continuous. That is, $\\forall x_0\\in \\mathbb{R}$ we have $\\lim_{x\\downarrow x_0}F(x)=F(x_0)$"
   ]
  },
  {
   "cell_type": "markdown",
   "id": "a9babff0",
   "metadata": {},
   "source": [
    "#### Properties of a pdf or pmf\n",
    "\n",
    "A function $f_X{(x)}$ is a pdf or pmf of a random variable $X$ if and only if\n",
    "1. $f_{x}(x)\\geq0,\\forall x\\in\\mathbb{R}$\n",
    "\n",
    "2. $\\begin{cases}\\sum_{x}f(x)=1,\\text{if X is discrete}.\\\\\\int_{-\\infty}^{\\infty}f(x)dx=1,\\text{if X is continuous}.\\end{cases}$\n",
    "\n",
    "- If $f(x)$ is a pdf/pmf then (1) and (2) hold.\n",
    "- If (1) and (2) hold for some function $f(x)$, then $f(x)$ is pdf or pmf."
   ]
  },
  {
   "cell_type": "markdown",
   "id": "615dd7e7",
   "metadata": {},
   "source": [
    "#### To determine the distribution of a random variable\n",
    "- Say we know $f(x)$. Then we can determine $F(x)$\n",
    "    - If $X$ is discrete:\n",
    "    $F(x)=\\sum_{u\\leq x}f(u)$\n",
    "    - If $X$ is continuous:\n",
    "    $F(x)=\\int_{-\\infty}^xf(u)du$\n",
    "- Say we know $F(x)$. Then we can determine $f(x)$\n",
    "    - If $X$ is discrete:\n",
    "    $f(x)=F(x)-\\lim_{u\\uparrow x}F(u)$\n",
    "    - If $X$ is continuous and the derivative of $F$ exists:\n",
    "    $f(x)=\\frac d{dx}F(x)$"
   ]
  },
  {
   "cell_type": "markdown",
   "id": "d0bbf547",
   "metadata": {},
   "source": [
    "#### Probability of a transformation\n",
    "\n",
    "- In general, $P(Y\\in A)=P(X\\in g^{-1}(A)), A\\subset\\mathcal{Y}$\n",
    "\n",
    "- In particular, $F_Y(y)= P(Y\\leq y)=P(X\\in g^{-1}((-\\infty,y])$"
   ]
  },
  {
   "cell_type": "markdown",
   "id": "a522c3a7",
   "metadata": {},
   "source": [
    "#### Discrete random variables\n",
    "\n",
    "$\\begin{aligned}f_{Y}(y)&=P(Y=y)=P(g(x)=y)\\\\&=P(X\\in g^{-1}(y))=P(x\\in\\{x:g(x)=y\\})\\\\&=\\sum_{x\\in g^{-1}(y)}P(X=x)=\\sum_{x\\in g^{-1}(y)}f_{x}(x)\\end{aligned}$\n",
    "\n",
    "$F_Y(y)=\\sum_{u\\leq y}f_Y(y)$"
   ]
  },
  {
   "cell_type": "markdown",
   "id": "7d1193aa",
   "metadata": {},
   "source": [
    "#### Monotone transformation\n",
    "If $g$ is monotone on $\\mathcal{X}$ then it is one-to-one and onto from $\\mathcal{X}$ to $\\mathcal{Y}$.\n",
    "- Uniquely pairs an $x$ to one $y$\n",
    "- Get an inverse function: $g^{-1}(y)=x$"
   ]
  },
  {
   "cell_type": "markdown",
   "id": "7ad3685f",
   "metadata": {},
   "source": [
    "#### CDF-method\n",
    "Let $X$ be a random variable with cdf $F_X(x)$ and let $Y = g(X)$. Then\n",
    "1. If $g$ is an increasing function on $X$ then\n",
    "- $F_Y(y)=F_X(g^{-1}(y))$\n",
    "2. If $g$ is a decreasing function on $\\mathcal{X}$ and $X$ is **continuous** , then\n",
    "- $F_Y(y)=1-F_X(g^{-1}(y))$\n",
    "- In general, i.e.for both continuous and discrete (Decreasing)\n",
    "    - $F_Y(y)=1-F_X(g^{-1}(y))+P(X=g^{-1}(y))$"
   ]
  },
  {
   "cell_type": "markdown",
   "id": "a7c779a5",
   "metadata": {},
   "source": [
    "#### PDF-method\n",
    "\n",
    "$f_{Y}(y)=\\frac{d}{dy}F_{Y}(y)=\\begin{cases}f_{X}(g^{-1}(y))\\frac{d}{dy}g^{-1}(y)&\\text{if g is increasing}\\\\\\\\-f_{X}(g^{-1}(y))\\frac{d}{dy}g^{-1}(y)&\\text{if g is decreasing}\\end{cases}$\n",
    "- $g$ is a *monotone* function\n",
    "$f_{Y}(y)=\\begin{cases}f_{X}(g^{-1}(y))|\\frac{d}{dy}g^{-1}(y)|&y\\in\\mathcal{Y}\\\\\\\\0&\\text{otherwise}\\end{cases}$"
   ]
  },
  {
   "cell_type": "markdown",
   "id": "f8bc0618",
   "metadata": {},
   "source": [
    "#### When $g$ is monotone only on certain intervals\n",
    "\n",
    "If $\\mathcal{X}$ can be split into sets $A_1,...,A_k$ and $g$ can be split into $g_1{x},...,g_k{x}$ such that\n",
    "- $g(x)=g_i(x)$ for $x\\in A_i$\n",
    "- $g_i$ is a monotone function from $A_i$ onto $\\mathcal{Y}$, then\n",
    "    \n",
    "    $f_Y(y)=\\begin{cases}\\sum_{i=1}^k f_X \\big(g_i^{-1}(y)\\big)\\left|\\frac{d}{dy}g_i^{-1}(y)\\right|&y\\in\\mathcal{Y}\\\\\\\\0&\\text{otherwise}\\end{cases}$"
   ]
  },
  {
   "cell_type": "markdown",
   "id": "a78b06bb",
   "metadata": {},
   "source": [
    "#### 特殊转化区\n",
    "- $\\int uv^{\\prime}=uv-\\int u^{\\prime}v$\n",
    "- $e^\\lambda=\\sum_{x=0}^\\infty\\frac{\\lambda^x}{x!}$（泊松）\n",
    "- $\\int\\frac1{1+x^2}=\\tan^{-1}(x)$ (Cauchy)\n",
    "- $\\left(\\frac{u}{v}\\right)'=\\frac{v\\cdot u'-u\\cdot v'}{v^2}$\n",
    "- $\\lim_{n\\to\\infty}\\left(1+\\frac{x}{n}\\right)^n\\to e^x$, Binomial$\\to$泊松,(M(t)=)\n",
    "- $\\sum_{x=0}^{n}\\binom{n}{x} u^{x}v^{n-x}=(u+v)^{n}.$ (Binomial)\n",
    "- $\\Gamma(\\alpha)=\\int_0^\\infty t^{\\alpha-1}e^{-t}dt, \\alpha>0$ （Gamma）\n",
    "- $\\displaystyle\\sum_{x=0}^\\infty r^x=\\frac{1}{1-r},\\quad\\text{for}|r|<1$ (Geometric)\n",
    "- $\\sum_{x=0}^nr^x=\\frac{1-r^{n+1}}{1-r}\\quad\\mathrm{for~}r\\neq1$ (Geometric - cdf)\n",
    "- $\\binom{N}{K}=\\frac{N}{K}\\binom{N-1}{K-1}$ (HyperG)\n",
    "- $Y = aX + b$, $M_Y(t)=e^{bt}M_X(at)$"
   ]
  },
  {
   "cell_type": "markdown",
   "id": "fdd5228b",
   "metadata": {},
   "source": [
    "#### Moments\n",
    "- The $n$-th moment of $X$ is $\\mu_n^{\\prime}=E\\left(X^n\\right)$.\n",
    "- The $n$-th central moment of $X$ is $\\mu_n=E\\left((X-\\mu)^n\\right)$.\n",
    "- The 2nd central moment $\\mathrm{Var}(X)=E\\left((X-\\mu)^2\\right)\\equiv\\sigma^2$\n",
    "- $\\mathrm{Var}(ax+b)=a^2\\mathrm{Var}(x)$\n",
    "- $Var(x)=\\int(x-\\mu_{x})^{2}f(x)dx$"
   ]
  },
  {
   "cell_type": "markdown",
   "id": "a2013017",
   "metadata": {},
   "source": [
    "#### Moment generating functions (mgf)\n",
    "- $M_X(t)=E\\left(e^{tX}\\right)$\n",
    "- $E\\left(X^{n}\\right)=\\left.\\frac{d^{n}}{dt^{n}}M_{X}(t)\\right|_{t=0}$\n",
    "- $Y = aX + b$, $M_Y(t)=e^{bt}M_X(at)$"
   ]
  },
  {
   "cell_type": "markdown",
   "id": "aef56a19",
   "metadata": {},
   "source": [
    "Mgfs (**not moments**) **uniquely** characterize a distribution\n",
    "\n",
    "Let $F_X(x)$ and $F_Y(y)$ be cdfs for **whom all moments exists**.\n",
    "- (a) If $X$ and $Y$ have **bounded support**, then\n",
    "    \n",
    "    $F_X(u)=F_Y(u),\\forall u\\quad\\mathrm{iff}\\quad E(X^k)=E(Y^k)\\mathrm{~}\\forall k=0,1,2,\\ldots $\n",
    "    \n",
    "    \n",
    "- (b) If mgfs exist and $M_X(t) = M_Y(t)$ for all $t$ in a neighborhood of 0, \n",
    "\n",
    "    then $F_X(u) = F_Y(u)$ for all $u$\n",
    "    - Remember: If $F_X(u)=F_Y(u),\\forall u$ then $X\\overset{D}{\\operatorname*{=}}Y$."
   ]
  },
  {
   "cell_type": "markdown",
   "id": "1de68fde",
   "metadata": {},
   "source": [
    "If $f(x,\\theta)$ is differentiable with respect to $\\theta$ \n",
    "\n",
    "and there exists a constant $\\theta_0 > 0$ \n",
    "\n",
    "and a function $g(x,\\theta)$ that satisfies\n",
    "\n",
    "- $\\left|\\frac\\partial{\\partial\\theta}f(x,\\theta)\\right|_{\\theta=\\theta^{\\prime}}\\leq g(x,\\theta)$, for all $\\theta'$ such that $|\\theta'-\\theta|\\leq\\delta_0$\n",
    "\n",
    "- $\\int_{-\\infty}^{\\infty}g(x,\\theta)dx<\\infty$\n",
    "\n",
    "Then,\n",
    "$\\frac d{d\\theta}\\int_{-\\infty}^{\\infty}f(x,\\theta)dx=\\int_{-\\infty}^{\\infty}\\frac\\partial{\\partial\\theta}f(x,\\theta)dx$\n"
   ]
  },
  {
   "cell_type": "markdown",
   "id": "790c6f7b",
   "metadata": {},
   "source": [
    "### Discrete Distributions\n",
    "#### Discrete Uniform Distributions\n",
    "- Have $N$ possible outcomes\n",
    "- Each outcome is equally likely\n",
    "- $\\mathcal{X}={1,2,3,...,N}$\n",
    "- $f(x) = \\frac{1}{N},\\forall x=1,2,3,...N$\n",
    "- $F(x)=\\begin{cases}\n",
    "        \\frac{|\\lambda|}{N}&1\\leq x\\leq N\\\\\n",
    "        0&x<1\\\\\n",
    "        1&x> N\n",
    "        \\end{cases}$\n",
    "- $\\sum_{i=1}^{n}i=\\frac{n(n+1)}2,\\,\\sum_{i=1}^{n}i^2=\\frac{n(n+1)(2n+1)}6$\n",
    "- $E(x)=\\sum_{x=1}^{N}x\\frac{1}{N}=\\frac{1}{N}\\sum_{x=1}^{N}x=\\frac{1}{N}\\frac{(N+1)N}{2}=\\frac{N+1}{2}$\n",
    "- $E(X^{2})=\\sum_{x=1}^{n}X^{2}\\frac{1}{N}=\\frac{1}{N}\\frac{N(N+1)(2N+1)}{6}$\n",
    "- $\\begin{aligned}\n",
    "V(x)&=\\frac{(N+1)(N-1)}{12}\n",
    "\\end{aligned}$"
   ]
  },
  {
   "cell_type": "markdown",
   "id": "761d1b1a",
   "metadata": {},
   "source": [
    "#### Binomial distributions\n",
    "\n",
    "- Bernoulli trial: $n$ independent Bernoulli random variables\n",
    "    - $X_i$ = outcome of trial $i$ (0 or 1), $i = 1, 2, 3,...,n$\n",
    "    - Same probability of success ($p$) for all $i$\n",
    "- $Y$ = total number of successes in $n$ trials\n",
    "    - Support for $\\mathcal{Y}=\\{0,1,2,...n\\}$\n",
    "    - $Y=X_1+X_2+\\cdots+X_n$\n",
    "- pmf: $f(y|n,p)=\\binom nyp^y(1-p)^{n-y}\\quad\\mathrm{~for~}y=0,1,\\ldots,n$\n",
    "- MGF: $M(t) = (e^tp+1-p)^n$\n",
    "- $E(X)=np$, $Var(X)=np(1-p)$"
   ]
  },
  {
   "cell_type": "markdown",
   "id": "2633eaf0",
   "metadata": {},
   "source": [
    "#### Hypergeometric distributions\n",
    "\n",
    "- Sample from a finite population, without replacement\n",
    "- Have a population of N items, M of which are of the type of interest\n",
    "    - Think: $N$ balls in an urn, $M$ of which are red\n",
    "- Randomly pick $K$ items, without replacement\n",
    "    - and unordered\n",
    "- Random variable of interest:\n",
    "    - $X$ = number of items of type interested in the sample\n",
    "- PMF:\n",
    "    - $f(x|N,M,k)=\\frac{\\binom Mx\\binom{N-M}{k-x}}{\\binom Nk},\\,x\\in\\{0,1,2...k\\}$\n",
    "    - $\\sum_{x=0}^k f(x|N,M,k) = 1$, $\\sum_{x=0}^k\\binom Mx\\binom{N-M}{k-x}=\\binom Nk$\n",
    "- MGF: no simplification available\n",
    "- $E(X) = \\frac{KM}{N}$, $Var(X)={\\frac{KM}N\\frac{(N-M)}N\\frac{(N-K)}{N-1}}$\n",
    "- $E(X^2)=E(X(X-1))+E(X)$"
   ]
  },
  {
   "cell_type": "markdown",
   "id": "bbd5aac9",
   "metadata": {},
   "source": [
    "#### Poisson distributions\n",
    "- PMF: $f(x\\mid\\lambda)=\\frac{e^{-\\lambda}\\lambda^x}{x!},\\,x=\\{0,1,2,3,...\\},\\lambda>0$\n",
    "    - $f(x\\mid\\lambda)=\\frac{\\lambda}{x}f(x-1)=\\frac{\\lambda}{x}P(X=x-1)$\n",
    "- $E(X)=\\lambda$, $Var(X)=\\lambda$, $M_X(t)=\\exp\\left(\\lambda\\left(e^t-1\\right)\\right)$"
   ]
  },
  {
   "cell_type": "markdown",
   "id": "fc68a7b4",
   "metadata": {},
   "source": [
    "#### Geometric distributions\n",
    "- $X=$ number of trials until (and including) we get the first success\n",
    "- Let $p$ be the probability of success for each trial\n",
    "- PMF: $f(x)=(1-p)^{x-1}p,\\,\\forall x=\\{1,2,3...\\}$\n",
    "- $\\sum_{x=1}^\\infty(1-p)^{x-1}p=p\\sum_{x=1}^\\infty(1-p)^{x-1}=p\\frac{1}{1-(1-p)}=1$\n",
    "- CDF: $F(x) = 1-(1-p)^x$\n",
    "- $E(X)=\\frac{1}{p}$, $Var(X)=\\frac{1-p}{p^2}$\n",
    "- $M_X(t)=\\frac{pe^t}{1-(1-p)e^t},\\,t<-log(1-p)$\n",
    "- Geometric series: For $-1 < r < 1$, $\\sum_{k=0}^\\infty r^k=\\frac1{1-r}$\n",
    "- Geometric sum: For $r\\neq 1$, $\\sum_{k=0}^nr^k=\\frac{1-r^{n+1}}{1-r}$\n",
    "- If $X~Geometric(p)$, then $P(X>n+m|X>n)=P(X>m)$"
   ]
  },
  {
   "cell_type": "markdown",
   "id": "6b88618f",
   "metadata": {},
   "source": [
    "#### Negative Binomial\n",
    "- X = number of failures before the $r$ success\n",
    "- Bernoulli trials until we have $r$ successes\n",
    "- Let $p$ be the probabilty of success for each trial\n",
    "- PMF: $f(x|r,p)=\\binom{r+x-1}{x}p^r(1-p)^x,\\,x=\\{0,1,2,3...\\}$\n",
    "- Parameter space: $p\\in[0,1],r\\in\\mathbb{N}$\n",
    "- $E(X)=\\frac{r(1-p)}{p}$, $Var(X)=\\frac{r(1-p)}{p^2}$\n",
    "- MGF: $M_X(t)=\\left(\\frac p{1-(1-p)e^t}\\right)^r,\\,t<-log(1-p)$\n",
    "- $\\sum_{x=0}^{\\infty}f_{(x)}=\\sum_{x=0}^{\\infty}(\\begin{matrix}x+r-1\\\\x\\end{matrix})p^{r}(1-p)^{x}=1$"
   ]
  },
  {
   "cell_type": "markdown",
   "id": "2b89b1ca",
   "metadata": {},
   "source": [
    "### Continuous distributions\n",
    "#### Uniform(a,b)\n",
    "- PDF: $f(x|a,b)=\\frac{1}{b-a},\\,x\\in[a,b]$\n",
    "- Parameter space: $-\\infty<a\\leq b<\\infty$\n",
    "- cdf: $F(x)=\\begin{cases}0&x<a\\\\\\frac{x-a}{b-a}&a\\leq x\\leq b\\\\1&x>b&\\end{cases}$\n",
    "- $E(X)=\\frac{a+b}{2}$, $Var(X)=\\frac{(b-a)^2}{12}$\n",
    "- $M_X(t)=\\frac{e^{tb}-e^{ta}}{t(b-a)}$"
   ]
  },
  {
   "cell_type": "markdown",
   "id": "dbac85ee",
   "metadata": {},
   "source": [
    "#### Beta$(\\alpha,\\beta)$\n",
    "- PDF: \n",
    "\n",
    "    $\\begin{align}\n",
    "    f(x\\mid\\alpha,\\beta)&=\\frac{\\Gamma(\\alpha+\\beta)}{\\Gamma(\\alpha)\\Gamma(\\beta)}x^{\\alpha-1}\\left(1-x\\right)^{\\beta-1}\\\\\n",
    "    &=\\frac{1}{B(\\alpha,\\beta)} x^{\\alpha-1} (1-x)^{\\beta-1},\\,x\\in[0,1]\n",
    "    \\end{align}$\n",
    "- Parameter space: $\\alpha>0,\\beta>0$\n",
    "- Special case: Beta(1, 1) = Uniform(0, 1)\n",
    "- $B(\\alpha,\\beta)=\\int_{0}^{1}x^{\\alpha-1}(1-x)^{\\beta-1}dx=\\frac{\\Gamma(\\alpha)\\Gamma(\\beta)}{\\Gamma(\\alpha+\\beta)}$\n",
    "- $\\int_{0}^{1}\\frac{P(\\alpha+\\beta)}{P(\\alpha)P(\\beta)}X^{\\alpha-1}(1-x)^{\\beta-1}dx=1$\n",
    "- $E(x^{n})=\\frac{\\Gamma(\\alpha+\\beta)\\Gamma(\\alpha+n)}{\\Gamma(\\alpha)\\Gamma(\\alpha+\\beta+n)}$\n",
    "- $E(X)=\\frac{\\alpha}{\\alpha+\\beta}$, $\\mathrm{Var}(X)=\\frac{\\alpha\\beta}{(\\alpha+\\beta)^2(\\alpha+\\beta+1)}$"
   ]
  },
  {
   "cell_type": "markdown",
   "id": "7e7b9811",
   "metadata": {},
   "source": [
    "#### Gamma($\\alpha,\\beta$)\n",
    "- $f(x\\mid\\alpha,\\beta)=\\frac1{\\Gamma(\\alpha)\\beta^\\alpha}x^{\\alpha-1}e^{-x/\\beta},\\,x>0$\n",
    "- Parameter space: $\\alpha>0, \\beta>0$\n",
    "- $E(X)=\\alpha\\beta$, $Var(X)=\\alpha\\beta^2$\n",
    "- $M_X(t)=\\frac1{(1-t\\beta)^\\alpha},\\,t<\\frac1\\beta $\n",
    "- **Note**: Gamma($\\alpha=1,\\beta$)=Expo($\\beta$)"
   ]
  },
  {
   "cell_type": "markdown",
   "id": "5013b032",
   "metadata": {},
   "source": [
    "#### Chi-square distributions $\\mathcal{X^2_p}$\n",
    "- pdf: $f(x)=\\frac{1}{\\Gamma\\left(\\frac{p}{2}\\right)2^{p/2}}x^{{\\frac{p}{2}-1}}e^{-x/2},\\,x>0$\n",
    "- If $X\\sim\\mathcal{x^2_p}$ then $E(X)=p$ and $Var(X)=2p$"
   ]
  },
  {
   "cell_type": "markdown",
   "id": "e5ee5c3a",
   "metadata": {},
   "source": [
    "#### Expo($\\beta$)\n",
    "- Gamma$(1,\\beta)$ for $\\beta>0$ is called the Exponential distribution\n",
    "- pdf: $f(x\\mid\\beta)=\\frac1\\beta e^{-x/\\beta},\\,x>0$\n",
    "- cdf: $F(x)=\\begin{cases}0&x\\leq0\\\\1-e^{-x/\\beta}&x>0&\\end{cases}$\n",
    "- Memoryless property: If $X\\sim\\mathrm{Expo}(\\beta),t>0,h>0$ \n",
    "\n",
    "    then $P(X>t+h\\mid X>t)=P(X>h)$"
   ]
  },
  {
   "cell_type": "markdown",
   "id": "60b8ec15",
   "metadata": {},
   "source": [
    "#### Relationship between Gamma and Poisson\n",
    "\n",
    "- A Poisson process describes events that happen at random times (or places)\n",
    "- In a Poisson process\n",
    "    - the number of events in an interval has a Poisson distribution\n",
    "    - the time until the next event has an Exponential distribution\n",
    "    - the time until the r-th event has a Gamma distribution"
   ]
  },
  {
   "cell_type": "markdown",
   "id": "0b14ddc1",
   "metadata": {},
   "source": [
    "#### DExpo($\\mu,\\sigma$)\n",
    "- pdf: $f(x\\mid\\mu,\\sigma)=\\frac1{2\\sigma}e^{-|x-\\mu|/\\sigma}$\n",
    "    - Parameter space: $\\mu\\in\\mathbb{R},\\sigma>0$\n",
    "    - $\\mathrm{~for~}-\\infty<x<\\infty$\n",
    "- $E(X)=\\mu,\\,\\mathrm{Var}(X)=2\\sigma^2$\n",
    "- $M_X(t)=\\frac{e^{\\mu t}}{1-(\\sigma t)^2},\\,\\mathrm{~for~}|t|<\\frac1\\sigma $"
   ]
  },
  {
   "cell_type": "markdown",
   "id": "9b487215",
   "metadata": {},
   "source": [
    "#### Normal Distributions – N($\\mu,\\sigma^2$)\n",
    "- $f(x\\mid\\mu,\\sigma^2)=\\frac1{\\sqrt{2\\pi}\\sigma}e^{-(x-\\mu)^2/2\\sigma^2},\\,\\mathrm{~for~}-\\infty<x<\\infty$\n",
    "    - $\\mu\\in\\mathbb{R},\\sigma^2>0$ \n",
    "- $E(X)=\\mu,\\,\\mathrm{Var}(X)=\\sigma^2$\n",
    "- $M_X(t)=e^{\\mu t+\\sigma^2t^2/2}$\n",
    "- $z=\\frac{x-\\mu}{\\sigma}\\sim N(0,1)$\n",
    "- $f(z)=\\frac1{\\sqrt{2\\pi}}e^{-\\frac{z^2}2}$\n",
    "    \n",
    "    $\\begin{align}\n",
    "&g(x)=\\frac{x-\\mu}{\\sigma}=z \\\\\n",
    "&x = \\sigma z + \\mu \\\\\n",
    "    \\end{align}$\n"
   ]
  }
 ],
 "metadata": {
  "kernelspec": {
   "display_name": "Python 3 (ipykernel)",
   "language": "python",
   "name": "python3"
  },
  "language_info": {
   "codemirror_mode": {
    "name": "ipython",
    "version": 3
   },
   "file_extension": ".py",
   "mimetype": "text/x-python",
   "name": "python",
   "nbconvert_exporter": "python",
   "pygments_lexer": "ipython3",
   "version": "3.9.13"
  }
 },
 "nbformat": 4,
 "nbformat_minor": 5
}
