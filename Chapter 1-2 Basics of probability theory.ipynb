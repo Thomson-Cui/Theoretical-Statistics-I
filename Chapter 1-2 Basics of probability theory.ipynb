{
 "cells": [
  {
   "cell_type": "markdown",
   "id": "72fadfd3",
   "metadata": {},
   "source": [
    "# Basics of Probabilty Theory"
   ]
  },
  {
   "cell_type": "markdown",
   "id": "9d63ebb1",
   "metadata": {},
   "source": [
    "## What probability is used for\n",
    "\n",
    "1. Experiments have uncertain (unpredictable) outcomes\n",
    "2. But, for *repeated* experiments we may expect a pattern\n",
    "\n",
    "|Experiment|Sample Space|\n",
    "|---|---|\n",
    "|Soccer game|S = {win, loose, draw}|\n",
    "|Roll a die|S={1,2,3,4,5,6}|\n",
    "|Sum of two dice|S = {2, 3, 4, 5, 6, 7, 8, 9, 10, 11, 12}|\n",
    "\n",
    "We use probability distributions to describe the long term behavior of repeated experiments."
   ]
  },
  {
   "cell_type": "markdown",
   "id": "8166efc0",
   "metadata": {},
   "source": [
    "## Probability - Mathematically\n",
    "\n",
    "1. Want a rule that can assign a number between 0 and 1 to any event *E* in a sample space *S*.\n",
    "2. Easy for finite and countable sample spaces - can enumerate all possible subsets of *S*.\n",
    "3. Technical problem: If *S* is an **uncountable sample space**, \"every subspace\" is too many to handle.\n",
    "4. Need the concept of $\\sigma-$algebras"
   ]
  },
  {
   "cell_type": "markdown",
   "id": "4d776336",
   "metadata": {},
   "source": [
    "## Sigma-algebra\n",
    "\n",
    "`Definition: σ-algebra`\n",
    "\n",
    "A $\\sigma$-algebra (or **Borel field**) $\\mathcal{B}$ on a set $S$ is a collection of subsets of $S$ that satisfies the following three properties:\n",
    "\n",
    "1. **Contains the Empty Set**: The empty set $\\emptyset$ is an element of $\\mathcal{B}$, meaning $\\emptyset \\in \\mathcal{B}$.\n",
    "\n",
    "2. **Closed Under Complements**: If a set $A$ is in $\\mathcal{B}$, then its complement $A^c = S \\setminus A$ is also in $\\mathcal{B}$. This means that for any $A \\in \\mathcal{B}$, we must also have $A^c \\in \\mathcal{B}$.\n",
    "\n",
    "3. **Closed Under Countable Unions**: If a countable collection of sets $A_1, A_2, A_3, \\ldots$ are all in $\\mathcal{B}$, then their union is also in $\\mathcal{B}$. That is, if $\\{A_i\\}_{i=1}^{\\infty}$ is a collection of sets such that $A_i \\in \\mathcal{B}$ for all $i$, then $\\bigcup_{i=1}^{\\infty} A_i \\in \\mathcal{B}$.\n",
    "\n",
    "Formally, a collection $\\mathcal{B}$ of subsets of $S$ is a $\\sigma$-algebra if:\n",
    "\n",
    "1. $\\emptyset \\in \\mathcal{B}$,\n",
    "2. If $A \\in \\mathcal{B}$, then $A^c \\in \\mathcal{B}$,\n",
    "3. If $A_1, A_2, A_3, \\ldots \\in \\mathcal{B}$, then $\\bigcup_{i=1}^{\\infty} A_i \\in \\mathcal{B}$.\n",
    "\n",
    "### Example of a $\\sigma$-algebra\n",
    "\n",
    "Consider a simple set $S = \\{1, 2, 3\\}$. A $\\sigma$-algebra $\\mathcal{B}$ on $S$ could be:\n",
    "\n",
    "$$\n",
    "\\mathcal{B} = \\{\\emptyset, \\{1\\}, \\{2, 3\\}, S\\}\n",
    "$$\n",
    "\n",
    "This collection satisfies all the properties of a $\\sigma$-algebra:\n",
    "\n",
    "- **Contains the Empty Set**: $\\emptyset \\in \\mathcal{B}$.\n",
    "- **Closed Under Complements**: The complement of $\\{1\\}$ is $\\{2, 3\\}$, and vice versa, both of which are in $\\mathcal{B}$. The complement of $\\emptyset$ is $S$, and the complement of $S$ is $\\emptyset$, both of which are in $\\mathcal{B}$.\n",
    "- **Closed Under Countable Unions**: Any union of sets in $\\mathcal{B}$ will also be a set in $\\mathcal{B}$. For example, $\\{1\\} \\cup \\{2, 3\\} = S$ and $\\{1\\} \\cup \\{1\\} = \\{1\\}$.\n",
    "\n",
    "$\\sigma$-algebras are fundamental in measure theory and probability theory, where they are used to define measurable spaces and to ensure that measures (which generalize the concept of length, area, and volume) are well-defined."
   ]
  },
  {
   "cell_type": "markdown",
   "id": "e133bd6b",
   "metadata": {},
   "source": [
    "## $\\sigma$-algebra - theorem\n",
    "\n",
    "`Theorem:` If $\\mathcal{B}$ is a $\\sigma-$algebra then\n",
    "\n",
    "$\n",
    "\\begin{aligned}&\\mathrm{(a)~}S\\in\\mathcal{B}\\\\&\\mathrm{(b)~If~}A_1,A_2,A_3,\\ldots\\in\\mathcal{B}\\mathrm{~then~}\\bigcap_{i=1}^\\infty A_i\\in\\mathcal{B}\\end{aligned}\n",
    "$\n",
    "\n",
    "`Proof:`\n",
    "\n",
    "(a):\n",
    "According to the `Definition: σ-algebra`, we have \n",
    "\n",
    "1. $\\emptyset \\in \\mathcal{B}$,\n",
    "2. If $A \\in \\mathcal{B}$, then $A^c \\in \\mathcal{B}$,\n",
    "\n",
    "Thus, If $\\emptyset \\in \\mathcal{B}$, then $\\emptyset^c \\in \\mathcal{B}$. Because $\\emptyset^c = S$, we can prove $S\\in \\mathcal{B}$\n",
    "\n",
    "(b):\n",
    "According to the `Definition: σ-algebra`, we have \n",
    "\n",
    "3. If $A_1, A_2, A_3, \\ldots \\in \\mathcal{B}$, then $\\bigcup_{i=1}^{\\infty} A_i \\in \\mathcal{B}$.\n",
    "\n",
    "Because $\\bigcup_{i=1}^{\\infty} A_i \\in \\mathcal{B}$, we can get $(\\bigcup_{i=1}^{\\infty} A_i)^{c} \\in \\mathcal{B}\\Rightarrow\\bigcap_{i=1}^{\\infty}\\left(A_{i}^{c}\\right)^{c}=\\bigcap_{i=1}^{\\infty}A_{i}\\in\\mathcal{B}\\text{ by DeMorgan and complement.}$\n",
    "\n",
    "### Examples of $\\sigma-$algebras\n",
    "\n",
    "1. The collection of the two sets {$\\emptyset, S$} is a sigma algebra, usually called the trivial sigma algebra.\n",
    "\n",
    "2. If S has $n$ elements, there are $2^n$ sets in $\\mathcal{B}$\n",
    "\n",
    "3. `σ algebra I:` If $S$ is finite: $\\mathcal{B}=\\{\\text{all subsets of S, including }S\\mathrm{~and~}\\emptyset\\}$\n",
    "\n",
    "4. `σ algebra II:` In general, if $S$ is uncountable, it is not an easy task to describe $\\mathcal{B}$. Let S = ($-\\infty,\\infty$), the real line $\\mathbb{R}$. Then $\\mathcal{B}$ is chosen to contain all sets of the form\n",
    "\n",
    "$$[a,b],\\quad(a,b],\\quad(a,b),\\quad\\mathrm{and}\\quad[a,b),\\text{ where }a,b\\in\\mathbb{R},a<b$$\n",
    "\n"
   ]
  },
  {
   "cell_type": "markdown",
   "id": "4bc79d90",
   "metadata": {},
   "source": [
    "## Probability function\n",
    "\n",
    "`Definition: Probability function:` Let $S$ be a sample space and let $\\mathcal{B}$ be an associated $\\sigma-$algebra. A **probability function** is a function $P(·)$ wtih domain $\\mathcal{B}$ that satisfies the **Kolmogorov axioms**:\n",
    "\n",
    "$\\mathbf{1. } P(A)\\geq0 \\text{ for all } A\\in\\mathcal{B}.$\n",
    "\n",
    "$\\mathbf{2. } P(S) = 1$\n",
    "\n",
    "$\\mathbf{3.}\\mathrm{~If~}A_1,A_2,\\ldots\\in\\mathcal{B}\\mathrm{~are~pairwise~disjoint,~then~}$\n",
    "\n",
    "$P(\\cup_{i=1}^\\infty A_i)=\\sum_{i=1}^\\infty P(A_i).$\n",
    "\n",
    "**All probability theory is based on these Kolmogorov axioms**\n"
   ]
  },
  {
   "cell_type": "code",
   "execution_count": 1,
   "id": "0b90371d",
   "metadata": {},
   "outputs": [
    {
     "data": {
      "image/png": "[encoded data removed]",
      "text/plain": [
       "<IPython.core.display.Image object>"
      ]
     },
     "execution_count": 1,
     "metadata": {},
     "output_type": "execute_result"
    }
   ],
   "source": [
    "from IPython.display import Image\n",
    "Image(filename=\"image\\\\1-2.png\")"
   ]
  },
  {
   "cell_type": "markdown",
   "id": "021f55d3",
   "metadata": {},
   "source": [
    "## Probability model\n",
    "\n",
    "The triple ($S,\\mathcal{B}, P$) is called a **probability model**.\n",
    "\n",
    "Creating a probability model: Let $S=\\{s_{1},\\ldots,s_{n}\\}$ be a finite set. Let $\\mathcal{B}$ be any sigma algebra of subsets of $S$. Let $p_1,...,p_n$ be nonnegative numbers that sum to 1. For any $A\\in \\mathcal{B}$, define $P(A)$ by\n",
    "\n",
    "$$P(A)=\\sum_{\\{i:s_i\\in A\\}}p_i.$$\n",
    "\n",
    "(The sum over an empty set is defined to be 0.) Then $P$ is a probability function on $\\mathcal{B}$. This remains true if $S=\\{s1,s2,...\\}$ is a **countable set**.\n",
    "\n",
    "**Is $P$ a Probability function? Using Kolmogorov Ax to prove**\n",
    "\n",
    "Prove that P(·) fulfills KAx (1) (2) (3)\n",
    "\n",
    "(1) Show $P(A)\\geq 0, \\forall A\\in B$ \n",
    "\n",
    "Proof:  $P(A)=\\sum_{\\{i:s_i\\in A\\}}p_i\\geq0$ for any $A\\in \\mathcal{B}$, since $\\forall i, P_i\\geq 0$\n",
    "\n",
    "(2) Show $P(S) = 1$\n",
    "\n",
    "Proof: $P(S)=\\sum_{\\{i:s_i\\in S\\}}p_i=\\sum_{i=1}^{n}p_i=1$\n",
    "\n",
    "(3) Show $\\mathrm{If~}A_1,A_2,\\ldots\\in\\mathcal{B}\\text{ are pairwise disjoint, then }P(\\cup_{i=1}^{n}A_i)=\\sum_{i=1}^{n}P(A_i).$\n",
    "\n",
    "Proof:$P(\\cup_{i=1}^{n}A_i)=\\sum_{\\{i:s_i\\in \\cup_{k=1}^{n}A_k\\}}p_k=\\sum_{\\{i:s_i\\in A_1\\}}p_1 + \\sum_{\\{i:s_i\\in A_2\\}}p_2 + \\sum_{\\{i:s_i\\in A_3\\}}p_3 + ... + \\sum_{\\{i:s_i\\in A_n\\}}p_n = P(A_1) + P(A_2) + P(A_3) ... + P(A_n)$\n",
    "\n",
    "Since $A_1, A_2, A_3, ..., A_n$ are mutally exclusive, thus, $\\{i:s_i\\in A_k\\}, k = 1,..., n$ are mutally exclusive and $\\bigcup_{k=1}^{n}(i:S_{i}\\in A_{k}\\}=\\{i:S_{i}\\in\\bigcup_{k=1}^{n}A_{k}\\}$\n",
    "\n",
    "Finally, we can get $P(\\cup_{i=1}^{n}A_i)=\\sum_{i=1}^{n}P(A_i).$"
   ]
  },
  {
   "cell_type": "markdown",
   "id": "a679d381",
   "metadata": {},
   "source": [
    "## Calculus of Probabilities\n",
    "\n",
    "In the following: Let $(S,\\mathcal{B},P)$ be a probability model\n",
    "\n",
    "`Theorem 1`: \n",
    "\n",
    "Let $A \\in \\mathcal{B}$, then\n",
    "\n",
    "$\\begin{aligned}&\\mathrm{(a)~}P(A^c)=1-P(A)\\\\&\\mathrm{(b)~}P(\\emptyset)=0\\\\&\\mathrm{(c)~}P(A)\\leq1\\end{aligned}$\n",
    "\n",
    "\n",
    "`Proof (a)`: Show $\\mathrm{(a)~}P(A^c)=1-P(A)$\n",
    "\n",
    "$A \\text{ and } A^{c}$ are disjoint, and by axiom (iii): $P(A \\cup A^{c}) = P(A) + P(A^{c})$.\n",
    "\n",
    "Since $A\\cup A^{c}=S$, and by axiom (ii): $P(S) = 1$, we can get \n",
    "\n",
    "$P(A) + P(A^{c}) = P(A\\cup A^{c})=P(S) = 1$. \n",
    "\n",
    "Finally, $\\mathrm{(a)~}P(A^c)=1-P(A)$ has been proved.\n",
    "\n",
    "`Proof (b)`: Show $P(\\emptyset)=0$.\n",
    "\n",
    "According to (a) and axiom (ii), $P(\\emptyset) = P(S^{c}) = 1 - P(S) = 1 - 1 = 0$.\n",
    "\n",
    "`Proof (c)`: Show $P(A)\\leq 1$\n",
    "\n",
    "Since $P(A^{c}) = 1 - P(A) \\geq 0$, we can get $P(A)\\leq 1$\n"
   ]
  },
  {
   "cell_type": "markdown",
   "id": "46c2b940",
   "metadata": {},
   "source": [
    "`Theorem 2`: \n",
    "\n",
    "Let $A, B \\in\\mathcal{B}, then$\n",
    "\n",
    "$\\begin{aligned}&(\\mathrm{a }) P(A)=P(A\\cap B)+P(A\\cap B^{c})\\\\&(\\mathrm{b}) P(A\\setminus B)=P(A)-P(A\\cap B)\\\\&(\\mathrm{c}) P(A\\cup B)=P(A)+P(B)-P(A\\cap B)\\\\&\\mathrm{(d)~If~}A\\subseteq B\\text{ then }P(A)\\leq P(B)\\end{aligned}$\n",
    "\n"
   ]
  },
  {
   "cell_type": "markdown",
   "id": "da46dbea",
   "metadata": {},
   "source": [
    "`Theorem 3: Law of total probability` \n",
    "\n",
    "Let $A\\in B$ and let $C_{1}, C_{2},...\\in\\mathcal{B}$ be a partition of $S$. Then\n",
    "\n",
    "$$P(A)=\\sum_{i=1}^\\infty P(A\\cap C_i)$$\n",
    "\n",
    "`Proof:`\n",
    "\n",
    "$P(A) = P(A\\cap S)$ \n",
    "\n",
    "$= P(A\\cap(\\bigcup_{i=1}^{\\infty}C_i))$\n",
    "\n",
    "Since $C_1, C_2,...,$ are partitions of $S$, then $\\forall i,j\\mathrm{~with~}i\\neq j$, we can get $~(A\\cap C_i)\\cap(A\\cap C_j)$$= A\\cap C_i\\cap C_j=\\emptyset$, and we can also get $A\\cap C_1, A\\cap C_2, ...$ are disjoint.\n",
    "\n",
    "According to the Distributive Law,\n",
    "\n",
    "$=P(\\bigcup_{i=1}^{\\infty}(A\\cap C_i))$\n",
    "\n",
    "$=\\sum_{i=1}^\\infty P(A\\cap C_i)$"
   ]
  },
  {
   "cell_type": "markdown",
   "id": "14ede60c",
   "metadata": {},
   "source": [
    "### Boole's Ineuality (Induction proof)"
   ]
  },
  {
   "cell_type": "markdown",
   "id": "b0f76994",
   "metadata": {},
   "source": [
    "`Theorem 4: Boole's Ineuality` **(Upper bound for $\\cup$ sets)**\n",
    "\n",
    "Let $A_1,A_2,A_3...\\in\\mathcal{B}$. Then\n",
    "\n",
    "$\\begin{aligned}&(\\mathrm{a}) P\\left(\\bigcup_{i=1}^nA_i\\right)\\leq\\sum_{i=1}^nP(A_i),\\mathrm{~for~}n=1,2,3,\\ldots\\\\&(\\mathrm{b}) P\\left(\\bigcup_{i=1}^\\infty A_i\\right)\\leq\\sum_{i=1}^\\infty P(A_i)\\end{aligned}$"
   ]
  },
  {
   "cell_type": "markdown",
   "id": "6e167600",
   "metadata": {},
   "source": [
    "#### Proof (a): Using Induction\n",
    "\n",
    "*Q(1):* \n",
    "\n",
    "when n = 1, we can get it is true that $P(A_1) <= P(A_1)$, because $P(A_1) = P(A_1) = \\sum_{i=1}^1P(A_i)$\n",
    "\n",
    "*Q(2):* \n",
    "\n",
    "when n = 2, we can get $P\\left(\\bigcup_{i=1}^2 A_i\\right) = P(A_1) + P(A_2) - P(A_1\\cap A_2)$.\n",
    "\n",
    "Since $P(A_1\\cap A_2) \\geq 0$, we can get $P(A_1\\cap A_2) = P(A_1) + P(A_2) -P\\left(\\bigcup_{i=1}^2 A_i\\right) \\geq 0$.\n",
    "\n",
    "Finally, we can get $P\\left(\\bigcup_{i=1}^2 A_i\\right) \\leq P(A_1) + P(A_2) = \\sum_{i=1}^2P(A_i)$\n",
    "\n",
    "*Q(k) $\\to$ Q(k+1):*\n",
    "\n",
    "Assume $P\\left(\\bigcup_{i=1}^kA_i\\right)\\leq\\sum_{i=1}^kP(A_i),\\mathrm{~for~}n=k$, \n",
    "\n",
    "we need to prove $P\\left(\\bigcup_{i=1}^{k+1}A_i\\right)\\leq\\sum_{i=1}^{k+1}P(A_i),\\mathrm{~for~}n=k+1$.\n",
    "\n",
    "$P\\left(\\bigcup_{i=1}^{k+1}A_i\\right) = P\\left(\\bigcup_{i=1}^kA_i\\right) + P(A_{k+1})-P\\left((\\bigcup_{i=1}^kA_i)\\cap A_{k+1}\\right)$\n",
    "\n",
    "$P\\left((\\bigcup_{i=1}^kA_i)\\cap A_{k+1}\\right) = P\\left(\\bigcup_{i=1}^kA_i\\right) + P(A_{k+1}) - P\\left(\\bigcup_{i=1}^{k+1}A_i\\right)\\geq 0$\n",
    "\n",
    "$P\\left(\\bigcup_{i=1}^{k+1}A_i\\right) \\leq P\\left(\\bigcup_{i=1}^kA_i\\right) + P(A_{k+1})$\n",
    "\n",
    "Since $P\\left(\\bigcup_{i=1}^kA_i\\right)\\leq\\sum_{i=1}^kP(A_i)$, we can get that\n",
    "\n",
    "$P\\left(\\bigcup_{i=1}^{k+1}A_i\\right) \\leq P\\left(\\bigcup_{i=1}^kA_i\\right) + P(A_{k+1}) \\leq \\sum_{i=1}^kP(A_i) + P(A_{k+1}) = \\sum_{i=1}^{k+1}P(A_i)$"
   ]
  },
  {
   "cell_type": "markdown",
   "id": "134dad04",
   "metadata": {},
   "source": [
    "#### Proof (b): Read proof in book \n",
    "\n",
    "**Notes**:\n",
    "\n",
    "$A_{1}^{*}=A_{1},A_{i}^{*}=A_{i}\\backslash\\left(\\bigcup_{j=1}^{i-1}A_{j}\\right), i=2,3,\\ldots,$"
   ]
  },
  {
   "cell_type": "markdown",
   "id": "40feffd9",
   "metadata": {},
   "source": [
    "### Bonferroni Inequality"
   ]
  },
  {
   "cell_type": "markdown",
   "id": "6a4e3e48",
   "metadata": {},
   "source": [
    "`Theorem 5: Bonferroni Inequality` **(Lower bound for $\\cap$ sets)**\n",
    "\n",
    "Let $A_1, A_2, A_3,...A_n\\in\\mathcal{B}$. Then,\n",
    "\n",
    "$\\begin{aligned}&(\\mathrm{a}) P\\left(\\bigcap_{i=1}^nA_i\\right)\\geq\\sum_{i=1}^nP(A_i)-(n-1)\\\\&(\\mathrm{b}) P\\left(\\bigcap_{i=1}^nA_i\\right)\\geq1-\\sum_{i=1}^nP(A_i^c)\\end{aligned}$"
   ]
  },
  {
   "cell_type": "markdown",
   "id": "732c07d6",
   "metadata": {},
   "source": [
    "#### Proof (b): \n",
    "\n",
    "According to Boole's Inequality (a), we can get $P\\left(\\bigcup_{i=1}^nA_i\\right)\\leq\\sum_{i=1}^nP(A_i)$.\n",
    "\n",
    "$P\\left(\\bigcup_{i=1}^nA_i\\right) + P\\left((\\bigcup_{i=1}^nA_i)^{c}\\right) = 1$\n",
    "\n",
    "$1 - P\\left((\\bigcup_{i=1}^nA_i)^{c}\\right) \\leq\\sum_{i=1}^nP(A_i)$\n",
    "\n",
    "According to DeMorgan Law, we can get $1 - P\\left(\\cap_{i=1}^{n}A_{i}^{c}\\right) \\leq\\sum_{i=1}^nP(A_i)$.\n",
    "\n",
    "Finally, we can get $P\\left(\\bigcap_{i=1}^nA_i\\right)\\geq1-\\sum_{i=1}^nP(A_i^c)$\n",
    "\n",
    "#### Proof (a): \n",
    "\n",
    "According to Bonferroni Ineuality (b), we can get $P\\left(\\bigcap_{i=1}^nA_i\\right)\\geq1-\\sum_{i=1}^nP(A_i^c)$.\n",
    "\n",
    "$\\sum_{i=1}^nP(A_i^c) = \\sum_{i=1}^n(1-P(A_i)) = n - \\sum_{i=1}^nP(A_i)$.\n",
    "\n",
    "Thus, $P\\left(\\bigcap_{i=1}^nA_i\\right)\\geq1-\\sum_{i=1}^nP(A_i^c) = 1-(n - \\sum_{i=1}^nP(A_i)) = \\sum_{i=1}^nP(A_i)-(n-1)$."
   ]
  },
  {
   "cell_type": "markdown",
   "id": "2d23af92",
   "metadata": {},
   "source": [
    "## Use of Bonferroni\n",
    "\n",
    "1. Want $P(A \\cap B)$.\n",
    "- know that $P(A) = p_1$ and $P(B) = p_2$\n",
    "A lower bound on $P(A\\cap B)$:\n",
    "$$P(A\\cap B)\\geq1-((1-p_1)+(1-p_2))$$\n",
    "\n",
    "**Proof:**\n",
    "$P(A\\cup B) = P(A) + P(B) - P(A\\cap B) = p_1 + p_2 - P(A\\cap B) \\leq 1$.\n",
    "\n",
    "Thus, $P(A\\cap B)\\geq p_1 + p_2 - 1 = 1-((1-p_1)+(1-p_2))$\n",
    "\n",
    "2. Example: Confidence intervals - familitywize confidence level\n",
    "- Say we have 95% confidence intervals based on the following probability statements\n",
    "\n",
    "$$P\\left(\\overline{X}_{1}-z_{\\alpha/2}\\sigma_{1}\\leq\\mu_{1}\\leq\\overline{X}_{1}+z_{\\alpha/2}\\sigma_{1}\\right)=1-\\alpha\\\\P\\left(\\overline{X}_{2}-z_{\\alpha/2}\\sigma_{2}\\leq\\mu_{2}\\leq\\overline{X}_{2}+z_{\\alpha/2}\\sigma_{2}\\right)=1-\\alpha $$\n",
    "\n",
    "Then both (i.e. intersection) probability statements hold with\n",
    "probability at least $1 - 2\\alpha$. \n"
   ]
  },
  {
   "cell_type": "markdown",
   "id": "2ed0c7f7",
   "metadata": {},
   "source": [
    "### Extra explanations\n",
    "\n",
    "The formula\n",
    "\n",
    "$$\n",
    "P\\left(\\overline{X}_1 - z_{\\alpha/2} \\sigma_1 \\leq \\mu_1 \\leq \\overline{X}_1 + z_{\\alpha/2} \\sigma_1 \\right) = 1 - \\alpha\n",
    "$$\n",
    "\n",
    "represents the probability statement for a confidence interval. Let's break down its meaning:\n",
    "\n",
    "### Explanation:\n",
    "1. **$\\overline{X}_1$**: This is the sample mean from a set of observations drawn from a population whose true mean is \\(\\mu_1\\).\n",
    "   \n",
    "2. **$\\sigma_1$**: This is the standard deviation of the population or an estimate of it.\n",
    "\n",
    "3. **$z_{\\alpha/2}$**: This is the critical value from the standard normal distribution corresponding to the desired confidence level. For example, for a 95% confidence interval (\\(\\alpha = 0.05\\)), \\(z_{\\alpha/2}\\) would be approximately 1.96.\n",
    "\n",
    "4. **$z_{\\alpha/2}\\sigma_1$**: This is the \"margin of error,\" which depends on the sample size, standard deviation, and confidence level.\n",
    "\n",
    "5. **$\\overline{X}_1 - z_{\\alpha/2}\\sigma_1$**: This is the lower bound of the confidence interval.\n",
    "\n",
    "6. **$\\overline{X}_1 + z_{\\alpha/2}\\sigma_1$**: This is the upper bound of the confidence interval.\n",
    "\n",
    "### What the formula means:\n",
    "The formula expresses that the probability that the true population mean $\\mu_1$ lies within the interval $\\left(\\overline{X}_1 - z_{\\alpha/2} \\sigma_1, \\overline{X}_1 + z_{\\alpha/2} \\sigma_1\\right)$ is $1 - \\alpha$. In other words, if we were to take many random samples and construct confidence intervals for each, approximately $1 - \\alpha$ (e.g., 95%) of those intervals would contain the true mean $\\mu_1$.\n",
    "\n",
    "Thus, this formula defines the confidence interval for $\\mu_1$ with a confidence level of $1 - \\alpha$."
   ]
  }
 ],
 "metadata": {
  "kernelspec": {
   "display_name": "Python 3 (ipykernel)",
   "language": "python",
   "name": "python3"
  },
  "language_info": {
   "codemirror_mode": {
    "name": "ipython",
    "version": 3
   },
   "file_extension": ".py",
   "mimetype": "text/x-python",
   "name": "python",
   "nbconvert_exporter": "python",
   "pygments_lexer": "ipython3",
   "version": "3.9.13"
  }
 },
 "nbformat": 4,
 "nbformat_minor": 5
}
