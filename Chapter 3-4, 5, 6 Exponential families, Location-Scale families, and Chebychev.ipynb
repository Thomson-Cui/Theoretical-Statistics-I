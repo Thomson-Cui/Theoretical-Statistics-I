{
 "cells": [
  {
   "cell_type": "markdown",
   "id": "33f8a52c",
   "metadata": {},
   "source": [
    "## I. Exponential Families"
   ]
  },
  {
   "cell_type": "markdown",
   "id": "f1371bd3",
   "metadata": {},
   "source": [
    "- Definition of Exponential Families:\n",
    "    - A family of pdfs or pmfs indexed by parameter(s) $\\theta$ \n",
    "        - is called an exponential family if it can be written as\n",
    "    - $f(x\\mid\\theta)=h(x) c(\\theta) \\exp\\left(\\sum_{i=1}^kw_i(\\theta)t_i(x)\\right),\\,\\forall x\\in\\mathbb{R}$\n",
    "        - $h(x),t_1(x),\\ldots,t_k(x)$ are functions of $x$ only (not $\\theta$)\n",
    "        - $c(\\theta),w_1(\\theta),\\ldots,w_k(\\theta)$ are functions of $\\theta$ only (not $x$)\n",
    "        - $h(x)\\geq0,\\forall x$ and $c(\\theta)\\geq0,\\forall\\theta$"
   ]
  },
  {
   "cell_type": "markdown",
   "id": "b2a9e207",
   "metadata": {},
   "source": [
    "### $N(\\mu,\\sigma^2)$ is an exponential family.\n",
    "\n",
    "$\\begin{aligned}\n",
    "f(x)&=\\frac{1}{\\sqrt{2\\pi}\\sigma}e^{-\\frac{1}{2\\sigma^{2}}(x^{2}-2x\\mu+\\mu^{2})}\\\\\n",
    "    &=\\frac{1}{\\sqrt{2\\pi}\\sigma}e^{-\\frac{\\mu^2}{2\\sigma^{2}}} \\cdot e^{-\\frac{1}{2\\sigma^{2}}x^2 + x\\frac{\\mu}{\\sigma^2}}\\\\\n",
    "\\end{aligned}$\n",
    "- Indicator function: A handy tool to get more compact expressions of pdf/pmf:\n",
    "    $I_A(x)=\\left\\{\\begin{array}{cc}1&x\\in A\\\\0&x\\notin A\\end{array}\\right.$\n",
    "    \n",
    "- $k = 2$\n",
    "- $h(x)=I_{\\mathbb{R}}(x)\\frac{1}{\\sqrt{2\\pi}}$\n",
    "- $c(\\mu,\\sigma)=\\frac{1}{\\sigma}e^{-\\frac{\\mu^2}{2\\sigma^{2}}}$\n",
    "- $w_1(\\mu,\\sigma)=-\\frac{1}{2\\sigma^2}$\n",
    "- $t_1(x)=x^2$\n",
    "- $w_2(\\mu,\\sigma)=\\frac{\\mu}{\\sigma^2}$\n",
    "- $t_2(x)=x$"
   ]
  },
  {
   "cell_type": "markdown",
   "id": "4bbf1253",
   "metadata": {},
   "source": [
    "### Binomial($n,p$) is an exponential family, if $n$ is known (fixed)\n",
    "- Define：$X\\sim$ Binomial($n,p$), n is fixed, and $A = \\{0,1,2,...n\\}$ \n",
    "    $\\begin{aligned}\n",
    "    f(x_{1}&=\\binom{n}{x}p^{x}(1-p)^{n-x}I_{A}(x)\\\\\n",
    "           &=\\binom{n}{x}I_{A}(x)e^{ln(p^x(1-p)^{n-x}}\\\\\n",
    "           &=\\binom{n}{x}I_{A}(x)exp(ln(p^x)+ln(1-p)^{n-x})\\\\\n",
    "           &=\\binom{n}{x}I_{A}(x)exp(xln(p)+(n-x)ln(1-p))\\\\\n",
    "           &=\\binom{n}{x}I_{A}(x)exp(x(ln(p)-ln(1-p))+nln(1-p))\\\\\n",
    "           &=\\binom{n}{x}I_{A}(x)exp(xln\\frac{p}{1-p}+nln(1-p))\\\\\n",
    "           &=\\binom{n}{x}I_{A}(x)(1-p)^nexp(xln\\frac{p}{1-p})\n",
    "    \\end{aligned}$\n"
   ]
  },
  {
   "cell_type": "markdown",
   "id": "7f85f9b9",
   "metadata": {},
   "source": [
    "### Expo($\\beta$) is an exponential family\n",
    "- pdf: $f(x)=\\frac{1}{\\beta}e^{-x/\\beta}, I_{(0,\\infty)}(x)$\n",
    "- $h(x) = I_{(0,\\infty)}(x)$\n",
    "- $c(\\beta)=\\frac{1}{\\beta}$\n",
    "- $w_i(\\beta)=-\\frac{1}{\\beta}$\n",
    "- $t_i(x)=x$\n",
    "- $k = 1$\n",
    "- $f(x)=h(x)c(\\beta)exp(w_i(\\beta)t_i(x))$"
   ]
  },
  {
   "cell_type": "markdown",
   "id": "0003706e",
   "metadata": {},
   "source": [
    "### Uniform($a,b$) is not an exponential family\n",
    "- $f(x)=\\frac{1}{b-a}I_{[a,b]}(x)$\n",
    "- Since the function $I_{[a,b]}(x)$ of both $x$ and $a,b$ can't be written as either $c(a,b)h(x)$ or $exp(w(a,b)t(x))$\n",
    "- In general: If the support of the distribution depends on a parameter, it is not an exponential family. For example, if both n and p are unknown in Binomial($n,p$), it is no longer an exponential family."
   ]
  },
  {
   "cell_type": "markdown",
   "id": "d8e3d6c9",
   "metadata": {},
   "source": [
    "### Mean and variance for exponential families\n",
    "- Theorem: If $X$ is a random variable with a pdf or pmf from an exponential family then\n",
    "\n",
    "    $\\begin{aligned}\n",
    "    \\operatorname{E}\\left(\\sum_{i=1}^{k}\\frac{\\partial w_{i}(\\theta)}{\\partial\\theta_{j}}t_{i}(X)\\right)& =-\\frac\\partial{\\partial\\theta_j}\\log\\left(c(\\theta)\\right) \\\\\n",
    "    \\mathrm{Var}\\left(\\sum_{i=1}^k\\frac{\\partial w_i(\\theta)}{\\partial\\theta_j}t_i(X)\\right)& =-\\frac{\\partial^2}{\\partial\\theta_j^2}\\log\\left(c(\\theta)\\right)-\\mathrm{E}\\left(\\sum_{i=1}^k\\frac{\\partial^2w_i(\\theta)}{\\partial\\theta_j^2}t_i(X)\\right) \n",
    "    \\end{aligned}$\n",
    "- Example: Expo($\\beta$), and $log = ln$"
   ]
  },
  {
   "cell_type": "markdown",
   "id": "2a7c26ba",
   "metadata": {},
   "source": [
    "- For Expo($\\beta$), k = 1\n",
    "\n",
    "    $\\begin{aligned}\n",
    "    &\\operatorname{E}\\left(\\frac{\\partial w_{1}(\\beta)}{\\partial\\beta}t_{1}(X)\\right)\\\\&=-\\frac{\\partial}{\\partial\\beta}log(c(\\beta)) \\\\\n",
    "          &=-\\frac{\\partial}{\\partial\\beta}log(\\frac{1}{\\beta}) \\\\\n",
    "          &=\\frac{\\partial}{\\partial\\beta}log(\\beta)\\\\\n",
    "          &=\\frac{1}{\\beta}\n",
    "    \\end{aligned}$\n",
    "    \n",
    "    $\\begin{aligned}\n",
    "    &\\operatorname{E}\\left(\\frac{\\partial w_{1}(\\beta)}{\\partial\\beta}t_{1}(X)\\right)\\\\\n",
    "    &=E(\\frac{\\partial}{\\partial \\beta}(-\\frac{1}{\\beta})X)\\\\\n",
    "    &=E(\\frac{1}{\\beta^2}X)\\\\\n",
    "    &=\\frac{1}{\\beta^2}E(X)=\\frac{1}{\\beta^2}\\beta\\\\\n",
    "    &=\\frac{1}{\\beta}\n",
    "    \\end{aligned}$    "
   ]
  },
  {
   "cell_type": "markdown",
   "id": "bc751f16",
   "metadata": {},
   "source": [
    "$\\mathrm{Var}\\left(\\frac{\\partial w_1(\\beta)}{\\partial\\beta}t_1(X)\\right) =-\\frac{\\partial^2}{\\partial\\beta^2}\\log\\left(c(\\beta)\\right)-\\mathrm{E}\\left(\\frac{\\partial^2w_1(\\beta)}{\\partial\\beta^2}t_1(X)\\right)$\n",
    "- $\\frac{\\partial w_1(\\beta)}{\\partial\\beta} = -\\frac{\\partial}{\\partial\\beta}\\cdot\\frac{1}{\\beta}=\\frac{1}{\\beta^2}$\n",
    "- $-\\frac{\\partial^2}{\\partial\\beta^2}\\log\\left(c(\\beta)\\right) =\\frac{\\partial^2}{\\partial\\beta^2}\\log\\left(\\beta\\right)=-\\frac{1}{\\beta^2}$\n",
    "- $\\frac{\\partial^2w_1(\\beta)}{\\partial\\beta^2}=\\frac{\\partial}{\\partial\\beta^2}-\\frac{1}{\\beta}=-\\frac{2}{\\beta^3}$\n",
    "\n",
    "$\\mathrm{Var}\\left(\\frac{1}{\\beta^2}X\\right) =-\\frac{1}{\\beta^2}+\\mathrm{E}\\left(\\frac{2}{\\beta^3}X\\right)$\n",
    "\n",
    "$\\frac{1}{\\beta^4}\\mathrm{Var}\\left(X\\right)= -\\frac{1}{\\beta^2}+\\frac{2}{\\beta^2}$\n",
    "\n",
    "$\\mathrm{Var}\\left(X\\right)=\\beta^2$"
   ]
  },
  {
   "cell_type": "markdown",
   "id": "a7aa347d",
   "metadata": {},
   "source": [
    "### Curved vs. full exponential families\n",
    "\n",
    "- A pdf/pmf from an exponential family:\n",
    "- $f(x\\mid\\theta)=h(x)c(\\theta)\\exp\\left(\\sum_{i=1}^kw_i(\\theta)t_i(x)\\right)$\n",
    "- Often the dimension of $\\theta$ is equal to $k$ - but not always\n",
    "- Definition: Curved or Full Expo Families\n",
    "    - If we can write $f(x)$ such that $k = d$ where $d$ is the dimension of the vector $\\theta$, \n",
    "        - the familiy is called a **full exponential family**. \n",
    "    - A **curved exponential family** is an exponential family for which $d < k$.\n",
    "    - Example: N$(\\theta,\\theta^2)$"
   ]
  },
  {
   "cell_type": "markdown",
   "id": "99ec6085",
   "metadata": {},
   "source": [
    "### Location-scale families\n",
    "It is a handy theorem about shifting and re-scaling pdfs.\n",
    "- Theorem: Let $f(x)$ be a pdf and let $\\mu\\in\\mathbb{R},\\sigma>0$ be constants. Then\n",
    "    - $g(x\\mid\\mu,\\sigma)=\\frac1\\sigma f\\left(\\frac{x-\\mu}\\sigma\\right)$ is also a pdf.\n",
    "- Proof: \n",
    "\n",
    "    Since $f(x)\\geq 0,\\forall x \\text{ and } \\sigma > 0$, then $g(x)\\geq 0,\\forall x$.\n",
    "\n",
    "    $\\begin{aligned}\n",
    "    \\int_{-\\infty}^{\\infty}g(x)dx \n",
    "    &= \\int_{-\\infty}^{\\infty}\\frac{1}{\\sigma}f(\\frac{x-\\mu}{\\sigma})dx\\\\\n",
    "    &= \\int_{-\\infty}^{\\infty}\\frac{1}{\\sigma}f(u)\\sigma du,\\,(u=\\frac{x-\\mu}{\\sigma},dx=\\sigma du)\\\\\n",
    "    &= \\int_{-\\infty}^{\\infty}f(u)du = 1,\\,(x\\in(-\\infty,\\infty)\\to u=\\frac{x-\\mu}{\\sigma}\\in(-\\infty,\\infty))\n",
    "    \\end{aligned}$\n",
    "\n",
    "    Therefore, $g(x)$ is a pdf."
   ]
  },
  {
   "cell_type": "markdown",
   "id": "dc7a11f9",
   "metadata": {},
   "source": [
    "### Location-scale families\n",
    "\n",
    "- Definition: Let $f(x)$ be a pdf (sometimes called the standard pdf )\n",
    "    - (i)  Set $g(x|\\mu)=f(x-\\mu)$. Then {$g(x|\\mu):\\mu\\in\\mathbb{R}$} is called a **location family**.\n",
    "    - (ii) Set $g(x|\\mu)=\\frac{1}{\\sigma}f(\\frac{x}{\\sigma})$. Then {$g(x|\\sigma):\\sigma>0$} is called a **scale family**,\n",
    "    - (iii)Set $g(x\\mid\\mu,\\sigma)=\\frac1\\sigma f\\left(\\frac{x-\\mu}\\sigma\\right)$. Then $\\{g(x\\mid\\mu,\\sigma):\\mu\\in\\mathbb{R},\\sigma>0\\}$ is called a **location-scale family**.\n",
    "    - $\\mu$ is called a **location parameter** and $\\sigma$ is called a **scale parameter**.\n",
    "    - Example: N$(\\mu,\\sigma^2)$ is a location-scale family.\n",
    "        The standard pdf N(0,1): $f(x)=\\frac{1}{\\sqrt{2\\pi}}e^{-x^2/2}I_{(-\\infty,\\infty)}(x)$\n",
    "        \n",
    "        $\\begin{aligned}\n",
    "        g(x)\n",
    "        &=\\frac{1}{\\sigma}\\frac{1}{\\sqrt{2\\pi}}e^{-(\\frac{x-\\mu}{\\sigma})^{2}/2}I_{(-\\infty,\\infty)}(\\frac{x-\\mu}{\\sigma}) \\\\\n",
    "        &=\\frac{1}{\\sqrt{2\\pi}\\sigma}e^{-\\frac{(x-\\mu)^{2}}{2\\sigma^2}}I_{(-\\infty,\\infty)(x)} \\\\\n",
    "        &=\\text{ pdf of }N(\\mu,\\sigma^2)\n",
    "        \\end{aligned}$"
   ]
  },
  {
   "cell_type": "markdown",
   "id": "87367438",
   "metadata": {},
   "source": [
    "- If support of $f(x)$ is not $\\mathbb{R}$ then the support of $g(x|\\mu,\\sigma)$ will depend on $\\mu$ and $\\sigma$\n",
    "- Example: Uniform($a,b$), pdf: $f(x)=\\frac{1}{b-a}I_{[a,b]}(x)$, $a$ and $b$ fixed.\n",
    "    $\\begin{aligned}\n",
    "    g(x)&=\\frac{1}{\\sigma}\\frac{1}{b-a}I_{[a,b]}(\\frac{x-\\mu}{\\sigma}),\\,(a\\leq\\frac{x-\\mu}{\\sigma}\\leq b) \\\\\n",
    "        &=\\frac{1}{\\sigma}\\frac{1}{b-a}I_{[\\sigma a+\\mu,\\sigma b+\\mu]}(x),\\,(\\sigma a + \\mu \\leq x \\leq \\sigma b+\\mu) \\\\\n",
    "        &=\\text{ pdf of uniform}(\\sigma a + \\mu, \\sigma b +\\mu)\n",
    "     \\end{aligned}$\n",
    "     \n",
    "     Note: $\\mu$ is not the mean of $g(x)$, but $\\frac{\\sigma a+\\mu+\\sigma b+\\mu}2 = \\mu + \\sigma\\frac{a+b}{2}, (\\frac{a+b}{2}=\\text{ mean of }f(x))$\n",
    "    "
   ]
  },
  {
   "cell_type": "markdown",
   "id": "76bd4d0e",
   "metadata": {},
   "source": [
    "#### One use of location-scale families:\n",
    "Probabilities for any location-scale pdf can be calculated by transforming to the **standard pdf**.\n",
    "- Theorem: Let $g(\\cdot|\\mu,\\sigma)$ be a pdf from a location-scale family with standard pdf $f(\\cdot)$\n",
    "    - (a): If $X\\sim g(X\\mid\\mu,\\sigma)$ then $Z=\\frac{X-\\mu}\\sigma\\sim f(z)$\n",
    "    - (b): If $Z\\sim f(z)$ then $X=\\sigma Z+\\mu\\sim g(x\\mid\\mu,\\sigma)$"
   ]
  },
  {
   "cell_type": "markdown",
   "id": "58fe9a0b",
   "metadata": {},
   "source": [
    "### Chebychev’s Inequality\n",
    "\n",
    "Let $X$ be a random variable and let $g(x)$ be a non-negative function. \n",
    "- Then for any $k > 0$, $P(g(X)\\geq k)\\leq\\frac{E(g(X))}k$.\n",
    "- Proof:\n",
    "\n",
    "    $P(g(x)\\geq k)=\\int_{A\\in\\{x:g(x)\\geq k\\}}f(x)dx\\leq\\int_{-\\infty}^{\\infty} f(x)dx$\n",
    "    \n",
    "    $\\begin{aligned}\n",
    "    E(g(x))&=\\int_{-\\infty}^{\\infty}g(x)f(x)dx \\\\\n",
    "           &\\geq\\int_{-\\infty}^{\\infty} kf(x)dx,\\,(g(x)\\geq k,x\\in\\mathbb{R})=k\\int_{-\\infty}^{\\infty} f(x)dx \\\\\n",
    "           &\\geq k \\int_{A\\in\\{x:g(x)\\geq k\\}}f(x)dx=kP(g(X)\\geq k)\n",
    "     \\end{aligned}$\n",
    "    \n",
    "    Therefore, $P(g(X)\\geq k)\\leq\\frac{E(g(X))}k$."
   ]
  },
  {
   "cell_type": "markdown",
   "id": "bb0df86b",
   "metadata": {},
   "source": [
    "Let $X$ be a random variable with mean $\\mu=E(X)$ and variance $\\sigma^2=Var(X)$. \n",
    "\n",
    "Consider $g(x)=\\frac{(x-\\mu)^2}{\\sigma^2}$, what does Chebychev’s inequality imply?\n",
    "\n",
    "$\\frac{1}{k}E(\\frac{(x-\\mu)^{2}}{\\sigma^{2}})=\\frac{1}{k\\sigma^{2}}E((x-\\mu)^{2})=\\frac{1}{k\\sigma^{2}}\\cdot\\sigma^2=\\frac{1}{k}\\cdot\\cdot\\cdot(1)$\n",
    "\n",
    "$P(\\frac{(x-\\mu)^{2}}{\\sigma^{2}}\\geq k)=P((x-\\mu)^{2}\\geq k\\sigma^{2})=P(|x-\\mu|\\geq\\sqrt{k}\\sigma)\\cdot\\cdot\\cdot(2)$\n",
    "\n",
    "According to (1) $\\leq$ (2):\n",
    "\n",
    "$P(|x-\\mu|\\geq t\\sigma)\\leq\\frac{1}{t^{2}},\\,(t=\\sqrt{k})$\n",
    "\n",
    "$1-\\frac{1}{t^{2}}\\leq P(|x-\\mu|<t\\sigma)$\n",
    "\n",
    "For t = 2: $P(|x-\\mu|<t\\sigma)\\geq 0.75$\n",
    "\n",
    "For $X\\sim N(\\mu,\\sigma)$: $P(|x-\\mu|<2\\sigma)\\approx0.95$"
   ]
  }
 ],
 "metadata": {
  "kernelspec": {
   "display_name": "Python 3 (ipykernel)",
   "language": "python",
   "name": "python3"
  },
  "language_info": {
   "codemirror_mode": {
    "name": "ipython",
    "version": 3
   },
   "file_extension": ".py",
   "mimetype": "text/x-python",
   "name": "python",
   "nbconvert_exporter": "python",
   "pygments_lexer": "ipython3",
   "version": "3.9.13"
  }
 },
 "nbformat": 4,
 "nbformat_minor": 5
}
