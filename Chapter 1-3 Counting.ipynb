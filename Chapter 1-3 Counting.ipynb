{
 "cells": [
  {
   "attachments": {},
   "cell_type": "markdown",
   "id": "4d47249f",
   "metadata": {},
   "source": [
    "# Counting"
   ]
  },
  {
   "cell_type": "markdown",
   "id": "9fc8276f",
   "metadata": {},
   "source": [
    "How many ways we can pick $r$ items out of $n$ different items.\n",
    "\n",
    "Case1: Ordered, without replacement $\\frac{n!}{(n-r)!}$\n",
    "\n",
    "Case2: Ordered, with replacement $n^r$\n",
    "\n",
    "Case3: Unordered, without replacement $\\frac{n!}{(n-r)!·r!}= \\left(\\begin{array}{c}n\\\\r\\end{array}\\right)$\n",
    "\n",
    "Case4: Unordered, with replacement $\\left(\\begin{array}{c}n-1+r\\\\r\\end{array}\\right)$"
   ]
  }
 ],
 "metadata": {
  "kernelspec": {
   "display_name": "Python 3 (ipykernel)",
   "language": "python",
   "name": "python3"
  },
  "language_info": {
   "codemirror_mode": {
    "name": "ipython",
    "version": 3
   },
   "file_extension": ".py",
   "mimetype": "text/x-python",
   "name": "python",
   "nbconvert_exporter": "python",
   "pygments_lexer": "ipython3",
   "version": "3.9.13"
  }
 },
 "nbformat": 4,
 "nbformat_minor": 5
}
