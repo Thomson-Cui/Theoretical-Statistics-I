{
 "cells": [
  {
   "cell_type": "markdown",
   "id": "9b76233d",
   "metadata": {},
   "source": [
    "# Chapter 1: Probability Theory\n",
    "\n",
    "## 1.1 Set Theory\n",
    "\n",
    "`Definition 1.1.1` The set, $S$, of all possible outcomes of a particular experiment is called the **sample space** for the experiment.\n",
    "\n",
    "If the experiment consists of tossing a coin, the sample space contains two outcomes, heads and tails; thus,\n",
    "\n",
    "$$S=\\{\\mathrm{H}, \\mathrm{T}\\}$$\n",
    "\n",
    "Roll a die, thus,\n",
    "\n",
    "$$S=\\{1,2,3,4,5,6\\}$$\n",
    "\n",
    "Soccer game, thus,\n",
    "\n",
    "$$S=\\{\\text{Win, Draw, Lose}\\}$$\n",
    "\n",
    "Height of a statistics student\n",
    "\n",
    "$$S=(140,250)$$\n",
    "\n",
    "Set are finite, countable, or uncountable sample spaces.\n",
    "\n",
    "`Definition 1.1.2` An **event** is any collection of possible outcomes of an experiment, that is, any subset of *S* (including *S* itself). \n",
    "\n",
    "Let *A* be an event, a subset of *S*. We say the event *A* ovvurs if the outcome of the experiment is in the set *A*. When speaking of probabilities, we generally speak of the probability of an event, rather than a set.\n",
    "\n",
    "We first need to define formally the following 2 relationships, which allow us to order an euqate sets:\n",
    "\n",
    "$$A\\subset B\\Leftrightarrow x\\in A\\Rightarrow x\\in B \\tag{containment}$$\n",
    "$$A=B\\Leftrightarrow A\\subset B\\mathrm{~and~}B\\subset A \\tag{equality}$$\n",
    "\n",
    "Given any two events (or sets) *A* and *B*, we have the following elementary set operations:\n",
    "\n",
    "<span style=\"color: red;\">这三个等式是推理证明的基础</span>\n",
    "----------------------------------------------------------------------------------\n",
    "\n",
    "`Union:` The union of *A* and *B*, written $A\\cup B$, is the set of elements that belong to either *A* or *B* or both:\n",
    "\n",
    "$$A\\cup B=\\{x:x\\in A\\mathrm{~or~}x\\in B\\}$$\n",
    "\n",
    "\n",
    "`Intersection:` The intersection of *A* and *B*, written $A\\cap B$, is the set of elements that belong to both *A* and *B*:\n",
    "\n",
    "$$A\\cap B=\\{x\\colon x\\in A\\mathrm{~and~}x\\in B\\}.$$\n",
    "\n",
    "`Complementation:` The complement of *A*, written $A^{c}$, is the set of all elements that are not in *A*:\n",
    "\n",
    "$$A^{\\mathbf{c}}=\\{x:x\\notin A\\}.$$\n",
    "\n",
    "-------------------------------------------------------------------------------\n",
    "\n",
    "**Example 1.1.3 (Event operations):** Consider the experiment of selecting a card at random from a standard deck and noting its suit: clubs(C), diamonds(D), hearts(H), or spades(S). The sample space is\n",
    "\n",
    "$$S = \\{C,D,H,S\\}$$\n",
    "\n",
    "and some possible events are\n",
    "\n",
    "$$A = \\{C,D\\} \\text{ and } B = \\{D,H,S\\}$$\n",
    "\n",
    "From these events we can form\n",
    "\n",
    "$$A\\cup B=\\{\\mathrm{C,D,H,S}\\}, A\\cap B=\\{\\mathrm{D}\\}, \\mathrm{and} A^{\\mathrm{c}}=\\{\\mathrm{H,S}\\}.$$\n",
    "\n",
    "Furthermore, notice that $A\\cup B=S$ (the event *S*) and $(A \\cup B)^{c} = \\emptyset$, where $\\emptyset$ denotes the *empty set* (the set consisting of no elements)."
   ]
  },
  {
   "cell_type": "markdown",
   "id": "4d8815a6",
   "metadata": {},
   "source": [
    "`Theorem 1.1.4` For any three events, A, B, and C, defined on a sample space S,\n",
    "\n",
    "a. Commutativity\n",
    "\n",
    "$$\\begin{array}{c}A\\cup B=B\\cup A,\\\\A\\cap B=B\\cap A;\\end{array}$$\n",
    "\n",
    "b. Associativity\n",
    "\n",
    "$$\\begin{array}{c}A\\cup(B\\cup C)=(A\\cup B)\\cup C,\\\\A\\cap(B\\cap C)=(A\\cap B)\\cap C;\\end{array}$$\n",
    "\n",
    "c. Distributive Laws\n",
    "\n",
    "$$\\begin{array}{c}A\\cap(B\\cup C)=(A\\cap B)\\cup(A\\cap C),\\\\A\\cup(B\\cap C)=(A\\cup B)\\cap(A\\cup C);\\end{array}$$\n",
    "\n",
    "d. DeMorgan's Laws\n",
    "\n",
    "$$\\left(A\\cup B\\right)^\\mathbf{c}=A^\\mathbf{c}\\cap B^\\mathbf{c},\\\\\\left(A\\cap B\\right)^\\mathbf{c}=A^\\mathbf{c}\\cup B^\\mathbf{c}.$$"
   ]
  },
  {
   "cell_type": "markdown",
   "id": "f95571a0",
   "metadata": {},
   "source": [
    "#### 均使用以上三公式推理证明\n",
    "**Proof of a:**\n",
    "\n",
    "$$x\\in A\\cup B \\Leftrightarrow x\\in A \\text{ or } x\\in B \\Leftrightarrow x\\in B\\cup A\\\\x\\in A\\cap B \\Leftrightarrow x\\in A \\text{ and } x\\in B \\Leftrightarrow x\\in B\\cap A$$\n",
    "\n",
    "**Proof of b:**\n",
    "\n",
    "$x\\in A\\cup(B\\cup C)\\Leftrightarrow x\\in A\\text{ or }x\\in B\\cup C\\Leftrightarrow x\\in A\\cup B\\text{ or }x\\in C\\Leftrightarrow x\\in(A\\cup B)\\cup C.$\n",
    "$\\text{(It can similarly be shown that }A\\cup(B\\cup C)=(A\\cup C)\\cup B.)$\n",
    "$x\\in A\\cap(B\\cap C)\\Leftrightarrow x\\in A\\mathrm{~and~}x\\in B\\mathrm{~and~}x\\in C\\Leftrightarrow x\\in(A\\cap B)\\cap C.$\n",
    "\n",
    "**Proof of c:**\n",
    "\n",
    "$x\\in A \\text{ and } x\\in(B\\cup C)\\Leftrightarrow x\\in A \\text{ and }(x\\in B \\text{ or }x\\in C)$\n",
    "$\\Leftrightarrow (x\\in A \\text{ and } x\\in B)\\text{ or }(x\\in A \\text{ and } x\\in C)\\Leftrightarrow x\\in (A\\cap B)\\text{ or }x\\in (A \\cap C)$\n",
    "$\\Leftrightarrow (A\\cap B)\\cup(A\\cap C)$\n",
    "\n",
    "$x\\in A \\text{ or } x\\in(B\\cap C)\\Leftrightarrow x\\in A \\text{ or }(x\\in B \\text{ and }x\\in C)$\n",
    "$\\Leftrightarrow (x\\in A \\text{ or } x\\in B)\\text{ and }(x\\in A \\text{ or } x\\in C)\\Leftrightarrow x\\in (A\\cup B)\\text{ and }x\\in (A \\cup C)$\n",
    "$\\Leftrightarrow (A\\cup B)\\cap(A\\cup C)$\n",
    "\n",
    "**Proof of d:** 注意如何从$\\notin$转化为$\\in$\n",
    "\n",
    "$x\\in(A\\cup B)^{c}\\Leftrightarrow x\\notin A\\mathrm{~or~}x\\notin B\\Leftrightarrow x\\in A^{c}\\mathrm{~and~}x\\in B^{c}\\Leftrightarrow x\\in A^{c}\\cap B^{c}$\n",
    "$x\\in(A\\cap B)^{c}\\Leftrightarrow x\\notin A\\cap B\\Leftrightarrow x\\notin A\\mathrm{~and~}x\\notin B\\Leftrightarrow x\\in A^{c}\\mathrm{~or~}x\\in B^{c}\\Leftrightarrow x\\in A^{c}\\cup B^{c}.$"
   ]
  },
  {
   "cell_type": "markdown",
   "id": "a91826ea",
   "metadata": {},
   "source": [
    "### Proving another set equality\n",
    "\n",
    "`Symmetric difference` or `xor` of two sets is defined as\n",
    "\n",
    "$$A\\triangle B=(A\\setminus B)\\cup(B\\setminus A)=\\{\\text{x:x is in either A or B but not both}\\}$$\n",
    "\n",
    "$$A\\setminus B=A\\cap B^{c}$$"
   ]
  },
  {
   "cell_type": "markdown",
   "id": "3b0cd7c1",
   "metadata": {},
   "source": [
    "![1-1](1-1.png)"
   ]
  },
  {
   "cell_type": "markdown",
   "id": "177c32c1",
   "metadata": {},
   "source": [
    "Show that $(A\\triangle B)\\cap C = (A\\cap C)\\triangle(B\\cap C)$\n",
    "\n",
    "#### Prove:\n",
    "\n",
    "$(A\\triangle B)\\cap C = [(A\\setminus B)\\cup(B\\setminus A)]\\cap C = [(A\\cap B^{c})\\cup(B\\cap A^{c})]\\cap C$\n",
    "$= (A\\cap C\\cap B^{c})\\cup(B\\cap C\\cap A^{c})$\n",
    "\n",
    "$(A\\cap C)\\triangle(B\\cap C) =[(A\\cap C)\\setminus(B\\cap C)]\\cup[(B\\cap C)\\setminus(A\\cap C)]$\n",
    "$=[(A\\cap C)\\cap(B\\cap C)^{c}]\\cup[(B\\cap C)\\cap(A\\cap C)^{c}]$\n",
    "$=[(A\\cap C)\\cap(B^{c}\\cup C^{c})]\\cup[(B\\cap C)\\cap(A^{c}\\cup C^{c})]$\n",
    "$=(A\\cap C\\cap B^{c})\\cup (A\\cap C\\cap C^{c})\\cup (B\\cap C \\cap A^{c})\\cup (B\\cap C \\cap C^{c})$\n",
    "$=(A\\cap C\\cap B^{c})\\cup \\emptyset \\cup (B\\cap C \\cap A^{c}) \\cup \\emptyset$\n",
    "$= (A\\cap C\\cap B^{c})\\cup(B\\cap C\\cap A^{c})$"
   ]
  },
  {
   "cell_type": "markdown",
   "id": "8ed74852",
   "metadata": {},
   "source": [
    "## Union and Intersections of many sets"
   ]
  },
  {
   "cell_type": "markdown",
   "id": "878d5a41",
   "metadata": {},
   "source": [
    "`Notation for union of n sets:`\n",
    "\n",
    "$$\\begin{aligned}\\bigcup_{i=1}^nA_i&=A_1\\cup A_2\\cup\\cdots\\cup A_n\\\\&=\\{x:x\\in A_i\\text{ for at least one }i\\}\\end{aligned}$$\n",
    "\n",
    "`Notation for union of infinite number of sets:`\n",
    "\n",
    "$$\\begin{aligned}\n",
    "\\bigcup_{i=1}^{\\infty}A_i& =A_1\\cup A_2\\cup A_3\\cdots  \\\\\n",
    "&=\\{x:\\exists \\text{ i so that }x\\in A_i\\}\n",
    "\\end{aligned}$$"
   ]
  },
  {
   "cell_type": "markdown",
   "id": "b4e22511",
   "metadata": {},
   "source": [
    "`Notation for intersection of n sets:`\n",
    "\n",
    "$$\\begin{aligned}\\bigcap_{i=1}^{n}A_{i}&=A_{1}\\cap A_{2}\\cap\\cdots\\cap A_{n}\\\\&=\\{x:x\\in A_{1},x\\in A_{2},...,x\\in A_{n}\\}\\end{aligned}$$\n",
    "\n",
    "`Notation for intersection of infinite number of sets:`\n",
    "\n",
    "$$\\begin{aligned}\\bigcap_{i=1}^{\\infty}A_{i}&=A_{1}\\cap A_{2}\\cap A_{3}\\cdots\\\\&=\\{X:x\\in A_{i},\\mathrm{~}\\forall i\\}\\end{aligned}$$"
   ]
  },
  {
   "cell_type": "markdown",
   "id": "380a5960",
   "metadata": {},
   "source": [
    "## DeMorgan’s law for many sets"
   ]
  },
  {
   "cell_type": "markdown",
   "id": "960819ab",
   "metadata": {},
   "source": [
    "`DeMorgan’s law generalizes to n sets:`\n",
    "\n",
    "$$\\left(\\bigcup_{i=1}^{n}A_{i}\\right)^{c}=\\bigcap_{i=1}^{n}A_{i}^{c}\\quad\\mathrm{~and~}\\quad\\left(\\bigcap_{i=1}^{n}A_{i}\\right)^{c}=\\bigcup_{i=1}^{n}A_{i}^{c}$$\n",
    "\n",
    "`DeMorgan’s law generalizes to infinite number of sets:`\n",
    "\n",
    "$$\\left(\\bigcup_{i=1}^{\\infty}A_{i}\\right)^{C}=\\bigcap_{i=1}^{\\infty}A_{i}^{C}\\quad\\mathrm{~and~}\\quad\\left(\\bigcap_{i=1}^{\\infty}A_{i}\\right)^{C}=\\bigcup_{i=1}^{\\infty}A_{i}^{C}$$"
   ]
  },
  {
   "cell_type": "markdown",
   "id": "f3ad7c76",
   "metadata": {},
   "source": [
    "## Mutually exclusive sets and a partition"
   ]
  },
  {
   "cell_type": "markdown",
   "id": "0ddf1699",
   "metadata": {},
   "source": [
    "Recall: Two events are disjoint if $A\\cap B=\\emptyset$\n",
    "\n",
    "`Definition: Mutually exclusive`\n",
    "\n",
    "Events $A_1, A_2, A_3, ...$ are called **mutally exclusive** or pairwise disjoint if \n",
    "$$A_i\\cap A_j=\\emptyset\\text{ for all }i\\neq j$$\n",
    "\n",
    "`Definition: Partition`\n",
    "\n",
    "If $A_1, A_2, A_3, ...$ are mutually exclusive and $\\bigcup_{i=1}^\\infty A_i=S$, then $A_1, A_2, A_3, ...$ is called a **partition** of S "
   ]
  },
  {
   "cell_type": "markdown",
   "id": "9ac069e1",
   "metadata": {},
   "source": [
    "### Example:\n",
    "\n",
    "$$A_i=\\left(\\frac1{2^i},\\frac1{2^{i-1}}\\right]\\quad i=1,2,3,\\ldots $$\n",
    "\n",
    "$A_1=(\\frac{1}{2},1], A_2=(\\frac{1}{4},\\frac{1}{2}], A_3=(\\frac{1}{8},\\frac{1}{4}] \\text{ }....\\text{ mutually exclusive}$\n",
    "\n",
    "We can get that $\\operatorname*{lim}_{i\\rightarrow\\infty}\\frac{1}{2^{i}}=0$, so that $\\bigcup_{i=1}^{\\infty}A_{i}=(0,1]$, and $A_1, A_2, A_3, ...$ is a partition of $(0,1]$."
   ]
  }
 ],
 "metadata": {
  "kernelspec": {
   "display_name": "Python 3 (ipykernel)",
   "language": "python",
   "name": "python3"
  },
  "language_info": {
   "codemirror_mode": {
    "name": "ipython",
    "version": 3
   },
   "file_extension": ".py",
   "mimetype": "text/x-python",
   "name": "python",
   "nbconvert_exporter": "python",
   "pygments_lexer": "ipython3",
   "version": "3.9.13"
  }
 },
 "nbformat": 4,
 "nbformat_minor": 5
}
