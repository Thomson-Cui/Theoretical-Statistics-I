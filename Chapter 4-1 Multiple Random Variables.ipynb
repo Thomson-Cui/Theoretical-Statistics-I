{
 "cells": [
  {
   "cell_type": "markdown",
   "id": "fb84a055",
   "metadata": {},
   "source": [
    "### Random Vectors\n",
    "- Definition: Random vectors: A Random vector is a vector of random variables.\n",
    "    - $\\mathbf{x}=\\left[\\begin{array}{c}\n",
    "        X_{1} \\\\\n",
    "        X_{2} \\\\\n",
    "        \\vdots \\\\\n",
    "        X_{n}\n",
    "        \\end{array}\\right]$"
   ]
  },
  {
   "cell_type": "markdown",
   "id": "56a119df",
   "metadata": {},
   "source": [
    "### Discrete random vector\n",
    "\n",
    "- A random vector $\\mathbf{X}=\\left(X_{1}, X_{2}, \\ldots, X_{n}\\right)^{\\prime}$ is a discrete $n$-dimensional random vector if it can take only a countable number of values in $\\mathbb{R}^n$"
   ]
  },
  {
   "cell_type": "markdown",
   "id": "adb441dd",
   "metadata": {},
   "source": [
    "### Joint pmf\n",
    "- Definition: The joint pmf for a discrete random vector $(X, Y)$ is defined as\n",
    "    - $f(x,y)=P(X=x,Y=y)$\n",
    "        - $f(x,y)\\geq0,\\,\\forall x,y$\n",
    "        - $\\sum_x\\sum_yf(x,y)=1$\n",
    "    - $P\\left((X,Y)\\in A\\right)=\\sum_{(x,y)\\in A}f(x,y)$"
   ]
  },
  {
   "cell_type": "markdown",
   "id": "ad1a03a9",
   "metadata": {},
   "source": [
    "### Example - 3 coins\n",
    "- A fair coin is tossed 3 times in a row. Let\n",
    "    - X = number of head on the first toss\n",
    "    - Y = total number of head on the first toss\n",
    "- Joint table\n",
    "\n",
    "    $\\begin{array}{c|cc}\\mathrm{Outcome}&X&Y\\\\\\hline\\mathrm{HHH}&1&3\\\\\\mathrm{HHT}&1&2\\\\\\mathrm{HTH}&1&2\\\\\\mathrm{THH}&0&2\\\\\\mathrm{HTT}&1&1\\\\\\mathrm{THT}&0&1\\\\\\mathrm{TTH}&0&1\\\\\\mathrm{TTT}&0&0\\end{array}$"
   ]
  },
  {
   "cell_type": "markdown",
   "id": "eee1d4d3",
   "metadata": {},
   "source": [
    "### Joint PMF $f(x,y)$ of ($X,Y$)\n",
    "\n",
    "![4-1 Image](./4-1-1.png)"
   ]
  },
  {
   "cell_type": "markdown",
   "id": "97b8331c",
   "metadata": {},
   "source": [
    "$X\\sim Binom(1,\\frac{1}{2})\\equiv Bernoulli(\\frac{1}{2})$\n",
    "\n",
    "$Y\\sim Binom(3,\\frac{1}{2})$"
   ]
  },
  {
   "cell_type": "markdown",
   "id": "3b0aeff4",
   "metadata": {},
   "source": [
    "#### Marginal distribution\n",
    "- A marginal pmf\n",
    "    - $f_X(x)=P(X=x)=\\sum_yP(X=x,Y=y)=\\sum_yf(x,y)$\n",
    "    - $f_Y(y)=\\sum_Xf(x,y)$\n",
    "- Can obtain marginal pmf’s from the joint pmf, but not the other way around\n",
    "    - $X_1$ and $X_2$ have same distribution $X_1,X_2\\sim Binom(1,\\frac{1}{2})$\n",
    "    - $Y_1$ and $Y_2$ have same distribution $Y_1,Y_2\\sim Binom(3,\\frac{1}{2})$\n",
    "    - but $f_1(x_1,y_1)\\neq f_2(x_2,y_2)$\n",
    "    - Example:\n",
    "        - $X_2$ = number of head on the first toss.\n",
    "        - $Y_2$ = total number of tails in all 3 tosses.\n",
    "        - Then $(X,Y)$ and $X_2,Y_2$ do not have the same joint distribution."
   ]
  },
  {
   "cell_type": "markdown",
   "id": "55150bf6",
   "metadata": {},
   "source": [
    "- Joint table\n",
    "\n",
    "    $\\begin{array}{c|cc}\\mathrm{Outcome}&X&Y_1&Y_2\\\\\\hline\\mathrm{HHH}&1&3&0\\\\\\mathrm{HHT}&1&2&1\\\\\\mathrm{HTH}&1&2&1\\\\\\mathrm{THH}&0&2&1\\\\\\mathrm{HTT}&1&1&2\\\\\\mathrm{THT}&0&1&2\\\\\\mathrm{TTH}&0&1&2\\\\\\mathrm{TTT}&0&0&3\\end{array}$"
   ]
  },
  {
   "cell_type": "markdown",
   "id": "82ca5f49",
   "metadata": {},
   "source": [
    "![4-1 Image](./4-1-2.png)"
   ]
  },
  {
   "cell_type": "markdown",
   "id": "17999749",
   "metadata": {},
   "source": [
    "### Expectation\n",
    "- Expectation of a function of a random vector:\n",
    "    - $E(g(X,Y))=\\sum_{x,y}g(x,y)f(x,y)$\n",
    "- A mean vector is defined as：\n",
    "    - $E\\left(\\begin{bmatrix}X\\\\Y\\end{bmatrix}\\right)=\\begin{bmatrix}E(X)\\\\E(Y)\\end{bmatrix}$\n",
    "    - where $E(X)$ and $E(Y)$ are called the marginal means.\n",
    "    - $E(x+y)=\\sum_{x, y}(x+y)f(x,y)=E(x)+E(y)$"
   ]
  },
  {
   "cell_type": "markdown",
   "id": "cff2d96f",
   "metadata": {},
   "source": [
    "### Joint CDF\n",
    "\n",
    "- The joint cdf is defined as \n",
    "    - $F(x,y)=P(X\\leq x,Y\\leq y)=\\sum_{\\{(t,s)|t\\leq x,s\\leq y\\}} f(t,s)$\n",
    "    - $F(x,y)=\\int_{-\\infty}^x\\int_{-\\infty}^yf(s,t) dt ds.$\n",
    "    - $\\frac{\\partial^2F(x,y)}{\\partial x \\partial y}=f(x,y)$"
   ]
  },
  {
   "cell_type": "markdown",
   "id": "91a495b0",
   "metadata": {},
   "source": [
    "\\begin{array}{c|c|c|c|c|c}&y<0&0\\leq y<1&1\\leq y<2&2\\leq y<3&y\\geq3\\\\\\hline x<0&0&0&0&0&0\\\\\\hline 0\\leq x<1&0&\\frac{1}{8}&\\frac{3}{8}&\\frac{4}{8}&\\frac{4}{8}\\\\\\hline x\\geq1&0&\\frac{1}{8}&\\frac{4}{8}&\\frac{7}{8}&1\\\\\\hline\\end{array}"
   ]
  },
  {
   "cell_type": "markdown",
   "id": "52b8a54f",
   "metadata": {},
   "source": [
    "### Multinomial distribution\n",
    "$f(x_{1},\\ldots,x_{n})=\\frac{m!}{x_{1}!\\cdot\\cdots\\cdot x_{n}!}p_{1}^{x_{1}}p_{2}^{x_{2}}\\cdots p_{n}^{x_{n}}=m!\\prod_{i=1}^{n}\\frac{p_{i}^{x_{i}}}{x_{i}!}$\n",
    "- $\\sum_{i=1}^{n}p_{i} = 1$\n",
    "- $\\sum_{i=1}^{n}x_{i}=m$\n",
    "- $f(x_{1},\\ldots,x_{n-1})=m!\\prod_{i=1}^{n}\\frac{p_{i}^{x_{i}}}{x_{i}!}$\n",
    "- $(p_{1}+\\cdots+p_{n})^{m}=\\sum_{\\sum_i^nx_i=m}\\frac{m!}{x_{1}!\\cdots\\cdots x_{n}!}p_{1}^{x_{1}}\\cdot\\cdots\\cdot p_{n}^{x_{n}}.$\n",
    "\n",
    "$\\begin{aligned}f(x_{n})&=\\sum_{(x_{1},\\ldots,x_{n-1})\\in\\mathcal{B}}\\frac{m!}{x_{1}!\\cdots\\cdots x_{n}!}(p_{1})^{x_{1}}\\cdots\\cdots(p_{n})^{x_{n}}\\\\&=\\sum_{(x_{1},\\ldots,x_{n-1})\\in\\mathcal{B}}\\frac{m!}{x_{1}!\\cdots\\cdots x_{n}!}p_{1}^{x_{1}}\\cdots\\cdots p_{n}^{x_{n}}\\frac{(m-x_{n})!}{(m-x_{n})!}\\frac{(1-p_{n})^{m-x_{n}}}{(1-p_{n})^{m-x_{n}}}\\\\\n",
    "&=\\frac{m!}{x_{n}!(m-x_{n})!}p_{n}^{x_{n}}(1-p_{n})^{m-x_{n}} \\\\\n",
    "&\\times\\sum_{(x_{1},\\ldots,x_{n-1})\\in\\mathcal{B}}\\frac{(m-x_{n})!}{x_{1}!\\cdots\\cdots x_{n-1}!}\\left(\\frac{p_{1}}{1-p_{n}}\\right)^{x_{1}}\\cdots\\cdots\\left(\\frac{p_{n-1}}{1-p_{n}}\\right)^{x_{n-1}}\\\\\n",
    "&=\\frac{m!}{x_{n}!(m-x_{n})!}p_{n}^{x_{n}}(1-p_{n})^{m-x_{n}}\\end{aligned}$\n",
    "\n",
    "$\\begin{aligned}\n",
    "f(x_1,\\ldots,x_{n-1}|x_n)& =\\frac{f(x_{1},\\ldots,x_{n})}{f(x_{n})} \\\\\n",
    "&=\\frac{\\frac{m!}{x_{1}!\\cdots^{*}x_{n}!}(p_{1})^{x_{1}}\\cdots\\cdots(p_{n})^{x_{n}}}{\\frac{m!}{x_{n}!(m-x_{n})!}(p_{n})^{x_{n}}(1-p_{n})^{m-x_{n}}} \\\\\n",
    "&=\\frac{(m-x_{n})!}{x_{1}!\\cdots\\cdots x_{n-1}!}\\left(\\frac{p_{1}}{1-p_{n}}\\right)^{x_{1}}\\cdots\\cdots\\left(\\frac{p_{n-1}}{1-p_{n}}\\right)^{x_{n-1}}\n",
    "\\end{aligned}$\n",
    "\n",
    "$\\sum_{x_1,\\ldots,x_{n-1}}f(x_1,\\ldots,x_{n-1}|x_n)=1$"
   ]
  },
  {
   "cell_type": "markdown",
   "id": "1599f614",
   "metadata": {},
   "source": [
    "### Continuous joint distribution / joint pdf\n",
    "\n",
    "- A joint pdf must satisfy:\n",
    "    - $\\int_{-\\infty}^{\\infty}\\int_{-\\infty}^{\\infty}f(x,y)dxdy=1$\n",
    "    - $f(x,y)\\geq0,-\\infty<x<\\infty, -\\infty<y<\\infty$\n",
    "- $P((X,Y)^{\\prime}\\in A)=\\iint_{A\\in\\mathbb{R}^2}f(x,y)dxdy$\n",
    "- Marginal pdfs\n",
    "    - $f_X(x)=\\int f(x,y)dy$\n",
    "    - $f_Y(y)=\\int f(x,y)dx$\n",
    "- Expectation of a function of a random vector:\n",
    "    - $E(g(X,Y))=\\int\\int g(x,y)f(x,y)dxdy$\n",
    "- Joint cdf\n",
    "    - $F(x,y)=P(X\\leq x,Y\\leq y)=\\int_{-\\infty}^{y}\\int_{-\\infty}^{x}f(s,t)\\mathrm{~ds~dt}$\n",
    "        - $\\frac{\\partial^2}{\\partial x\\partial y}F(x,y)=f(x,y)$\n",
    "- $E(x)=\\int x f_{X}(x)dx=\\int\\int xf(x,y)dxdy$"
   ]
  },
  {
   "cell_type": "markdown",
   "id": "67bfc503",
   "metadata": {},
   "source": [
    "### Example 1:\n",
    "Verify that $f(x, y)=\\left\\{\\begin{array}{ll}\n",
    "4 x y & \\text { if } 0<y<1 \\text { and } 0<x<1 \\\\\n",
    "0 & \\text { otherwise }\n",
    "\\end{array}\\right.$\n",
    "\n",
    "is a joint pdf. Find the marginal pdf’s and E(XY).\n"
   ]
  },
  {
   "cell_type": "markdown",
   "id": "b2aa7fcf",
   "metadata": {},
   "source": [
    "### Example 2 ($*$):\n",
    "Verify that $f(x,y)=\\begin{cases}&8xy&\\mathrm{~if~}0<y<x<1\\\\&0&\\mathrm{otherwise}&\\end{cases}$\n",
    "\n",
    "is a joint pdf. Find the marginal pdf’s and $E(XY)$.\n",
    "\n",
    "#### Method 1\n",
    "$\\int_{0}^{1}\\int_{0}^{x}8xydydx=\\int_{0}^{1}[4xy^{2}]_{0}^{x}dx=\\int_{0}^{1}4x^{3}dx\\\\=x^{4}|_{0}^{1}=1,(y\\in(0,x),x\\in(0,1))$\n",
    "#### Method 2\n",
    "$\\int_{0}^{1}\\int_{y}^{1}8xydxdy=\\cdots=1,(x\\in(y,1),y\\in(0,1))$\n",
    "\n",
    "#### Marginal pdf\n",
    "$f_{X}(x)=\\int_{0}^{x}8xydy=4x^{2}y|_{0}^{x}=4x^{3},0<x<1\\\\f_{Y}(y)=\\int_{y}^{1}8xydx=4x^{2}y|_{y}^{1}=4y-4y^{3},0<y<1$\n",
    "$X\\sim Beta(4,1)$\n",
    "\n",
    "#### E(XY)\n",
    "$E(XY)=\\int_0^18x^2\\cdot\\frac{x^3}3 dx=\\frac83\\int_0^1x^5 dx=\\frac83\\cdot\\left[\\frac{x^6}6\\right]_0^1=\\frac83\\cdot\\frac16=\\frac8{18}=\\frac49$"
   ]
  }
 ],
 "metadata": {
  "kernelspec": {
   "display_name": "Python 3 (ipykernel)",
   "language": "python",
   "name": "python3"
  },
  "language_info": {
   "codemirror_mode": {
    "name": "ipython",
    "version": 3
   },
   "file_extension": ".py",
   "mimetype": "text/x-python",
   "name": "python",
   "nbconvert_exporter": "python",
   "pygments_lexer": "ipython3",
   "version": "3.9.13"
  }
 },
 "nbformat": 4,
 "nbformat_minor": 5
}
