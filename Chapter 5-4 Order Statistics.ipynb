{
 "cells": [
  {
   "cell_type": "markdown",
   "metadata": {},
   "source": [
    "## Order Statistics"
   ]
  },
  {
   "cell_type": "markdown",
   "metadata": {},
   "source": [
    "Let $X_1,X_2,...,X_n$ be a random sample. The statistics\n",
    "- $X_{(1)}$ = min{$X_1,X_3,...,X_n$}\n",
    "- $X_{(2)}$ = second smallest{$X_1,X_3,...,X_n$}\n",
    "- $\\vdots$\n",
    "- $X_{(n-1)}$ = second largest{$X_1,X_3,...,X_n$}\n",
    "- $X_{(n)}$ = max{$X_1,X_3,...,X_n$}\n",
    "\n",
    "are called order stastics.\n",
    "\n",
    "Examples:\n",
    "- Weight of smallest kitten in a litter\n",
    "- Highest score on an exam\n",
    "\n",
    "We want to find the (sampleing) distribution of order statistics."
   ]
  },
  {
   "cell_type": "markdown",
   "metadata": {},
   "source": [
    "#### Order statistics - Example\n",
    "- Random sample $X_1,X_2,...,X_{10}$\n",
    "- Order statistics $X_{(1)},X_{(2)},...,X_{(10)}$\n",
    "Observed random sample:\n",
    "\n",
    "$x_1,~~x_2,~x_3,~x_4,~~x_5,~x_6,~x_7,~x_8,~x_9,~x_{10}$\n",
    "\n",
    "$1.9,3.5,9.0,2.8,3.3,2.1,6.1,1.1,0.7,7.9$\n",
    "\n",
    "Corresponding observed order statistics:\n",
    "\n",
    "$x_{(1)},~x_{(2)},~x_{(3)},~x_{(4)},~x_{(5)},~x_{(6)},~x_{(7)},~x_{(8)},~x_{(9)},~x_{(10)}$\n",
    "\n",
    "$0.7,~~1.1,~~1.9,~~2.1,~~2.8,~~3.3,~~3.5,~~6.1,~~7.9,~~9.0$"
   ]
  },
  {
   "cell_type": "markdown",
   "metadata": {},
   "source": [
    "### Distributions of order statistics\n",
    "\n",
    "Theorem: distribution of order statistics\n",
    "\n",
    "Let $X_1,X_2,...,X_n$ be a random sample from a **continuous** distribution, with pdf $f(x)$ and cdf $F(x)$. The the cdf and pdf of the j-th order statistic $X_{(j)}$ are\n",
    "\n",
    "- $F_{(j)}(x)=\\sum_{k=j}^n\\binom{n}{k}F(x)^k(1-F(x))^{n-k}$\n",
    "- $f_{(j)}(x)=\\frac{n!}{(j-1)!(n-j)!}f(x)F(x)^{j-1}(1-F(x))^{n-j}$"
   ]
  },
  {
   "cell_type": "markdown",
   "metadata": {},
   "source": [
    "#### Order Statistics as transformations\n",
    "- Transformations from a random sample to order statistics\n",
    "\n",
    "    $(X_1,X_2,...,X_n)\\to X_{(j)}$\n",
    "\n",
    "    $(X_1,X_2,...,X_n)\\to(X_{(1)},X_{(2)},...,X_{(n)})$\n",
    "\n",
    "    are not one-to-one transformations\n",
    "-  Example: $n=3$ and $(X_1,X_2,X_3)\\to(X_{(1)},X_{(2)},X_{(3)})$\n",
    "    - The following obserbations of $(X_1,X_2,X_3)$\n",
    "\n",
    "        $(3, 5, 8), (3, 8, 5), (5, 3, 8), (5, 8, 3), (8, 3, 5), (8, 5, 3)$\n",
    "\n",
    "        are all mapped to $(X_{(1)},X_{(2)},X_{(3)})=(3,5,8)$\n",
    "- So we can't use out transformation formulas to obtain $f_{(j)}(x)$\n",
    "    - So use the \"cdf-method\" to find $F_{(j)}(x)=P(X_{(j)}\\leq x)$"
   ]
  },
  {
   "cell_type": "markdown",
   "metadata": {},
   "source": [
    "### Untangling expressions in the Theorem\n",
    "- Recall that by the Binomial formula\n",
    "\n",
    "    $\\sum_{k=0}^n\\binom{n}{k}F(x)^k(1-F(x))^{n-k}$ = 1\n",
    "\n",
    "- So the cdf $F_{(1)}(x)$ can be written as\n",
    "\n",
    "    $\\begin{aligned}\n",
    "    F_{(1)}(x)\n",
    "    &=\\sum_{k=1}^n\\binom{n}{k}F(x)^k(1-F(x))^{n-k}\\\\\n",
    "    &=\\sum_{k=0}^n\\binom{n}{k}F(x)^k(1-F(x))^{n-k}-\\binom{n}{0}F(x)^0(1-F(x))^{n-0}\\\\\n",
    "    &=1-(1-F(x))^n\n",
    "    \\end{aligned}$\n",
    "\n",
    "    $\\begin{aligned}\n",
    "    f_{(1)}(x)\n",
    "    &=\\frac{n!}{(1-1)!(n-1)!}f(x)F(x)^{1-1}(1-F(x))^{n-1}\\\\\n",
    "    &=nf(x)(1-F(x))^{n-1}=\\frac{d}{dx}F_{(1)}(x)\n",
    "    \\end{aligned}$\n"
   ]
  },
  {
   "cell_type": "markdown",
   "metadata": {},
   "source": [
    "### Distribution of $X_{(1)}$\n",
    "- Have the joint pdf of $X_1,X_2,...,X_n$\n",
    "- How can we relate $X_{(1)}$ to $(X_1,X_2,...,X_n)$?\n",
    "- \"**Smallest value is bigger than x**\" is the same event as \"**all values are bigger than x**\"\n",
    "\n",
    "    $\\begin{aligned}\n",
    "    F_{(1)}(x)\n",
    "    &=P(X_{(1)}\\leq x)\\\\\n",
    "    &=1-P(X_{(1)}>x)\\\\\n",
    "    &=1-P(X_1>x,X_2>x,...,X_n>x)\\\\\n",
    "    &=1-P(X_1>x)P(X_2>x)\\cdots P(X_n>x)\\\\\n",
    "    &=1-(1-F(x))^n\n",
    "    \\end{aligned}$"
   ]
  },
  {
   "cell_type": "markdown",
   "metadata": {},
   "source": [
    "### Distribution of $X_{(n)}$\n",
    "- Theorem for $j=n$:\n",
    "    \n",
    "    $F_{(n)}(x)=\\sum_{k=n}^n\\binom{n}{n}F(x)^n(1-F(x))^{n-n}=F(x)^n$\n",
    "\n",
    "    $f_{(n)}(x)=\\frac{n!}{(n-1)!(n-n)!}f(x)F(x)^{n-1}(1-F(x))^{n-n}=nf(x)F(x)^{n-1}$\n",
    "\n",
    "- How can we relate $X_{(n)}$ to $(X_1,X_2,...,X_n)$?\n",
    "- \"**Largest value is less than x**\" is the same event as \"**all values are less than x**\"\n",
    "\n",
    "    $\\begin{aligned}\n",
    "    F_{(n)}(x)\n",
    "    &=P(X_{(n)}\\leq x)\\\\\n",
    "    &=P(X_1\\leq x,X_2\\leq x,...,X_n\\leq x)\\\\\n",
    "    &=P(X_1\\leq x)P(X_2\\leq x)\\cdots P(X_n\\leq x)\\\\\n",
    "    &=F(x)F(x)...F(x)=F(x)^n\n",
    "    \\end{aligned}$"
   ]
  },
  {
   "cell_type": "markdown",
   "metadata": {},
   "source": [
    "### Distribution of $X_{(j)},j=2,...,n-1$\n",
    "- How can we relate $X_{(j)}$ to $(X_1,X_2,...,X_n)$?\n",
    "- \"$X_{(j)}\\leq x$\" is the same event as \"all least j of the random variables are less than x\"\n",
    "    - Define a new random variable\n",
    "\n",
    "        $Y$ = number of $X_{i}$'s that are $\\leq x$\n",
    "\n",
    "        $Y_{i}=\\begin{cases}1&\\mathrm{if~}X_{i}\\leq x\\\\0&otherwise\\end{cases}$\n",
    "\n",
    "        $Y_1,Y_2,...,Y_n\\sim Bernoulli(p_i),p_i=P(Y_i=1)=P(X_i\\leq x)=F(x)$\n",
    "\n",
    "        $Y\\sim Binomial(n,F(x))$\n",
    "\n",
    "        Thus, we can use $n$ times Bernoulli trials to explain it, $k$ is the number of $X_{i}$'s that are $\\leq x$.\n",
    "\n",
    "        $F_{(j)}(x)=\\sum_{k=j}^n\\binom{n}{k}F(x)^k(1-F(x))^{n-k}$\n",
    "\n",
    "        $f_{(j)}(x)=\\frac{n!}{(j-1)!(n-j)!}f(x)F(x)^{j-1}(1-F(x))^{n-j}=\\frac{d}{dx}F_{(j)}(x)$"
   ]
  },
  {
   "cell_type": "markdown",
   "metadata": {},
   "source": [
    "### Example: Order stats for Uniform\n",
    "Let $X_{(1)},X_{(2)},...,X_{(n)}$ be order statistics from a random sample $X_1,X_2,...,X_n$ from the $Uniform(0,1)$. What are the marginal pdfs of $X_{(1)},X_{(2)},...,X_{(n)}$?\n",
    "\n",
    "$X_1,X_2,...,X_n$ iid $uniform(0,1)\\Rightarrow f(x)=1$, for $x\\in(0,1)$, and cdf $\\begin{aligned}\n",
    "F(x) & =\n",
    "\\begin{cases}\n",
    "x & for,x\\in(0,1) \\\\\n",
    "0 & x\\in(-\\infty,0) \\\\\n",
    "1 & x\\in[1,\\infty) & \n",
    "\\end{cases}\n",
    "\\end{aligned}$\n",
    "\n",
    "$\\begin{aligned}\n",
    "f_{(j)}(x)\n",
    "&=\\frac{n!}{(j-1)!(n-j)!}f(x)F(x)^{j-1}(1-F(x))^{n-j}\\\\\n",
    "&=\\frac{n!}{(j-1)!(n-j)!}x^{j-1}(1-x)^{n-j},x\\in(0,1)\\\\\n",
    "&=\\frac{\\Gamma(n+1)}{\\Gamma(j)\\Gamma(n-j+1)!}x^{j-1}\\left(1-x\\right)^{(n-j+1)-1},x\\in(0,1)\n",
    "\\end{aligned}$\n",
    "\n",
    "Recall, the pdf of $Beta(\\alpha,\\beta)$\n",
    "\n",
    "$f(x\\mid\\alpha,\\beta)=\\frac{\\Gamma(\\alpha+\\beta)}{\\Gamma(\\alpha)\\Gamma(\\beta)}x^{(\\alpha-1)}(1-x)^{\\beta-1}$\n",
    "\n",
    "Thus, $\\alpha=j,\\beta=n-j+1, X_{(j)}\\sim Beta(j,n-j+1)$\n",
    "\n",
    "- Example: $X_1,X_2,...,X_9$ iid $Uniform(0,1)$\n",
    "    - $X_{(1)}=Beta(1,9),X_{(2)}=Beta(2,8),...,X_{(9)}=Beta(9,1)$"
   ]
  },
  {
   "cell_type": "markdown",
   "metadata": {},
   "source": [
    "### Joint distribution of order statistics"
   ]
  }
 ],
 "metadata": {
  "language_info": {
   "name": "python"
  }
 },
 "nbformat": 4,
 "nbformat_minor": 2
}
