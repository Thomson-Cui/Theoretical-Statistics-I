{
 "cells": [
  {
   "cell_type": "markdown",
   "metadata": {},
   "source": [
    "## Definition of a random sample"
   ]
  },
  {
   "cell_type": "markdown",
   "metadata": {},
   "source": [
    "### Random sample\n",
    "Random variables $X_1,...,X_n$ are called a random sample of size $n$ from the population $f(x)$\n",
    "- If $X_1,...X_n$ are\n",
    "    - mutually independent, and\n",
    "    - marginal pmf/pdf of each $X_i$ is $f(x)$\n",
    "    - Alternative name for a random sample:\n",
    "        - Independent and identically distributed (iid) random variables with pdf or pmf $f(x)$\n",
    "        - i.i.d. $f(x)$ = random sample from $f(x)$\n",
    "\n"
   ]
  },
  {
   "cell_type": "markdown",
   "metadata": {},
   "source": [
    "### Random Samples and Statistical inference"
   ]
  },
  {
   "cell_type": "markdown",
   "metadata": {},
   "source": [
    "- We view data as **observations of random variables**\n",
    "- Usually have more than one observation\n",
    "    \n",
    "    $X_1, X_2,..., X_n$\n",
    "\n",
    "    - Can often assume that $X_1,X_2,...,X_n$ is a **random sample**\n",
    "\n",
    "- We model the data by specifiying a joint distribution\n",
    "\n",
    "    $f(x_1,x_2,...,x_n|\\theta)$\n",
    "\n",
    "    - $\\theta$ is unknown\n",
    "    - with the goal of \n",
    "        - learning about (estimating) $\\theta$ and/or\n",
    "        - predicting observations of $X_{n+1},X_{n+2},...$\n",
    "\n",
    "- Use some summary of the data to do this\n",
    "    - Need to find the distribution of that summary $\\to$ **sampling distribution**"
   ]
  },
  {
   "cell_type": "markdown",
   "metadata": {},
   "source": [
    "#### Example: \n",
    "\n",
    "- Say we collected data on temperatures at CLE airport.\n",
    "- Say data points are $X_1 = 11^{\\circ}C, X_2=12^{\\circ}C, X_3=12.2^{\\circ}C,...,X_n=17^{\\circ}C$\n",
    "- We will assume that $X_1,X_2,...,X_n$ are realizations of random variables.\n",
    "\n",
    "    - $X_1,X_2,...,X_n$\n",
    "\n",
    "- If $X_1,X_2,...,X_n$ are random sample from $f(x)$, then $f(x)$ can be seen as the (population) distribution of temperatures at all times at CLE.\n",
    "\n",
    "- Calculate e.g. $\\hat{X}=\\frac{1}{n}\\sum_{i=1}^{n}X_i$\n",
    "\n",
    "- Distribution of $\\hat{X}$ is sampling distribution."
   ]
  },
  {
   "cell_type": "markdown",
   "metadata": {},
   "source": [
    "### About random samples\n",
    "\n",
    "- Recall: Random variables $X_1,X_2,...,X_n$ are mutually independent iif\n",
    "\n",
    "    $f(x_1,...,x_n)=f_1(x_1)\\times...\\times f_n(x_n)$\n",
    "\n",
    "    where $f_i(x_i)$ is the marginal pdf/pmf of $X_i$.\n",
    "\n",
    "- So, what is the joint pdf/pmf of a random sample from $f(x)$?\n",
    "    - $f_i(x_i)=f(x_i)$ for all $i$, so\n",
    "\n",
    "        $\\begin{aligned}\n",
    "        f(x_1,...,x_n)&=f_1(x_1)\\times\\cdots\\times f_n(x_n)\\\\\n",
    "                      &=f(x_1)\\times\\cdots\\times f(x_n)\\\\\n",
    "                      &=\\sum_{i=1}^{n}f(x_i)\n",
    "        \\end{aligned}$"
   ]
  },
  {
   "cell_type": "markdown",
   "metadata": {},
   "source": [
    "### Mutually independent"
   ]
  },
  {
   "cell_type": "markdown",
   "metadata": {},
   "source": [
    "- Random variables $X_1,...,X_n$ are (mutually) independent iif\n",
    "\n",
    "    $f(x_1,...,x_n)=f_1(x_1)\\times\\cdots\\times f_n(x_n)$\n",
    "\n",
    "    where $f_i(x_i)$ is the marginal pdf/pmf of $X_i$.\n"
   ]
  }
 ],
 "metadata": {
  "language_info": {
   "name": "python"
  }
 },
 "nbformat": 4,
 "nbformat_minor": 2
}
